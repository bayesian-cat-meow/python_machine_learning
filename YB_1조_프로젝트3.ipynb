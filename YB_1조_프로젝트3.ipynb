{
  "nbformat": 4,
  "nbformat_minor": 0,
  "metadata": {
    "colab": {
      "provenance": [],
      "toc_visible": true
    },
    "kernelspec": {
      "name": "python3",
      "display_name": "Python 3"
    },
    "language_info": {
      "name": "python"
    }
  },
  "cells": [
    {
      "cell_type": "markdown",
      "source": [
        "# 1. 데이터 불러오기"
      ],
      "metadata": {
        "id": "p9mxFZyCXwss"
      }
    },
    {
      "cell_type": "code",
      "execution_count": 2,
      "metadata": {
        "id": "r3XiX9FHSctD"
      },
      "outputs": [],
      "source": [
        "import pandas as pd\n",
        "import numpy as np\n",
        "import seaborn as sns\n",
        "import matplotlib.pyplot as plt\n",
        "\n",
        "import warnings #경고메시지 무시\n",
        "warnings.filterwarnings(action='ignore')"
      ]
    },
    {
      "cell_type": "code",
      "source": [
        "train = pd.read_csv('/content/movies_train.csv')\n",
        "test = pd.read_csv('/content/movies_test.csv')\n",
        "submission = pd.read_csv('/content/submission.csv')"
      ],
      "metadata": {
        "id": "1v_KfeB5SgBS"
      },
      "execution_count": 3,
      "outputs": []
    },
    {
      "cell_type": "markdown",
      "source": [
        "# 2. 데이터 전처리"
      ],
      "metadata": {
        "id": "WuIt5OQhtxm7"
      }
    },
    {
      "cell_type": "code",
      "source": [
        "#날짜 변수 바꿔주기\n",
        "from datetime import datetime\n",
        "train['release_time'] = pd.to_datetime(train['release_time'])\n",
        "test['release_time'] = pd.to_datetime(test['release_time'])"
      ],
      "metadata": {
        "id": "k0Vpls2KSkHN"
      },
      "execution_count": 4,
      "outputs": []
    },
    {
      "cell_type": "code",
      "source": [
        "train = train.fillna(0)\n",
        "test = test.fillna(0)"
      ],
      "metadata": {
        "id": "3vjbQrWRSmIG"
      },
      "execution_count": 5,
      "outputs": []
    },
    {
      "cell_type": "code",
      "source": [
        "train = pd.get_dummies(train, columns=['genre'],dtype=int)\n",
        "test = pd.get_dummies(test, columns=['genre'],dtype=int)"
      ],
      "metadata": {
        "id": "KpgQoQ4tS9lp"
      },
      "execution_count": 6,
      "outputs": []
    },
    {
      "cell_type": "code",
      "source": [
        "train = pd.get_dummies(train, columns=['screening_rat'],dtype=int)\n",
        "test = pd.get_dummies(test, columns=['screening_rat'],dtype=int)"
      ],
      "metadata": {
        "id": "PxTOSecxTAtk"
      },
      "execution_count": 7,
      "outputs": []
    },
    {
      "cell_type": "code",
      "source": [
        "train['release_year'] = train['release_time'].dt.year\n",
        "train['release_month'] = train['release_time'].dt.month\n",
        "\n",
        "test['release_year'] = test['release_time'].dt.year\n",
        "test['release_month'] = test['release_time'].dt.month"
      ],
      "metadata": {
        "id": "L8qgrZIvWjwU"
      },
      "execution_count": null,
      "outputs": []
    },
    {
      "cell_type": "code",
      "source": [
        "train = pd.get_dummies(train, columns=['release_year'],dtype=int)\n",
        "train = pd.get_dummies(train, columns=['release_month'],dtype=int)\n",
        "\n",
        "test = pd.get_dummies(test, columns=['release_year'],dtype=int)\n",
        "test = pd.get_dummies(test, columns=['release_month'],dtype=int)"
      ],
      "metadata": {
        "id": "eUbl1yppW2id"
      },
      "execution_count": null,
      "outputs": []
    },
    {
      "cell_type": "markdown",
      "source": [
        "## 배급사 인코딩"
      ],
      "metadata": {
        "id": "LxgEuFZwmONl"
      }
    },
    {
      "cell_type": "code",
      "source": [
        "def get_dis(x) :\n",
        "    if 'CJ' in x or 'CGV' in x :\n",
        "        return 'CJ'\n",
        "    elif '쇼박스' in x :\n",
        "        return '쇼박스'\n",
        "    elif 'SK' in x :\n",
        "        return 'SK'\n",
        "    elif '리틀빅픽' in x :\n",
        "        return '리틀빅픽처스'\n",
        "    elif '스폰지' in x :\n",
        "        return '스폰지'\n",
        "    elif '싸이더스' in x :\n",
        "        return '싸이더스'\n",
        "    elif '에이원' in x :\n",
        "        return '에이원'\n",
        "    elif '마인스' in x :\n",
        "        return '마인스'\n",
        "    elif '마운틴픽' in x :\n",
        "        return '마운틴픽처스'\n",
        "    elif '디씨드' in x :\n",
        "        return '디씨드'\n",
        "    elif '드림팩트' in x :\n",
        "        return '드림팩트'\n",
        "    elif '메가박스' in x :\n",
        "        return '메가박스'\n",
        "    elif '마운틴' in x :\n",
        "        return '마운틴'\n",
        "    else :\n",
        "        return x"
      ],
      "metadata": {
        "id": "zKugJ-53mPkh"
      },
      "execution_count": null,
      "outputs": []
    },
    {
      "cell_type": "code",
      "source": [
        "train['distributor'] = train.distributor.apply(get_dis)\n",
        "test['distributor'] = test.distributor.apply(get_dis)"
      ],
      "metadata": {
        "id": "KFVYiDKTmSIH"
      },
      "execution_count": null,
      "outputs": []
    },
    {
      "cell_type": "code",
      "source": [
        "tr_nm_rank = train.groupby('distributor').box_off_num.median().reset_index(name = 'num_rank').sort_values(by = 'num_rank')\n",
        "tr_nm_rank"
      ],
      "metadata": {
        "colab": {
          "base_uri": "https://localhost:8080/",
          "height": 424
        },
        "id": "wtxZCcPKmUDE",
        "outputId": "9c680bad-ec4a-46a1-cd70-9a86ec2e29a8"
      },
      "execution_count": null,
      "outputs": [
        {
          "output_type": "execute_result",
          "data": {
            "text/plain": [
              "      distributor   num_rank\n",
              "124    인피니티엔터테인먼트        2.0\n",
              "51         고구마공작소        8.0\n",
              "78        사람과 사람들       42.0\n",
              "114         위드시네마       46.0\n",
              "54          나우콘텐츠       54.0\n",
              "..            ...        ...\n",
              "126       전망좋은영화사  1214237.0\n",
              "119  이십세기폭스코리아(주)  1422844.0\n",
              "82            쇼박스  2138560.0\n",
              "104        영구아트무비  2541603.0\n",
              "21   (주)아이필름코퍼레이션  3117859.0\n",
              "\n",
              "[152 rows x 2 columns]"
            ],
            "text/html": [
              "\n",
              "  <div id=\"df-45c9b1e9-9d98-46c6-aa07-fc69f4d57b10\" class=\"colab-df-container\">\n",
              "    <div>\n",
              "<style scoped>\n",
              "    .dataframe tbody tr th:only-of-type {\n",
              "        vertical-align: middle;\n",
              "    }\n",
              "\n",
              "    .dataframe tbody tr th {\n",
              "        vertical-align: top;\n",
              "    }\n",
              "\n",
              "    .dataframe thead th {\n",
              "        text-align: right;\n",
              "    }\n",
              "</style>\n",
              "<table border=\"1\" class=\"dataframe\">\n",
              "  <thead>\n",
              "    <tr style=\"text-align: right;\">\n",
              "      <th></th>\n",
              "      <th>distributor</th>\n",
              "      <th>num_rank</th>\n",
              "    </tr>\n",
              "  </thead>\n",
              "  <tbody>\n",
              "    <tr>\n",
              "      <th>124</th>\n",
              "      <td>인피니티엔터테인먼트</td>\n",
              "      <td>2.0</td>\n",
              "    </tr>\n",
              "    <tr>\n",
              "      <th>51</th>\n",
              "      <td>고구마공작소</td>\n",
              "      <td>8.0</td>\n",
              "    </tr>\n",
              "    <tr>\n",
              "      <th>78</th>\n",
              "      <td>사람과 사람들</td>\n",
              "      <td>42.0</td>\n",
              "    </tr>\n",
              "    <tr>\n",
              "      <th>114</th>\n",
              "      <td>위드시네마</td>\n",
              "      <td>46.0</td>\n",
              "    </tr>\n",
              "    <tr>\n",
              "      <th>54</th>\n",
              "      <td>나우콘텐츠</td>\n",
              "      <td>54.0</td>\n",
              "    </tr>\n",
              "    <tr>\n",
              "      <th>...</th>\n",
              "      <td>...</td>\n",
              "      <td>...</td>\n",
              "    </tr>\n",
              "    <tr>\n",
              "      <th>126</th>\n",
              "      <td>전망좋은영화사</td>\n",
              "      <td>1214237.0</td>\n",
              "    </tr>\n",
              "    <tr>\n",
              "      <th>119</th>\n",
              "      <td>이십세기폭스코리아(주)</td>\n",
              "      <td>1422844.0</td>\n",
              "    </tr>\n",
              "    <tr>\n",
              "      <th>82</th>\n",
              "      <td>쇼박스</td>\n",
              "      <td>2138560.0</td>\n",
              "    </tr>\n",
              "    <tr>\n",
              "      <th>104</th>\n",
              "      <td>영구아트무비</td>\n",
              "      <td>2541603.0</td>\n",
              "    </tr>\n",
              "    <tr>\n",
              "      <th>21</th>\n",
              "      <td>(주)아이필름코퍼레이션</td>\n",
              "      <td>3117859.0</td>\n",
              "    </tr>\n",
              "  </tbody>\n",
              "</table>\n",
              "<p>152 rows × 2 columns</p>\n",
              "</div>\n",
              "    <div class=\"colab-df-buttons\">\n",
              "\n",
              "  <div class=\"colab-df-container\">\n",
              "    <button class=\"colab-df-convert\" onclick=\"convertToInteractive('df-45c9b1e9-9d98-46c6-aa07-fc69f4d57b10')\"\n",
              "            title=\"Convert this dataframe to an interactive table.\"\n",
              "            style=\"display:none;\">\n",
              "\n",
              "  <svg xmlns=\"http://www.w3.org/2000/svg\" height=\"24px\" viewBox=\"0 -960 960 960\">\n",
              "    <path d=\"M120-120v-720h720v720H120Zm60-500h600v-160H180v160Zm220 220h160v-160H400v160Zm0 220h160v-160H400v160ZM180-400h160v-160H180v160Zm440 0h160v-160H620v160ZM180-180h160v-160H180v160Zm440 0h160v-160H620v160Z\"/>\n",
              "  </svg>\n",
              "    </button>\n",
              "\n",
              "  <style>\n",
              "    .colab-df-container {\n",
              "      display:flex;\n",
              "      gap: 12px;\n",
              "    }\n",
              "\n",
              "    .colab-df-convert {\n",
              "      background-color: #E8F0FE;\n",
              "      border: none;\n",
              "      border-radius: 50%;\n",
              "      cursor: pointer;\n",
              "      display: none;\n",
              "      fill: #1967D2;\n",
              "      height: 32px;\n",
              "      padding: 0 0 0 0;\n",
              "      width: 32px;\n",
              "    }\n",
              "\n",
              "    .colab-df-convert:hover {\n",
              "      background-color: #E2EBFA;\n",
              "      box-shadow: 0px 1px 2px rgba(60, 64, 67, 0.3), 0px 1px 3px 1px rgba(60, 64, 67, 0.15);\n",
              "      fill: #174EA6;\n",
              "    }\n",
              "\n",
              "    .colab-df-buttons div {\n",
              "      margin-bottom: 4px;\n",
              "    }\n",
              "\n",
              "    [theme=dark] .colab-df-convert {\n",
              "      background-color: #3B4455;\n",
              "      fill: #D2E3FC;\n",
              "    }\n",
              "\n",
              "    [theme=dark] .colab-df-convert:hover {\n",
              "      background-color: #434B5C;\n",
              "      box-shadow: 0px 1px 3px 1px rgba(0, 0, 0, 0.15);\n",
              "      filter: drop-shadow(0px 1px 2px rgba(0, 0, 0, 0.3));\n",
              "      fill: #FFFFFF;\n",
              "    }\n",
              "  </style>\n",
              "\n",
              "    <script>\n",
              "      const buttonEl =\n",
              "        document.querySelector('#df-45c9b1e9-9d98-46c6-aa07-fc69f4d57b10 button.colab-df-convert');\n",
              "      buttonEl.style.display =\n",
              "        google.colab.kernel.accessAllowed ? 'block' : 'none';\n",
              "\n",
              "      async function convertToInteractive(key) {\n",
              "        const element = document.querySelector('#df-45c9b1e9-9d98-46c6-aa07-fc69f4d57b10');\n",
              "        const dataTable =\n",
              "          await google.colab.kernel.invokeFunction('convertToInteractive',\n",
              "                                                    [key], {});\n",
              "        if (!dataTable) return;\n",
              "\n",
              "        const docLinkHtml = 'Like what you see? Visit the ' +\n",
              "          '<a target=\"_blank\" href=https://colab.research.google.com/notebooks/data_table.ipynb>data table notebook</a>'\n",
              "          + ' to learn more about interactive tables.';\n",
              "        element.innerHTML = '';\n",
              "        dataTable['output_type'] = 'display_data';\n",
              "        await google.colab.output.renderOutput(dataTable, element);\n",
              "        const docLink = document.createElement('div');\n",
              "        docLink.innerHTML = docLinkHtml;\n",
              "        element.appendChild(docLink);\n",
              "      }\n",
              "    </script>\n",
              "  </div>\n",
              "\n",
              "\n",
              "<div id=\"df-15d5d492-5b6b-46f2-94cc-75c173505ebb\">\n",
              "  <button class=\"colab-df-quickchart\" onclick=\"quickchart('df-15d5d492-5b6b-46f2-94cc-75c173505ebb')\"\n",
              "            title=\"Suggest charts\"\n",
              "            style=\"display:none;\">\n",
              "\n",
              "<svg xmlns=\"http://www.w3.org/2000/svg\" height=\"24px\"viewBox=\"0 0 24 24\"\n",
              "     width=\"24px\">\n",
              "    <g>\n",
              "        <path d=\"M19 3H5c-1.1 0-2 .9-2 2v14c0 1.1.9 2 2 2h14c1.1 0 2-.9 2-2V5c0-1.1-.9-2-2-2zM9 17H7v-7h2v7zm4 0h-2V7h2v10zm4 0h-2v-4h2v4z\"/>\n",
              "    </g>\n",
              "</svg>\n",
              "  </button>\n",
              "\n",
              "<style>\n",
              "  .colab-df-quickchart {\n",
              "      --bg-color: #E8F0FE;\n",
              "      --fill-color: #1967D2;\n",
              "      --hover-bg-color: #E2EBFA;\n",
              "      --hover-fill-color: #174EA6;\n",
              "      --disabled-fill-color: #AAA;\n",
              "      --disabled-bg-color: #DDD;\n",
              "  }\n",
              "\n",
              "  [theme=dark] .colab-df-quickchart {\n",
              "      --bg-color: #3B4455;\n",
              "      --fill-color: #D2E3FC;\n",
              "      --hover-bg-color: #434B5C;\n",
              "      --hover-fill-color: #FFFFFF;\n",
              "      --disabled-bg-color: #3B4455;\n",
              "      --disabled-fill-color: #666;\n",
              "  }\n",
              "\n",
              "  .colab-df-quickchart {\n",
              "    background-color: var(--bg-color);\n",
              "    border: none;\n",
              "    border-radius: 50%;\n",
              "    cursor: pointer;\n",
              "    display: none;\n",
              "    fill: var(--fill-color);\n",
              "    height: 32px;\n",
              "    padding: 0;\n",
              "    width: 32px;\n",
              "  }\n",
              "\n",
              "  .colab-df-quickchart:hover {\n",
              "    background-color: var(--hover-bg-color);\n",
              "    box-shadow: 0 1px 2px rgba(60, 64, 67, 0.3), 0 1px 3px 1px rgba(60, 64, 67, 0.15);\n",
              "    fill: var(--button-hover-fill-color);\n",
              "  }\n",
              "\n",
              "  .colab-df-quickchart-complete:disabled,\n",
              "  .colab-df-quickchart-complete:disabled:hover {\n",
              "    background-color: var(--disabled-bg-color);\n",
              "    fill: var(--disabled-fill-color);\n",
              "    box-shadow: none;\n",
              "  }\n",
              "\n",
              "  .colab-df-spinner {\n",
              "    border: 2px solid var(--fill-color);\n",
              "    border-color: transparent;\n",
              "    border-bottom-color: var(--fill-color);\n",
              "    animation:\n",
              "      spin 1s steps(1) infinite;\n",
              "  }\n",
              "\n",
              "  @keyframes spin {\n",
              "    0% {\n",
              "      border-color: transparent;\n",
              "      border-bottom-color: var(--fill-color);\n",
              "      border-left-color: var(--fill-color);\n",
              "    }\n",
              "    20% {\n",
              "      border-color: transparent;\n",
              "      border-left-color: var(--fill-color);\n",
              "      border-top-color: var(--fill-color);\n",
              "    }\n",
              "    30% {\n",
              "      border-color: transparent;\n",
              "      border-left-color: var(--fill-color);\n",
              "      border-top-color: var(--fill-color);\n",
              "      border-right-color: var(--fill-color);\n",
              "    }\n",
              "    40% {\n",
              "      border-color: transparent;\n",
              "      border-right-color: var(--fill-color);\n",
              "      border-top-color: var(--fill-color);\n",
              "    }\n",
              "    60% {\n",
              "      border-color: transparent;\n",
              "      border-right-color: var(--fill-color);\n",
              "    }\n",
              "    80% {\n",
              "      border-color: transparent;\n",
              "      border-right-color: var(--fill-color);\n",
              "      border-bottom-color: var(--fill-color);\n",
              "    }\n",
              "    90% {\n",
              "      border-color: transparent;\n",
              "      border-bottom-color: var(--fill-color);\n",
              "    }\n",
              "  }\n",
              "</style>\n",
              "\n",
              "  <script>\n",
              "    async function quickchart(key) {\n",
              "      const quickchartButtonEl =\n",
              "        document.querySelector('#' + key + ' button');\n",
              "      quickchartButtonEl.disabled = true;  // To prevent multiple clicks.\n",
              "      quickchartButtonEl.classList.add('colab-df-spinner');\n",
              "      try {\n",
              "        const charts = await google.colab.kernel.invokeFunction(\n",
              "            'suggestCharts', [key], {});\n",
              "      } catch (error) {\n",
              "        console.error('Error during call to suggestCharts:', error);\n",
              "      }\n",
              "      quickchartButtonEl.classList.remove('colab-df-spinner');\n",
              "      quickchartButtonEl.classList.add('colab-df-quickchart-complete');\n",
              "    }\n",
              "    (() => {\n",
              "      let quickchartButtonEl =\n",
              "        document.querySelector('#df-15d5d492-5b6b-46f2-94cc-75c173505ebb button');\n",
              "      quickchartButtonEl.style.display =\n",
              "        google.colab.kernel.accessAllowed ? 'block' : 'none';\n",
              "    })();\n",
              "  </script>\n",
              "</div>\n",
              "\n",
              "  <div id=\"id_fdc67db7-0374-45ba-bada-de36cb651244\">\n",
              "    <style>\n",
              "      .colab-df-generate {\n",
              "        background-color: #E8F0FE;\n",
              "        border: none;\n",
              "        border-radius: 50%;\n",
              "        cursor: pointer;\n",
              "        display: none;\n",
              "        fill: #1967D2;\n",
              "        height: 32px;\n",
              "        padding: 0 0 0 0;\n",
              "        width: 32px;\n",
              "      }\n",
              "\n",
              "      .colab-df-generate:hover {\n",
              "        background-color: #E2EBFA;\n",
              "        box-shadow: 0px 1px 2px rgba(60, 64, 67, 0.3), 0px 1px 3px 1px rgba(60, 64, 67, 0.15);\n",
              "        fill: #174EA6;\n",
              "      }\n",
              "\n",
              "      [theme=dark] .colab-df-generate {\n",
              "        background-color: #3B4455;\n",
              "        fill: #D2E3FC;\n",
              "      }\n",
              "\n",
              "      [theme=dark] .colab-df-generate:hover {\n",
              "        background-color: #434B5C;\n",
              "        box-shadow: 0px 1px 3px 1px rgba(0, 0, 0, 0.15);\n",
              "        filter: drop-shadow(0px 1px 2px rgba(0, 0, 0, 0.3));\n",
              "        fill: #FFFFFF;\n",
              "      }\n",
              "    </style>\n",
              "    <button class=\"colab-df-generate\" onclick=\"generateWithVariable('tr_nm_rank')\"\n",
              "            title=\"Generate code using this dataframe.\"\n",
              "            style=\"display:none;\">\n",
              "\n",
              "  <svg xmlns=\"http://www.w3.org/2000/svg\" height=\"24px\"viewBox=\"0 0 24 24\"\n",
              "       width=\"24px\">\n",
              "    <path d=\"M7,19H8.4L18.45,9,17,7.55,7,17.6ZM5,21V16.75L18.45,3.32a2,2,0,0,1,2.83,0l1.4,1.43a1.91,1.91,0,0,1,.58,1.4,1.91,1.91,0,0,1-.58,1.4L9.25,21ZM18.45,9,17,7.55Zm-12,3A5.31,5.31,0,0,0,4.9,8.1,5.31,5.31,0,0,0,1,6.5,5.31,5.31,0,0,0,4.9,4.9,5.31,5.31,0,0,0,6.5,1,5.31,5.31,0,0,0,8.1,4.9,5.31,5.31,0,0,0,12,6.5,5.46,5.46,0,0,0,6.5,12Z\"/>\n",
              "  </svg>\n",
              "    </button>\n",
              "    <script>\n",
              "      (() => {\n",
              "      const buttonEl =\n",
              "        document.querySelector('#id_fdc67db7-0374-45ba-bada-de36cb651244 button.colab-df-generate');\n",
              "      buttonEl.style.display =\n",
              "        google.colab.kernel.accessAllowed ? 'block' : 'none';\n",
              "\n",
              "      buttonEl.onclick = () => {\n",
              "        google.colab.notebook.generateWithVariable('tr_nm_rank');\n",
              "      }\n",
              "      })();\n",
              "    </script>\n",
              "  </div>\n",
              "\n",
              "    </div>\n",
              "  </div>\n"
            ],
            "application/vnd.google.colaboratory.intrinsic+json": {
              "type": "dataframe",
              "variable_name": "tr_nm_rank",
              "summary": "{\n  \"name\": \"tr_nm_rank\",\n  \"rows\": 152,\n  \"fields\": [\n    {\n      \"column\": \"distributor\",\n      \"properties\": {\n        \"dtype\": \"string\",\n        \"num_unique_values\": 152,\n        \"samples\": [\n          \"\\uc2dc\\ub124\\ub9c8 \\ub2ec\",\n          \"\\uc804\\ub9dd\\uc88b\\uc740\\uc601\\ud654\\uc0ac\",\n          \"\\uc870\\uc774\\uc564\\uc2dc\\ub124\\ub9c8\"\n        ],\n        \"semantic_type\": \"\",\n        \"description\": \"\"\n      }\n    },\n    {\n      \"column\": \"num_rank\",\n      \"properties\": {\n        \"dtype\": \"number\",\n        \"std\": 439930.3163446479,\n        \"min\": 2.0,\n        \"max\": 3117859.0,\n        \"num_unique_values\": 152,\n        \"samples\": [\n          2268.5,\n          1214237.0,\n          9179.0\n        ],\n        \"semantic_type\": \"\",\n        \"description\": \"\"\n      }\n    }\n  ]\n}"
            }
          },
          "metadata": {},
          "execution_count": 12
        }
      ]
    },
    {
      "cell_type": "code",
      "source": [
        "tr_nm_rank['num_rank'] = [i + 1 for i in range(tr_nm_rank.shape[0])]\n",
        "tr_nm_rank"
      ],
      "metadata": {
        "colab": {
          "base_uri": "https://localhost:8080/",
          "height": 424
        },
        "id": "U3zSFRmQmjFo",
        "outputId": "b2f2faaf-64b0-4e6c-94a5-7a470ec85288"
      },
      "execution_count": null,
      "outputs": [
        {
          "output_type": "execute_result",
          "data": {
            "text/plain": [
              "      distributor  num_rank\n",
              "124    인피니티엔터테인먼트         1\n",
              "51         고구마공작소         2\n",
              "78        사람과 사람들         3\n",
              "114         위드시네마         4\n",
              "54          나우콘텐츠         5\n",
              "..            ...       ...\n",
              "126       전망좋은영화사       148\n",
              "119  이십세기폭스코리아(주)       149\n",
              "82            쇼박스       150\n",
              "104        영구아트무비       151\n",
              "21   (주)아이필름코퍼레이션       152\n",
              "\n",
              "[152 rows x 2 columns]"
            ],
            "text/html": [
              "\n",
              "  <div id=\"df-b2cdf798-96db-4871-8e03-cdfd6bc714f6\" class=\"colab-df-container\">\n",
              "    <div>\n",
              "<style scoped>\n",
              "    .dataframe tbody tr th:only-of-type {\n",
              "        vertical-align: middle;\n",
              "    }\n",
              "\n",
              "    .dataframe tbody tr th {\n",
              "        vertical-align: top;\n",
              "    }\n",
              "\n",
              "    .dataframe thead th {\n",
              "        text-align: right;\n",
              "    }\n",
              "</style>\n",
              "<table border=\"1\" class=\"dataframe\">\n",
              "  <thead>\n",
              "    <tr style=\"text-align: right;\">\n",
              "      <th></th>\n",
              "      <th>distributor</th>\n",
              "      <th>num_rank</th>\n",
              "    </tr>\n",
              "  </thead>\n",
              "  <tbody>\n",
              "    <tr>\n",
              "      <th>124</th>\n",
              "      <td>인피니티엔터테인먼트</td>\n",
              "      <td>1</td>\n",
              "    </tr>\n",
              "    <tr>\n",
              "      <th>51</th>\n",
              "      <td>고구마공작소</td>\n",
              "      <td>2</td>\n",
              "    </tr>\n",
              "    <tr>\n",
              "      <th>78</th>\n",
              "      <td>사람과 사람들</td>\n",
              "      <td>3</td>\n",
              "    </tr>\n",
              "    <tr>\n",
              "      <th>114</th>\n",
              "      <td>위드시네마</td>\n",
              "      <td>4</td>\n",
              "    </tr>\n",
              "    <tr>\n",
              "      <th>54</th>\n",
              "      <td>나우콘텐츠</td>\n",
              "      <td>5</td>\n",
              "    </tr>\n",
              "    <tr>\n",
              "      <th>...</th>\n",
              "      <td>...</td>\n",
              "      <td>...</td>\n",
              "    </tr>\n",
              "    <tr>\n",
              "      <th>126</th>\n",
              "      <td>전망좋은영화사</td>\n",
              "      <td>148</td>\n",
              "    </tr>\n",
              "    <tr>\n",
              "      <th>119</th>\n",
              "      <td>이십세기폭스코리아(주)</td>\n",
              "      <td>149</td>\n",
              "    </tr>\n",
              "    <tr>\n",
              "      <th>82</th>\n",
              "      <td>쇼박스</td>\n",
              "      <td>150</td>\n",
              "    </tr>\n",
              "    <tr>\n",
              "      <th>104</th>\n",
              "      <td>영구아트무비</td>\n",
              "      <td>151</td>\n",
              "    </tr>\n",
              "    <tr>\n",
              "      <th>21</th>\n",
              "      <td>(주)아이필름코퍼레이션</td>\n",
              "      <td>152</td>\n",
              "    </tr>\n",
              "  </tbody>\n",
              "</table>\n",
              "<p>152 rows × 2 columns</p>\n",
              "</div>\n",
              "    <div class=\"colab-df-buttons\">\n",
              "\n",
              "  <div class=\"colab-df-container\">\n",
              "    <button class=\"colab-df-convert\" onclick=\"convertToInteractive('df-b2cdf798-96db-4871-8e03-cdfd6bc714f6')\"\n",
              "            title=\"Convert this dataframe to an interactive table.\"\n",
              "            style=\"display:none;\">\n",
              "\n",
              "  <svg xmlns=\"http://www.w3.org/2000/svg\" height=\"24px\" viewBox=\"0 -960 960 960\">\n",
              "    <path d=\"M120-120v-720h720v720H120Zm60-500h600v-160H180v160Zm220 220h160v-160H400v160Zm0 220h160v-160H400v160ZM180-400h160v-160H180v160Zm440 0h160v-160H620v160ZM180-180h160v-160H180v160Zm440 0h160v-160H620v160Z\"/>\n",
              "  </svg>\n",
              "    </button>\n",
              "\n",
              "  <style>\n",
              "    .colab-df-container {\n",
              "      display:flex;\n",
              "      gap: 12px;\n",
              "    }\n",
              "\n",
              "    .colab-df-convert {\n",
              "      background-color: #E8F0FE;\n",
              "      border: none;\n",
              "      border-radius: 50%;\n",
              "      cursor: pointer;\n",
              "      display: none;\n",
              "      fill: #1967D2;\n",
              "      height: 32px;\n",
              "      padding: 0 0 0 0;\n",
              "      width: 32px;\n",
              "    }\n",
              "\n",
              "    .colab-df-convert:hover {\n",
              "      background-color: #E2EBFA;\n",
              "      box-shadow: 0px 1px 2px rgba(60, 64, 67, 0.3), 0px 1px 3px 1px rgba(60, 64, 67, 0.15);\n",
              "      fill: #174EA6;\n",
              "    }\n",
              "\n",
              "    .colab-df-buttons div {\n",
              "      margin-bottom: 4px;\n",
              "    }\n",
              "\n",
              "    [theme=dark] .colab-df-convert {\n",
              "      background-color: #3B4455;\n",
              "      fill: #D2E3FC;\n",
              "    }\n",
              "\n",
              "    [theme=dark] .colab-df-convert:hover {\n",
              "      background-color: #434B5C;\n",
              "      box-shadow: 0px 1px 3px 1px rgba(0, 0, 0, 0.15);\n",
              "      filter: drop-shadow(0px 1px 2px rgba(0, 0, 0, 0.3));\n",
              "      fill: #FFFFFF;\n",
              "    }\n",
              "  </style>\n",
              "\n",
              "    <script>\n",
              "      const buttonEl =\n",
              "        document.querySelector('#df-b2cdf798-96db-4871-8e03-cdfd6bc714f6 button.colab-df-convert');\n",
              "      buttonEl.style.display =\n",
              "        google.colab.kernel.accessAllowed ? 'block' : 'none';\n",
              "\n",
              "      async function convertToInteractive(key) {\n",
              "        const element = document.querySelector('#df-b2cdf798-96db-4871-8e03-cdfd6bc714f6');\n",
              "        const dataTable =\n",
              "          await google.colab.kernel.invokeFunction('convertToInteractive',\n",
              "                                                    [key], {});\n",
              "        if (!dataTable) return;\n",
              "\n",
              "        const docLinkHtml = 'Like what you see? Visit the ' +\n",
              "          '<a target=\"_blank\" href=https://colab.research.google.com/notebooks/data_table.ipynb>data table notebook</a>'\n",
              "          + ' to learn more about interactive tables.';\n",
              "        element.innerHTML = '';\n",
              "        dataTable['output_type'] = 'display_data';\n",
              "        await google.colab.output.renderOutput(dataTable, element);\n",
              "        const docLink = document.createElement('div');\n",
              "        docLink.innerHTML = docLinkHtml;\n",
              "        element.appendChild(docLink);\n",
              "      }\n",
              "    </script>\n",
              "  </div>\n",
              "\n",
              "\n",
              "<div id=\"df-e283dd8e-ca9a-433c-91fb-72110ddeff3b\">\n",
              "  <button class=\"colab-df-quickchart\" onclick=\"quickchart('df-e283dd8e-ca9a-433c-91fb-72110ddeff3b')\"\n",
              "            title=\"Suggest charts\"\n",
              "            style=\"display:none;\">\n",
              "\n",
              "<svg xmlns=\"http://www.w3.org/2000/svg\" height=\"24px\"viewBox=\"0 0 24 24\"\n",
              "     width=\"24px\">\n",
              "    <g>\n",
              "        <path d=\"M19 3H5c-1.1 0-2 .9-2 2v14c0 1.1.9 2 2 2h14c1.1 0 2-.9 2-2V5c0-1.1-.9-2-2-2zM9 17H7v-7h2v7zm4 0h-2V7h2v10zm4 0h-2v-4h2v4z\"/>\n",
              "    </g>\n",
              "</svg>\n",
              "  </button>\n",
              "\n",
              "<style>\n",
              "  .colab-df-quickchart {\n",
              "      --bg-color: #E8F0FE;\n",
              "      --fill-color: #1967D2;\n",
              "      --hover-bg-color: #E2EBFA;\n",
              "      --hover-fill-color: #174EA6;\n",
              "      --disabled-fill-color: #AAA;\n",
              "      --disabled-bg-color: #DDD;\n",
              "  }\n",
              "\n",
              "  [theme=dark] .colab-df-quickchart {\n",
              "      --bg-color: #3B4455;\n",
              "      --fill-color: #D2E3FC;\n",
              "      --hover-bg-color: #434B5C;\n",
              "      --hover-fill-color: #FFFFFF;\n",
              "      --disabled-bg-color: #3B4455;\n",
              "      --disabled-fill-color: #666;\n",
              "  }\n",
              "\n",
              "  .colab-df-quickchart {\n",
              "    background-color: var(--bg-color);\n",
              "    border: none;\n",
              "    border-radius: 50%;\n",
              "    cursor: pointer;\n",
              "    display: none;\n",
              "    fill: var(--fill-color);\n",
              "    height: 32px;\n",
              "    padding: 0;\n",
              "    width: 32px;\n",
              "  }\n",
              "\n",
              "  .colab-df-quickchart:hover {\n",
              "    background-color: var(--hover-bg-color);\n",
              "    box-shadow: 0 1px 2px rgba(60, 64, 67, 0.3), 0 1px 3px 1px rgba(60, 64, 67, 0.15);\n",
              "    fill: var(--button-hover-fill-color);\n",
              "  }\n",
              "\n",
              "  .colab-df-quickchart-complete:disabled,\n",
              "  .colab-df-quickchart-complete:disabled:hover {\n",
              "    background-color: var(--disabled-bg-color);\n",
              "    fill: var(--disabled-fill-color);\n",
              "    box-shadow: none;\n",
              "  }\n",
              "\n",
              "  .colab-df-spinner {\n",
              "    border: 2px solid var(--fill-color);\n",
              "    border-color: transparent;\n",
              "    border-bottom-color: var(--fill-color);\n",
              "    animation:\n",
              "      spin 1s steps(1) infinite;\n",
              "  }\n",
              "\n",
              "  @keyframes spin {\n",
              "    0% {\n",
              "      border-color: transparent;\n",
              "      border-bottom-color: var(--fill-color);\n",
              "      border-left-color: var(--fill-color);\n",
              "    }\n",
              "    20% {\n",
              "      border-color: transparent;\n",
              "      border-left-color: var(--fill-color);\n",
              "      border-top-color: var(--fill-color);\n",
              "    }\n",
              "    30% {\n",
              "      border-color: transparent;\n",
              "      border-left-color: var(--fill-color);\n",
              "      border-top-color: var(--fill-color);\n",
              "      border-right-color: var(--fill-color);\n",
              "    }\n",
              "    40% {\n",
              "      border-color: transparent;\n",
              "      border-right-color: var(--fill-color);\n",
              "      border-top-color: var(--fill-color);\n",
              "    }\n",
              "    60% {\n",
              "      border-color: transparent;\n",
              "      border-right-color: var(--fill-color);\n",
              "    }\n",
              "    80% {\n",
              "      border-color: transparent;\n",
              "      border-right-color: var(--fill-color);\n",
              "      border-bottom-color: var(--fill-color);\n",
              "    }\n",
              "    90% {\n",
              "      border-color: transparent;\n",
              "      border-bottom-color: var(--fill-color);\n",
              "    }\n",
              "  }\n",
              "</style>\n",
              "\n",
              "  <script>\n",
              "    async function quickchart(key) {\n",
              "      const quickchartButtonEl =\n",
              "        document.querySelector('#' + key + ' button');\n",
              "      quickchartButtonEl.disabled = true;  // To prevent multiple clicks.\n",
              "      quickchartButtonEl.classList.add('colab-df-spinner');\n",
              "      try {\n",
              "        const charts = await google.colab.kernel.invokeFunction(\n",
              "            'suggestCharts', [key], {});\n",
              "      } catch (error) {\n",
              "        console.error('Error during call to suggestCharts:', error);\n",
              "      }\n",
              "      quickchartButtonEl.classList.remove('colab-df-spinner');\n",
              "      quickchartButtonEl.classList.add('colab-df-quickchart-complete');\n",
              "    }\n",
              "    (() => {\n",
              "      let quickchartButtonEl =\n",
              "        document.querySelector('#df-e283dd8e-ca9a-433c-91fb-72110ddeff3b button');\n",
              "      quickchartButtonEl.style.display =\n",
              "        google.colab.kernel.accessAllowed ? 'block' : 'none';\n",
              "    })();\n",
              "  </script>\n",
              "</div>\n",
              "\n",
              "  <div id=\"id_2fb72cbc-d8d2-47c5-bc63-c04c02257fea\">\n",
              "    <style>\n",
              "      .colab-df-generate {\n",
              "        background-color: #E8F0FE;\n",
              "        border: none;\n",
              "        border-radius: 50%;\n",
              "        cursor: pointer;\n",
              "        display: none;\n",
              "        fill: #1967D2;\n",
              "        height: 32px;\n",
              "        padding: 0 0 0 0;\n",
              "        width: 32px;\n",
              "      }\n",
              "\n",
              "      .colab-df-generate:hover {\n",
              "        background-color: #E2EBFA;\n",
              "        box-shadow: 0px 1px 2px rgba(60, 64, 67, 0.3), 0px 1px 3px 1px rgba(60, 64, 67, 0.15);\n",
              "        fill: #174EA6;\n",
              "      }\n",
              "\n",
              "      [theme=dark] .colab-df-generate {\n",
              "        background-color: #3B4455;\n",
              "        fill: #D2E3FC;\n",
              "      }\n",
              "\n",
              "      [theme=dark] .colab-df-generate:hover {\n",
              "        background-color: #434B5C;\n",
              "        box-shadow: 0px 1px 3px 1px rgba(0, 0, 0, 0.15);\n",
              "        filter: drop-shadow(0px 1px 2px rgba(0, 0, 0, 0.3));\n",
              "        fill: #FFFFFF;\n",
              "      }\n",
              "    </style>\n",
              "    <button class=\"colab-df-generate\" onclick=\"generateWithVariable('tr_nm_rank')\"\n",
              "            title=\"Generate code using this dataframe.\"\n",
              "            style=\"display:none;\">\n",
              "\n",
              "  <svg xmlns=\"http://www.w3.org/2000/svg\" height=\"24px\"viewBox=\"0 0 24 24\"\n",
              "       width=\"24px\">\n",
              "    <path d=\"M7,19H8.4L18.45,9,17,7.55,7,17.6ZM5,21V16.75L18.45,3.32a2,2,0,0,1,2.83,0l1.4,1.43a1.91,1.91,0,0,1,.58,1.4,1.91,1.91,0,0,1-.58,1.4L9.25,21ZM18.45,9,17,7.55Zm-12,3A5.31,5.31,0,0,0,4.9,8.1,5.31,5.31,0,0,0,1,6.5,5.31,5.31,0,0,0,4.9,4.9,5.31,5.31,0,0,0,6.5,1,5.31,5.31,0,0,0,8.1,4.9,5.31,5.31,0,0,0,12,6.5,5.46,5.46,0,0,0,6.5,12Z\"/>\n",
              "  </svg>\n",
              "    </button>\n",
              "    <script>\n",
              "      (() => {\n",
              "      const buttonEl =\n",
              "        document.querySelector('#id_2fb72cbc-d8d2-47c5-bc63-c04c02257fea button.colab-df-generate');\n",
              "      buttonEl.style.display =\n",
              "        google.colab.kernel.accessAllowed ? 'block' : 'none';\n",
              "\n",
              "      buttonEl.onclick = () => {\n",
              "        google.colab.notebook.generateWithVariable('tr_nm_rank');\n",
              "      }\n",
              "      })();\n",
              "    </script>\n",
              "  </div>\n",
              "\n",
              "    </div>\n",
              "  </div>\n"
            ],
            "application/vnd.google.colaboratory.intrinsic+json": {
              "type": "dataframe",
              "variable_name": "tr_nm_rank",
              "summary": "{\n  \"name\": \"tr_nm_rank\",\n  \"rows\": 152,\n  \"fields\": [\n    {\n      \"column\": \"distributor\",\n      \"properties\": {\n        \"dtype\": \"string\",\n        \"num_unique_values\": 152,\n        \"samples\": [\n          \"\\uc2dc\\ub124\\ub9c8 \\ub2ec\",\n          \"\\uc804\\ub9dd\\uc88b\\uc740\\uc601\\ud654\\uc0ac\",\n          \"\\uc870\\uc774\\uc564\\uc2dc\\ub124\\ub9c8\"\n        ],\n        \"semantic_type\": \"\",\n        \"description\": \"\"\n      }\n    },\n    {\n      \"column\": \"num_rank\",\n      \"properties\": {\n        \"dtype\": \"number\",\n        \"std\": 44,\n        \"min\": 1,\n        \"max\": 152,\n        \"num_unique_values\": 152,\n        \"samples\": [\n          69,\n          148,\n          97\n        ],\n        \"semantic_type\": \"\",\n        \"description\": \"\"\n      }\n    }\n  ]\n}"
            }
          },
          "metadata": {},
          "execution_count": 13
        }
      ]
    },
    {
      "cell_type": "code",
      "source": [
        "train = pd.merge(train, tr_nm_rank, how = 'left')\n",
        "test = pd.merge(test, tr_nm_rank, how = 'left')"
      ],
      "metadata": {
        "id": "c_AIzrrwmmkq"
      },
      "execution_count": null,
      "outputs": []
    },
    {
      "cell_type": "markdown",
      "source": [
        "### 이상치 제거"
      ],
      "metadata": {
        "id": "sYZGlXla0MtP"
      }
    },
    {
      "cell_type": "markdown",
      "source": [
        "이상치 제거 시 train data의 RMSE가 600,000대로 낮아져 좋은 성능을 보이지만, test data의 RMSE는 높아져 데이콘 파일 제출 시 이상치 제거 부분은 생략함"
      ],
      "metadata": {
        "id": "oPt-IxKB--c6"
      }
    },
    {
      "cell_type": "code",
      "source": [
        "import pandas as pd\n",
        "\n",
        "# IQR을 계산\n",
        "Q1 = train['box_off_num'].quantile(0.25)\n",
        "Q3 = train['box_off_num'].quantile(0.75)\n",
        "IQR = Q3 - Q1\n",
        "\n",
        "# 이상치의 범위를 정의.\n",
        "lower_bound = Q1 - 10 * IQR\n",
        "upper_bound = Q3 + 10 * IQR\n",
        "\n",
        "# 이상치가 아닌 데이터만 필터링\n",
        "train = train[(train['box_off_num'] >= lower_bound) & (train['box_off_num'] <= upper_bound)]"
      ],
      "metadata": {
        "id": "FQeQVYYF0MJX"
      },
      "execution_count": null,
      "outputs": []
    },
    {
      "cell_type": "code",
      "source": [
        "train.shape"
      ],
      "metadata": {
        "colab": {
          "base_uri": "https://localhost:8080/"
        },
        "id": "9DLxWVui1z_V",
        "outputId": "21bea38d-292f-49ef-b071-6f4079b9b871"
      },
      "execution_count": null,
      "outputs": [
        {
          "output_type": "execute_result",
          "data": {
            "text/plain": [
              "(580, 45)"
            ]
          },
          "metadata": {},
          "execution_count": 16
        }
      ]
    },
    {
      "cell_type": "markdown",
      "source": [
        "## transformation"
      ],
      "metadata": {
        "id": "ksqzX4-TankO"
      }
    },
    {
      "cell_type": "markdown",
      "source": [
        "왜도가 심한 변수가 있는지 확인하고, log transformation을 이용해 정규분포에 가깝게 변형한다."
      ],
      "metadata": {
        "id": "vk4k8NwBrQrp"
      }
    },
    {
      "cell_type": "markdown",
      "source": [
        "### 타겟변수 box_off_num의 log transformation"
      ],
      "metadata": {
        "id": "y-0dd3sJqX71"
      }
    },
    {
      "cell_type": "code",
      "source": [
        "# 'box_off_num' 컬럼에 대한 히스토그램 그리기\n",
        "plt.figure(figsize=(5, 3))  # 그래프의 크기 설정\n",
        "plt.hist(train['box_off_num'], bins=50, color='blue', alpha=0.7)  # 히스토그램 그리기\n",
        "plt.title('Box Office Number Histogram')  # 그래프 제목 설정\n",
        "plt.xlabel('Box Office Number')  # x축 레이블 설정\n",
        "plt.ylabel('Frequency')  # y축 레이블 설정\n",
        "plt.show()  # 그래프 보여주기"
      ],
      "metadata": {
        "id": "jH0qHu0RaBRI"
      },
      "execution_count": null,
      "outputs": []
    },
    {
      "cell_type": "code",
      "source": [
        "train['box_off_num_log'] = np.log1p(train['box_off_num'])\n",
        "train = train.drop(columns=[\"box_off_num\"])"
      ],
      "metadata": {
        "id": "7O0D6wkuatiQ"
      },
      "execution_count": null,
      "outputs": []
    },
    {
      "cell_type": "code",
      "source": [
        "# 'box_off_num' 컬럼에 대한 히스토그램 그리기\n",
        "plt.figure(figsize=(5, 3))  # 그래프의 크기 설정\n",
        "plt.hist(train['box_off_num_log'], bins=50, color='blue', alpha=0.7)  # 히스토그램 그리기\n",
        "plt.title('Box Office Number Histogram')  # 그래프 제목 설정\n",
        "plt.xlabel('Box Office Number')  # x축 레이블 설정\n",
        "plt.ylabel('Frequency')  # y축 레이블 설정\n",
        "plt.show()  # 그래프 보여주기"
      ],
      "metadata": {
        "colab": {
          "base_uri": "https://localhost:8080/",
          "height": 333
        },
        "id": "VlaC2rgHb-Yn",
        "outputId": "7f52e3c3-e7e6-4225-b6ab-42a1706973a4"
      },
      "execution_count": null,
      "outputs": [
        {
          "output_type": "display_data",
          "data": {
            "text/plain": [
              "<Figure size 500x300 with 1 Axes>"
            ],
            "image/png": "[encoded data removed]"
          },
          "metadata": {}
        }
      ]
    },
    {
      "cell_type": "markdown",
      "source": [
        "### 피처변수 num_actor의 log transformation"
      ],
      "metadata": {
        "id": "4siwl3Pgqf0r"
      }
    },
    {
      "cell_type": "code",
      "source": [
        "# 'box_off_num' 컬럼에 대한 히스토그램 그리기\n",
        "plt.figure(figsize=(5, 3))  # 그래프의 크기 설정\n",
        "plt.hist(train['num_actor'], bins=50, color='blue', alpha=0.7)  # 히스토그램 그리기\n",
        "plt.title('Number of Actors Histogram')  # 그래프 제목 설정\n",
        "plt.xlabel('Actor Number')  # x축 레이블 설정\n",
        "plt.ylabel('Frequency')  # y축 레이블 설정\n",
        "plt.show()  # 그래프 보여주기"
      ],
      "metadata": {
        "colab": {
          "base_uri": "https://localhost:8080/",
          "height": 333
        },
        "id": "53IZT5Mkqkdz",
        "outputId": "f5b957ab-d611-4ecd-ebb5-7749c3b0b418"
      },
      "execution_count": null,
      "outputs": [
        {
          "output_type": "display_data",
          "data": {
            "text/plain": [
              "<Figure size 500x300 with 1 Axes>"
            ],
            "image/png": "[encoded data removed]"
          },
          "metadata": {}
        }
      ]
    },
    {
      "cell_type": "code",
      "source": [
        "train['num_actor'] = np.log1p(train['num_actor'])\n",
        "test['num_actor'] = np.log1p(test['num_actor'])"
      ],
      "metadata": {
        "id": "nL8rKqe2qVx2"
      },
      "execution_count": null,
      "outputs": []
    },
    {
      "cell_type": "code",
      "source": [
        "# 'box_off_num' 컬럼에 대한 히스토그램 그리기\n",
        "plt.figure(figsize=(5, 3))  # 그래프의 크기 설정\n",
        "plt.hist(test['num_actor'], bins=50, color='blue', alpha=0.7)  # 히스토그램 그리기\n",
        "plt.title('Number of Actors Histogram')  # 그래프 제목 설정\n",
        "plt.xlabel('Actor Number')  # x축 레이블 설정\n",
        "plt.ylabel('Frequency')  # y축 레이블 설정\n",
        "plt.show()  # 그래프 보여주기"
      ],
      "metadata": {
        "colab": {
          "base_uri": "https://localhost:8080/",
          "height": 333
        },
        "id": "ku-IoKLEqz10",
        "outputId": "dab42a8b-0566-48e1-898c-a0678be3b0c5"
      },
      "execution_count": null,
      "outputs": [
        {
          "output_type": "display_data",
          "data": {
            "text/plain": [
              "<Figure size 500x300 with 1 Axes>"
            ],
            "image/png": "[encoded data removed]"
          },
          "metadata": {}
        }
      ]
    },
    {
      "cell_type": "code",
      "source": [
        "train.info()"
      ],
      "metadata": {
        "colab": {
          "base_uri": "https://localhost:8080/"
        },
        "id": "yiX8Fl_FnJcf",
        "outputId": "25a4cc9a-f754-49ba-be48-f8ff71b6d255"
      },
      "execution_count": null,
      "outputs": [
        {
          "output_type": "stream",
          "name": "stdout",
          "text": [
            "<class 'pandas.core.frame.DataFrame'>\n",
            "RangeIndex: 600 entries, 0 to 599\n",
            "Data columns (total 45 columns):\n",
            " #   Column                  Non-Null Count  Dtype         \n",
            "---  ------                  --------------  -----         \n",
            " 0   title                   600 non-null    object        \n",
            " 1   distributor             600 non-null    object        \n",
            " 2   release_time            600 non-null    datetime64[ns]\n",
            " 3   time                    600 non-null    int64         \n",
            " 4   director                600 non-null    object        \n",
            " 5   dir_prev_bfnum          600 non-null    float64       \n",
            " 6   dir_prev_num            600 non-null    int64         \n",
            " 7   num_staff               600 non-null    int64         \n",
            " 8   num_actor               600 non-null    float64       \n",
            " 9   genre_SF                600 non-null    int64         \n",
            " 10  genre_공포                600 non-null    int64         \n",
            " 11  genre_느와르               600 non-null    int64         \n",
            " 12  genre_다큐멘터리             600 non-null    int64         \n",
            " 13  genre_드라마               600 non-null    int64         \n",
            " 14  genre_멜로/로맨스            600 non-null    int64         \n",
            " 15  genre_뮤지컬               600 non-null    int64         \n",
            " 16  genre_미스터리              600 non-null    int64         \n",
            " 17  genre_서스펜스              600 non-null    int64         \n",
            " 18  genre_애니메이션             600 non-null    int64         \n",
            " 19  genre_액션                600 non-null    int64         \n",
            " 20  genre_코미디               600 non-null    int64         \n",
            " 21  screening_rat_12세 관람가   600 non-null    int64         \n",
            " 22  screening_rat_15세 관람가   600 non-null    int64         \n",
            " 23  screening_rat_전체 관람가    600 non-null    int64         \n",
            " 24  screening_rat_청소년 관람불가  600 non-null    int64         \n",
            " 25  release_year_2010       600 non-null    int64         \n",
            " 26  release_year_2011       600 non-null    int64         \n",
            " 27  release_year_2012       600 non-null    int64         \n",
            " 28  release_year_2013       600 non-null    int64         \n",
            " 29  release_year_2014       600 non-null    int64         \n",
            " 30  release_year_2015       600 non-null    int64         \n",
            " 31  release_month_1         600 non-null    int64         \n",
            " 32  release_month_2         600 non-null    int64         \n",
            " 33  release_month_3         600 non-null    int64         \n",
            " 34  release_month_4         600 non-null    int64         \n",
            " 35  release_month_5         600 non-null    int64         \n",
            " 36  release_month_6         600 non-null    int64         \n",
            " 37  release_month_7         600 non-null    int64         \n",
            " 38  release_month_8         600 non-null    int64         \n",
            " 39  release_month_9         600 non-null    int64         \n",
            " 40  release_month_10        600 non-null    int64         \n",
            " 41  release_month_11        600 non-null    int64         \n",
            " 42  release_month_12        600 non-null    int64         \n",
            " 43  num_rank                600 non-null    int64         \n",
            " 44  box_off_num_log         600 non-null    float64       \n",
            "dtypes: datetime64[ns](1), float64(3), int64(38), object(3)\n",
            "memory usage: 211.1+ KB\n"
          ]
        }
      ]
    },
    {
      "cell_type": "code",
      "source": [
        "train_new = train.drop(columns=[\"title\",\"distributor\",\"release_time\", \"director\"])"
      ],
      "metadata": {
        "id": "ay7zO001VPDy"
      },
      "execution_count": null,
      "outputs": []
    },
    {
      "cell_type": "code",
      "source": [
        "Y = train_new[\"box_off_num_log\"].values\n",
        "X = train_new.drop(columns=[\"box_off_num_log\"])"
      ],
      "metadata": {
        "id": "New3A0mYTem0"
      },
      "execution_count": null,
      "outputs": []
    },
    {
      "cell_type": "markdown",
      "source": [
        "# 3. 데이터 탐색 (EDA)"
      ],
      "metadata": {
        "id": "S5TQUuBHudUP"
      }
    },
    {
      "cell_type": "code",
      "source": [
        "plt.subplot(2,2,1)\n",
        "sns.histplot(train['num_staff'])\n",
        "plt.subplot(2,2,2)\n",
        "sns.histplot(train['time'])\n",
        "plt.subplot(2,2,3)\n",
        "sns.histplot(train['dir_prev_num'])\n",
        "plt.subplot(2,2,4)\n",
        "sns.histplot(train['dir_prev_bfnum'])"
      ],
      "metadata": {
        "colab": {
          "base_uri": "https://localhost:8080/",
          "height": 468
        },
        "id": "evt7_uJYufyL",
        "outputId": "282bba4f-dea9-4bf7-e285-6201b046cd87"
      },
      "execution_count": 8,
      "outputs": [
        {
          "output_type": "execute_result",
          "data": {
            "text/plain": [
              "<Axes: xlabel='dir_prev_bfnum', ylabel='Count'>"
            ]
          },
          "metadata": {},
          "execution_count": 8
        },
        {
          "output_type": "display_data",
          "data": {
            "text/plain": [
              "<Figure size 640x480 with 4 Axes>"
            ],
            "image/png": "[encoded data removed]"
          },
          "metadata": {}
        }
      ]
    },
    {
      "cell_type": "code",
      "source": [
        "# time (상영 시간) : 연속형 , box_off_num : 연속형 (관객수)\n",
        "train['hour'] = train['time'] // 60\n",
        "train['min'] = train['time'] % 60\n",
        "train.head(3)"
      ],
      "metadata": {
        "colab": {
          "base_uri": "https://localhost:8080/",
          "height": 332
        },
        "id": "DM4fZeJsu5xP",
        "outputId": "b66ff521-cdf1-4eb9-f09a-37f1a6ae9cdd"
      },
      "execution_count": 9,
      "outputs": [
        {
          "output_type": "execute_result",
          "data": {
            "text/plain": [
              "       title distributor release_time  time director  dir_prev_bfnum  \\\n",
              "0     개들의 전쟁    롯데엔터테인먼트   2012-11-22    96      조병옥            0.00   \n",
              "1       내부자들      (주)쇼박스   2015-11-19   130      우민호      1161602.50   \n",
              "2  은밀하게 위대하게      (주)쇼박스   2013-06-05   123      장철수       220775.25   \n",
              "\n",
              "   dir_prev_num  num_staff  num_actor  box_off_num  ...  genre_서스펜스  \\\n",
              "0             0         91          2        23398  ...           0   \n",
              "1             2        387          3      7072501  ...           0   \n",
              "2             4        343          4      6959083  ...           0   \n",
              "\n",
              "   genre_애니메이션  genre_액션  genre_코미디  screening_rat_12세 관람가  \\\n",
              "0            0         1          0                      0   \n",
              "1            0         0          0                      0   \n",
              "2            0         1          0                      0   \n",
              "\n",
              "   screening_rat_15세 관람가  screening_rat_전체 관람가  screening_rat_청소년 관람불가  hour  \\\n",
              "0                      0                     0                       1     1   \n",
              "1                      0                     0                       1     2   \n",
              "2                      1                     0                       0     2   \n",
              "\n",
              "   min  \n",
              "0   36  \n",
              "1   10  \n",
              "2    3  \n",
              "\n",
              "[3 rows x 28 columns]"
            ],
            "text/html": [
              "\n",
              "  <div id=\"df-34afd907-5485-46ee-9f28-7ec098ebf697\" class=\"colab-df-container\">\n",
              "    <div>\n",
              "<style scoped>\n",
              "    .dataframe tbody tr th:only-of-type {\n",
              "        vertical-align: middle;\n",
              "    }\n",
              "\n",
              "    .dataframe tbody tr th {\n",
              "        vertical-align: top;\n",
              "    }\n",
              "\n",
              "    .dataframe thead th {\n",
              "        text-align: right;\n",
              "    }\n",
              "</style>\n",
              "<table border=\"1\" class=\"dataframe\">\n",
              "  <thead>\n",
              "    <tr style=\"text-align: right;\">\n",
              "      <th></th>\n",
              "      <th>title</th>\n",
              "      <th>distributor</th>\n",
              "      <th>release_time</th>\n",
              "      <th>time</th>\n",
              "      <th>director</th>\n",
              "      <th>dir_prev_bfnum</th>\n",
              "      <th>dir_prev_num</th>\n",
              "      <th>num_staff</th>\n",
              "      <th>num_actor</th>\n",
              "      <th>box_off_num</th>\n",
              "      <th>...</th>\n",
              "      <th>genre_서스펜스</th>\n",
              "      <th>genre_애니메이션</th>\n",
              "      <th>genre_액션</th>\n",
              "      <th>genre_코미디</th>\n",
              "      <th>screening_rat_12세 관람가</th>\n",
              "      <th>screening_rat_15세 관람가</th>\n",
              "      <th>screening_rat_전체 관람가</th>\n",
              "      <th>screening_rat_청소년 관람불가</th>\n",
              "      <th>hour</th>\n",
              "      <th>min</th>\n",
              "    </tr>\n",
              "  </thead>\n",
              "  <tbody>\n",
              "    <tr>\n",
              "      <th>0</th>\n",
              "      <td>개들의 전쟁</td>\n",
              "      <td>롯데엔터테인먼트</td>\n",
              "      <td>2012-11-22</td>\n",
              "      <td>96</td>\n",
              "      <td>조병옥</td>\n",
              "      <td>0.00</td>\n",
              "      <td>0</td>\n",
              "      <td>91</td>\n",
              "      <td>2</td>\n",
              "      <td>23398</td>\n",
              "      <td>...</td>\n",
              "      <td>0</td>\n",
              "      <td>0</td>\n",
              "      <td>1</td>\n",
              "      <td>0</td>\n",
              "      <td>0</td>\n",
              "      <td>0</td>\n",
              "      <td>0</td>\n",
              "      <td>1</td>\n",
              "      <td>1</td>\n",
              "      <td>36</td>\n",
              "    </tr>\n",
              "    <tr>\n",
              "      <th>1</th>\n",
              "      <td>내부자들</td>\n",
              "      <td>(주)쇼박스</td>\n",
              "      <td>2015-11-19</td>\n",
              "      <td>130</td>\n",
              "      <td>우민호</td>\n",
              "      <td>1161602.50</td>\n",
              "      <td>2</td>\n",
              "      <td>387</td>\n",
              "      <td>3</td>\n",
              "      <td>7072501</td>\n",
              "      <td>...</td>\n",
              "      <td>0</td>\n",
              "      <td>0</td>\n",
              "      <td>0</td>\n",
              "      <td>0</td>\n",
              "      <td>0</td>\n",
              "      <td>0</td>\n",
              "      <td>0</td>\n",
              "      <td>1</td>\n",
              "      <td>2</td>\n",
              "      <td>10</td>\n",
              "    </tr>\n",
              "    <tr>\n",
              "      <th>2</th>\n",
              "      <td>은밀하게 위대하게</td>\n",
              "      <td>(주)쇼박스</td>\n",
              "      <td>2013-06-05</td>\n",
              "      <td>123</td>\n",
              "      <td>장철수</td>\n",
              "      <td>220775.25</td>\n",
              "      <td>4</td>\n",
              "      <td>343</td>\n",
              "      <td>4</td>\n",
              "      <td>6959083</td>\n",
              "      <td>...</td>\n",
              "      <td>0</td>\n",
              "      <td>0</td>\n",
              "      <td>1</td>\n",
              "      <td>0</td>\n",
              "      <td>0</td>\n",
              "      <td>1</td>\n",
              "      <td>0</td>\n",
              "      <td>0</td>\n",
              "      <td>2</td>\n",
              "      <td>3</td>\n",
              "    </tr>\n",
              "  </tbody>\n",
              "</table>\n",
              "<p>3 rows × 28 columns</p>\n",
              "</div>\n",
              "    <div class=\"colab-df-buttons\">\n",
              "\n",
              "  <div class=\"colab-df-container\">\n",
              "    <button class=\"colab-df-convert\" onclick=\"convertToInteractive('df-34afd907-5485-46ee-9f28-7ec098ebf697')\"\n",
              "            title=\"Convert this dataframe to an interactive table.\"\n",
              "            style=\"display:none;\">\n",
              "\n",
              "  <svg xmlns=\"http://www.w3.org/2000/svg\" height=\"24px\" viewBox=\"0 -960 960 960\">\n",
              "    <path d=\"M120-120v-720h720v720H120Zm60-500h600v-160H180v160Zm220 220h160v-160H400v160Zm0 220h160v-160H400v160ZM180-400h160v-160H180v160Zm440 0h160v-160H620v160ZM180-180h160v-160H180v160Zm440 0h160v-160H620v160Z\"/>\n",
              "  </svg>\n",
              "    </button>\n",
              "\n",
              "  <style>\n",
              "    .colab-df-container {\n",
              "      display:flex;\n",
              "      gap: 12px;\n",
              "    }\n",
              "\n",
              "    .colab-df-convert {\n",
              "      background-color: #E8F0FE;\n",
              "      border: none;\n",
              "      border-radius: 50%;\n",
              "      cursor: pointer;\n",
              "      display: none;\n",
              "      fill: #1967D2;\n",
              "      height: 32px;\n",
              "      padding: 0 0 0 0;\n",
              "      width: 32px;\n",
              "    }\n",
              "\n",
              "    .colab-df-convert:hover {\n",
              "      background-color: #E2EBFA;\n",
              "      box-shadow: 0px 1px 2px rgba(60, 64, 67, 0.3), 0px 1px 3px 1px rgba(60, 64, 67, 0.15);\n",
              "      fill: #174EA6;\n",
              "    }\n",
              "\n",
              "    .colab-df-buttons div {\n",
              "      margin-bottom: 4px;\n",
              "    }\n",
              "\n",
              "    [theme=dark] .colab-df-convert {\n",
              "      background-color: #3B4455;\n",
              "      fill: #D2E3FC;\n",
              "    }\n",
              "\n",
              "    [theme=dark] .colab-df-convert:hover {\n",
              "      background-color: #434B5C;\n",
              "      box-shadow: 0px 1px 3px 1px rgba(0, 0, 0, 0.15);\n",
              "      filter: drop-shadow(0px 1px 2px rgba(0, 0, 0, 0.3));\n",
              "      fill: #FFFFFF;\n",
              "    }\n",
              "  </style>\n",
              "\n",
              "    <script>\n",
              "      const buttonEl =\n",
              "        document.querySelector('#df-34afd907-5485-46ee-9f28-7ec098ebf697 button.colab-df-convert');\n",
              "      buttonEl.style.display =\n",
              "        google.colab.kernel.accessAllowed ? 'block' : 'none';\n",
              "\n",
              "      async function convertToInteractive(key) {\n",
              "        const element = document.querySelector('#df-34afd907-5485-46ee-9f28-7ec098ebf697');\n",
              "        const dataTable =\n",
              "          await google.colab.kernel.invokeFunction('convertToInteractive',\n",
              "                                                    [key], {});\n",
              "        if (!dataTable) return;\n",
              "\n",
              "        const docLinkHtml = 'Like what you see? Visit the ' +\n",
              "          '<a target=\"_blank\" href=https://colab.research.google.com/notebooks/data_table.ipynb>data table notebook</a>'\n",
              "          + ' to learn more about interactive tables.';\n",
              "        element.innerHTML = '';\n",
              "        dataTable['output_type'] = 'display_data';\n",
              "        await google.colab.output.renderOutput(dataTable, element);\n",
              "        const docLink = document.createElement('div');\n",
              "        docLink.innerHTML = docLinkHtml;\n",
              "        element.appendChild(docLink);\n",
              "      }\n",
              "    </script>\n",
              "  </div>\n",
              "\n",
              "\n",
              "<div id=\"df-084ad15b-d709-4781-a8ac-48378a61f3e4\">\n",
              "  <button class=\"colab-df-quickchart\" onclick=\"quickchart('df-084ad15b-d709-4781-a8ac-48378a61f3e4')\"\n",
              "            title=\"Suggest charts\"\n",
              "            style=\"display:none;\">\n",
              "\n",
              "<svg xmlns=\"http://www.w3.org/2000/svg\" height=\"24px\"viewBox=\"0 0 24 24\"\n",
              "     width=\"24px\">\n",
              "    <g>\n",
              "        <path d=\"M19 3H5c-1.1 0-2 .9-2 2v14c0 1.1.9 2 2 2h14c1.1 0 2-.9 2-2V5c0-1.1-.9-2-2-2zM9 17H7v-7h2v7zm4 0h-2V7h2v10zm4 0h-2v-4h2v4z\"/>\n",
              "    </g>\n",
              "</svg>\n",
              "  </button>\n",
              "\n",
              "<style>\n",
              "  .colab-df-quickchart {\n",
              "      --bg-color: #E8F0FE;\n",
              "      --fill-color: #1967D2;\n",
              "      --hover-bg-color: #E2EBFA;\n",
              "      --hover-fill-color: #174EA6;\n",
              "      --disabled-fill-color: #AAA;\n",
              "      --disabled-bg-color: #DDD;\n",
              "  }\n",
              "\n",
              "  [theme=dark] .colab-df-quickchart {\n",
              "      --bg-color: #3B4455;\n",
              "      --fill-color: #D2E3FC;\n",
              "      --hover-bg-color: #434B5C;\n",
              "      --hover-fill-color: #FFFFFF;\n",
              "      --disabled-bg-color: #3B4455;\n",
              "      --disabled-fill-color: #666;\n",
              "  }\n",
              "\n",
              "  .colab-df-quickchart {\n",
              "    background-color: var(--bg-color);\n",
              "    border: none;\n",
              "    border-radius: 50%;\n",
              "    cursor: pointer;\n",
              "    display: none;\n",
              "    fill: var(--fill-color);\n",
              "    height: 32px;\n",
              "    padding: 0;\n",
              "    width: 32px;\n",
              "  }\n",
              "\n",
              "  .colab-df-quickchart:hover {\n",
              "    background-color: var(--hover-bg-color);\n",
              "    box-shadow: 0 1px 2px rgba(60, 64, 67, 0.3), 0 1px 3px 1px rgba(60, 64, 67, 0.15);\n",
              "    fill: var(--button-hover-fill-color);\n",
              "  }\n",
              "\n",
              "  .colab-df-quickchart-complete:disabled,\n",
              "  .colab-df-quickchart-complete:disabled:hover {\n",
              "    background-color: var(--disabled-bg-color);\n",
              "    fill: var(--disabled-fill-color);\n",
              "    box-shadow: none;\n",
              "  }\n",
              "\n",
              "  .colab-df-spinner {\n",
              "    border: 2px solid var(--fill-color);\n",
              "    border-color: transparent;\n",
              "    border-bottom-color: var(--fill-color);\n",
              "    animation:\n",
              "      spin 1s steps(1) infinite;\n",
              "  }\n",
              "\n",
              "  @keyframes spin {\n",
              "    0% {\n",
              "      border-color: transparent;\n",
              "      border-bottom-color: var(--fill-color);\n",
              "      border-left-color: var(--fill-color);\n",
              "    }\n",
              "    20% {\n",
              "      border-color: transparent;\n",
              "      border-left-color: var(--fill-color);\n",
              "      border-top-color: var(--fill-color);\n",
              "    }\n",
              "    30% {\n",
              "      border-color: transparent;\n",
              "      border-left-color: var(--fill-color);\n",
              "      border-top-color: var(--fill-color);\n",
              "      border-right-color: var(--fill-color);\n",
              "    }\n",
              "    40% {\n",
              "      border-color: transparent;\n",
              "      border-right-color: var(--fill-color);\n",
              "      border-top-color: var(--fill-color);\n",
              "    }\n",
              "    60% {\n",
              "      border-color: transparent;\n",
              "      border-right-color: var(--fill-color);\n",
              "    }\n",
              "    80% {\n",
              "      border-color: transparent;\n",
              "      border-right-color: var(--fill-color);\n",
              "      border-bottom-color: var(--fill-color);\n",
              "    }\n",
              "    90% {\n",
              "      border-color: transparent;\n",
              "      border-bottom-color: var(--fill-color);\n",
              "    }\n",
              "  }\n",
              "</style>\n",
              "\n",
              "  <script>\n",
              "    async function quickchart(key) {\n",
              "      const quickchartButtonEl =\n",
              "        document.querySelector('#' + key + ' button');\n",
              "      quickchartButtonEl.disabled = true;  // To prevent multiple clicks.\n",
              "      quickchartButtonEl.classList.add('colab-df-spinner');\n",
              "      try {\n",
              "        const charts = await google.colab.kernel.invokeFunction(\n",
              "            'suggestCharts', [key], {});\n",
              "      } catch (error) {\n",
              "        console.error('Error during call to suggestCharts:', error);\n",
              "      }\n",
              "      quickchartButtonEl.classList.remove('colab-df-spinner');\n",
              "      quickchartButtonEl.classList.add('colab-df-quickchart-complete');\n",
              "    }\n",
              "    (() => {\n",
              "      let quickchartButtonEl =\n",
              "        document.querySelector('#df-084ad15b-d709-4781-a8ac-48378a61f3e4 button');\n",
              "      quickchartButtonEl.style.display =\n",
              "        google.colab.kernel.accessAllowed ? 'block' : 'none';\n",
              "    })();\n",
              "  </script>\n",
              "</div>\n",
              "\n",
              "    </div>\n",
              "  </div>\n"
            ],
            "application/vnd.google.colaboratory.intrinsic+json": {
              "type": "dataframe",
              "variable_name": "train"
            }
          },
          "metadata": {},
          "execution_count": 9
        }
      ]
    },
    {
      "cell_type": "code",
      "source": [
        "plt.style.use('classic')\n",
        "train['time'].plot(kind='hist', color='pink', bins=range(40, 190, 10))"
      ],
      "metadata": {
        "colab": {
          "base_uri": "https://localhost:8080/",
          "height": 458
        },
        "id": "jRlLYi3OvWJb",
        "outputId": "6446091a-c4be-4442-93c4-43178a3a90ea"
      },
      "execution_count": 10,
      "outputs": [
        {
          "output_type": "execute_result",
          "data": {
            "text/plain": [
              "<Axes: ylabel='Frequency'>"
            ]
          },
          "metadata": {},
          "execution_count": 10
        },
        {
          "output_type": "display_data",
          "data": {
            "text/plain": [
              "<Figure size 640x480 with 1 Axes>"
            ],
            "image/png": "[encoded data removed]"
          },
          "metadata": {}
        }
      ]
    },
    {
      "cell_type": "markdown",
      "source": [
        "데이터 내 있는 영화의 상영 시간 분포 알아보기\n",
        "\n",
        "최솟값인 45분 부터 180분까지 14개의 구간 (10분 단위) 로 쪼개서 살펴보기\n",
        "\n",
        "연속형이므로 히스토그램으로 살펴본다.\n",
        "\n",
        "상영 시간이 90분-100분인 영화가 가장 많다. 상영 시간이 2시간이 넘어가면서 점차 영화 수가 줄어드는 양상을 보인다"
      ],
      "metadata": {
        "id": "tI8mlVw6vYhR"
      }
    },
    {
      "cell_type": "code",
      "source": [
        "train['grouptime'] = pd.cut(train['time'], bins=range(40,190,10))\n",
        "plt.figure(figsize = (10,6))\n",
        "sns.barplot(x='grouptime', y='box_off_num', data = train,\n",
        "            estimator = lambda x : sum(x) / len(x))\n",
        "plt.xlabel('grouptime(10 min)')\n",
        "plt.ylabel('box_off_num')\n",
        "plt.title('grouptime-box_off_num')\n",
        "plt.xticks(rotation='vertical')"
      ],
      "metadata": {
        "colab": {
          "base_uri": "https://localhost:8080/",
          "height": 802
        },
        "id": "AI45bcD-vZA0",
        "outputId": "9d0290fb-3831-4052-be16-19450d1000c8"
      },
      "execution_count": 11,
      "outputs": [
        {
          "output_type": "execute_result",
          "data": {
            "text/plain": [
              "([0, 1, 2, 3, 4, 5, 6, 7, 8, 9, 10, 11, 12, 13],\n",
              " [Text(0, 0, '(40, 50]'),\n",
              "  Text(1, 0, '(50, 60]'),\n",
              "  Text(2, 0, '(60, 70]'),\n",
              "  Text(3, 0, '(70, 80]'),\n",
              "  Text(4, 0, '(80, 90]'),\n",
              "  Text(5, 0, '(90, 100]'),\n",
              "  Text(6, 0, '(100, 110]'),\n",
              "  Text(7, 0, '(110, 120]'),\n",
              "  Text(8, 0, '(120, 130]'),\n",
              "  Text(9, 0, '(130, 140]'),\n",
              "  Text(10, 0, '(140, 150]'),\n",
              "  Text(11, 0, '(150, 160]'),\n",
              "  Text(12, 0, '(160, 170]'),\n",
              "  Text(13, 0, '(170, 180]')])"
            ]
          },
          "metadata": {},
          "execution_count": 11
        },
        {
          "output_type": "display_data",
          "data": {
            "text/plain": [
              "<Figure size 800x480 with 1 Axes>"
            ],
            "image/png": "[encoded data removed]"
          },
          "metadata": {}
        }
      ]
    },
    {
      "cell_type": "code",
      "source": [
        "train['director'].value_counts()"
      ],
      "metadata": {
        "colab": {
          "base_uri": "https://localhost:8080/"
        },
        "id": "W-wxgIPzvfin",
        "outputId": "d33dd972-4006-48c4-9e29-aff548e67682"
      },
      "execution_count": 12,
      "outputs": [
        {
          "output_type": "execute_result",
          "data": {
            "text/plain": [
              "director\n",
              "홍상수           7\n",
              "장률            4\n",
              "신재호           4\n",
              "우민호           4\n",
              "노진수           4\n",
              "             ..\n",
              "권오광           1\n",
              "한윤선           1\n",
              "박찬경           1\n",
              "New Pistol    1\n",
              "백운학           1\n",
              "Name: count, Length: 472, dtype: int64"
            ]
          },
          "metadata": {},
          "execution_count": 12
        }
      ]
    },
    {
      "cell_type": "code",
      "source": [
        "named = train.groupby('director').mean('box_off_num')\n",
        "named.sort_values(by='box_off_num', ascending=False, inplace=True)\n",
        "named\n",
        "# 감독에 따른 관객수 평균 - 내림차순 정렬 (네임드 감독 지표) 윤제균 > 최동훈 > 양우석 > 봉준호 > 한재림 ..."
      ],
      "metadata": {
        "colab": {
          "base_uri": "https://localhost:8080/",
          "height": 510
        },
        "id": "q4Abnxf1vhmP",
        "outputId": "b787d387-d8c3-4abf-d342-e0504431bfac"
      },
      "execution_count": 13,
      "outputs": [
        {
          "output_type": "execute_result",
          "data": {
            "text/plain": [
              "           time  dir_prev_bfnum  dir_prev_num  num_staff  num_actor  \\\n",
              "director                                                              \n",
              "윤제균       126.0    0.000000e+00           0.0      869.0        4.0   \n",
              "최동훈       137.0    3.867085e+06           3.5      545.0        6.5   \n",
              "양우석       127.0    0.000000e+00           0.0      311.0        5.0   \n",
              "봉준호       125.0    0.000000e+00           0.0       67.0       10.0   \n",
              "한재림       139.0    1.242778e+06           2.0      298.0        6.0   \n",
              "...         ...             ...           ...        ...        ...   \n",
              "진광교        98.0    0.000000e+00           0.0        1.0        2.0   \n",
              "이세일        71.0    0.000000e+00           0.0        0.0        3.0   \n",
              "고구마        78.0    1.761531e+07           1.0       27.0        3.0   \n",
              "김정호        92.0    0.000000e+00           0.0        3.0        4.0   \n",
              "노성수        89.0    0.000000e+00           0.0        0.0        1.0   \n",
              "\n",
              "          box_off_num  genre_SF  genre_공포  genre_느와르  genre_다큐멘터리  ...  \\\n",
              "director                                                           ...   \n",
              "윤제균        14262766.0       0.0       0.0        0.0          0.0  ...   \n",
              "최동훈        12845252.0       0.0       0.0        0.5          0.0  ...   \n",
              "양우석        11374879.0       0.0       0.0        0.0          0.0  ...   \n",
              "봉준호         9350351.0       1.0       0.0        0.0          0.0  ...   \n",
              "한재림         9135806.0       0.0       0.0        0.0          0.0  ...   \n",
              "...               ...       ...       ...        ...          ...  ...   \n",
              "진광교              36.0       0.0       0.0        0.0          0.0  ...   \n",
              "이세일              10.0       0.0       0.0        0.0          0.0  ...   \n",
              "고구마               8.0       0.0       0.0        0.0          0.0  ...   \n",
              "김정호               2.0       0.0       0.0        0.0          0.0  ...   \n",
              "노성수               1.0       0.0       0.0        0.0          0.0  ...   \n",
              "\n",
              "          genre_서스펜스  genre_애니메이션  genre_액션  genre_코미디  screening_rat_12세 관람가  \\\n",
              "director                                                                        \n",
              "윤제균              0.0          0.0       0.0        0.0                    1.0   \n",
              "최동훈              0.0          0.0       0.5        0.0                    0.0   \n",
              "양우석              0.0          0.0       0.0        0.0                    0.0   \n",
              "봉준호              0.0          0.0       0.0        0.0                    0.0   \n",
              "한재림              0.0          0.0       0.0        0.0                    0.0   \n",
              "...              ...          ...       ...        ...                    ...   \n",
              "진광교              0.0          0.0       0.0        0.0                    0.0   \n",
              "이세일              0.0          0.0       0.0        0.0                    0.0   \n",
              "고구마              0.0          0.0       0.0        0.0                    0.0   \n",
              "김정호              0.0          0.0       0.0        0.0                    0.0   \n",
              "노성수              0.0          0.0       0.0        0.0                    0.0   \n",
              "\n",
              "          screening_rat_15세 관람가  screening_rat_전체 관람가  screening_rat_청소년 관람불가  \\\n",
              "director                                                                        \n",
              "윤제균                         0.0                   0.0                     0.0   \n",
              "최동훈                         1.0                   0.0                     0.0   \n",
              "양우석                         1.0                   0.0                     0.0   \n",
              "봉준호                         1.0                   0.0                     0.0   \n",
              "한재림                         1.0                   0.0                     0.0   \n",
              "...                         ...                   ...                     ...   \n",
              "진광교                         1.0                   0.0                     0.0   \n",
              "이세일                         0.0                   0.0                     1.0   \n",
              "고구마                         0.0                   0.0                     1.0   \n",
              "김정호                         0.0                   0.0                     1.0   \n",
              "노성수                         0.0                   0.0                     1.0   \n",
              "\n",
              "          hour   min  \n",
              "director              \n",
              "윤제균        2.0   6.0  \n",
              "최동훈        2.0  17.0  \n",
              "양우석        2.0   7.0  \n",
              "봉준호        2.0   5.0  \n",
              "한재림        2.0  19.0  \n",
              "...        ...   ...  \n",
              "진광교        1.0  38.0  \n",
              "이세일        1.0  11.0  \n",
              "고구마        1.0  18.0  \n",
              "김정호        1.0  32.0  \n",
              "노성수        1.0  29.0  \n",
              "\n",
              "[472 rows x 24 columns]"
            ],
            "text/html": [
              "\n",
              "  <div id=\"df-2d110a05-3293-473f-baf5-3846f14ae04f\" class=\"colab-df-container\">\n",
              "    <div>\n",
              "<style scoped>\n",
              "    .dataframe tbody tr th:only-of-type {\n",
              "        vertical-align: middle;\n",
              "    }\n",
              "\n",
              "    .dataframe tbody tr th {\n",
              "        vertical-align: top;\n",
              "    }\n",
              "\n",
              "    .dataframe thead th {\n",
              "        text-align: right;\n",
              "    }\n",
              "</style>\n",
              "<table border=\"1\" class=\"dataframe\">\n",
              "  <thead>\n",
              "    <tr style=\"text-align: right;\">\n",
              "      <th></th>\n",
              "      <th>time</th>\n",
              "      <th>dir_prev_bfnum</th>\n",
              "      <th>dir_prev_num</th>\n",
              "      <th>num_staff</th>\n",
              "      <th>num_actor</th>\n",
              "      <th>box_off_num</th>\n",
              "      <th>genre_SF</th>\n",
              "      <th>genre_공포</th>\n",
              "      <th>genre_느와르</th>\n",
              "      <th>genre_다큐멘터리</th>\n",
              "      <th>...</th>\n",
              "      <th>genre_서스펜스</th>\n",
              "      <th>genre_애니메이션</th>\n",
              "      <th>genre_액션</th>\n",
              "      <th>genre_코미디</th>\n",
              "      <th>screening_rat_12세 관람가</th>\n",
              "      <th>screening_rat_15세 관람가</th>\n",
              "      <th>screening_rat_전체 관람가</th>\n",
              "      <th>screening_rat_청소년 관람불가</th>\n",
              "      <th>hour</th>\n",
              "      <th>min</th>\n",
              "    </tr>\n",
              "    <tr>\n",
              "      <th>director</th>\n",
              "      <th></th>\n",
              "      <th></th>\n",
              "      <th></th>\n",
              "      <th></th>\n",
              "      <th></th>\n",
              "      <th></th>\n",
              "      <th></th>\n",
              "      <th></th>\n",
              "      <th></th>\n",
              "      <th></th>\n",
              "      <th></th>\n",
              "      <th></th>\n",
              "      <th></th>\n",
              "      <th></th>\n",
              "      <th></th>\n",
              "      <th></th>\n",
              "      <th></th>\n",
              "      <th></th>\n",
              "      <th></th>\n",
              "      <th></th>\n",
              "      <th></th>\n",
              "    </tr>\n",
              "  </thead>\n",
              "  <tbody>\n",
              "    <tr>\n",
              "      <th>윤제균</th>\n",
              "      <td>126.0</td>\n",
              "      <td>0.000000e+00</td>\n",
              "      <td>0.0</td>\n",
              "      <td>869.0</td>\n",
              "      <td>4.0</td>\n",
              "      <td>14262766.0</td>\n",
              "      <td>0.0</td>\n",
              "      <td>0.0</td>\n",
              "      <td>0.0</td>\n",
              "      <td>0.0</td>\n",
              "      <td>...</td>\n",
              "      <td>0.0</td>\n",
              "      <td>0.0</td>\n",
              "      <td>0.0</td>\n",
              "      <td>0.0</td>\n",
              "      <td>1.0</td>\n",
              "      <td>0.0</td>\n",
              "      <td>0.0</td>\n",
              "      <td>0.0</td>\n",
              "      <td>2.0</td>\n",
              "      <td>6.0</td>\n",
              "    </tr>\n",
              "    <tr>\n",
              "      <th>최동훈</th>\n",
              "      <td>137.0</td>\n",
              "      <td>3.867085e+06</td>\n",
              "      <td>3.5</td>\n",
              "      <td>545.0</td>\n",
              "      <td>6.5</td>\n",
              "      <td>12845252.0</td>\n",
              "      <td>0.0</td>\n",
              "      <td>0.0</td>\n",
              "      <td>0.5</td>\n",
              "      <td>0.0</td>\n",
              "      <td>...</td>\n",
              "      <td>0.0</td>\n",
              "      <td>0.0</td>\n",
              "      <td>0.5</td>\n",
              "      <td>0.0</td>\n",
              "      <td>0.0</td>\n",
              "      <td>1.0</td>\n",
              "      <td>0.0</td>\n",
              "      <td>0.0</td>\n",
              "      <td>2.0</td>\n",
              "      <td>17.0</td>\n",
              "    </tr>\n",
              "    <tr>\n",
              "      <th>양우석</th>\n",
              "      <td>127.0</td>\n",
              "      <td>0.000000e+00</td>\n",
              "      <td>0.0</td>\n",
              "      <td>311.0</td>\n",
              "      <td>5.0</td>\n",
              "      <td>11374879.0</td>\n",
              "      <td>0.0</td>\n",
              "      <td>0.0</td>\n",
              "      <td>0.0</td>\n",
              "      <td>0.0</td>\n",
              "      <td>...</td>\n",
              "      <td>0.0</td>\n",
              "      <td>0.0</td>\n",
              "      <td>0.0</td>\n",
              "      <td>0.0</td>\n",
              "      <td>0.0</td>\n",
              "      <td>1.0</td>\n",
              "      <td>0.0</td>\n",
              "      <td>0.0</td>\n",
              "      <td>2.0</td>\n",
              "      <td>7.0</td>\n",
              "    </tr>\n",
              "    <tr>\n",
              "      <th>봉준호</th>\n",
              "      <td>125.0</td>\n",
              "      <td>0.000000e+00</td>\n",
              "      <td>0.0</td>\n",
              "      <td>67.0</td>\n",
              "      <td>10.0</td>\n",
              "      <td>9350351.0</td>\n",
              "      <td>1.0</td>\n",
              "      <td>0.0</td>\n",
              "      <td>0.0</td>\n",
              "      <td>0.0</td>\n",
              "      <td>...</td>\n",
              "      <td>0.0</td>\n",
              "      <td>0.0</td>\n",
              "      <td>0.0</td>\n",
              "      <td>0.0</td>\n",
              "      <td>0.0</td>\n",
              "      <td>1.0</td>\n",
              "      <td>0.0</td>\n",
              "      <td>0.0</td>\n",
              "      <td>2.0</td>\n",
              "      <td>5.0</td>\n",
              "    </tr>\n",
              "    <tr>\n",
              "      <th>한재림</th>\n",
              "      <td>139.0</td>\n",
              "      <td>1.242778e+06</td>\n",
              "      <td>2.0</td>\n",
              "      <td>298.0</td>\n",
              "      <td>6.0</td>\n",
              "      <td>9135806.0</td>\n",
              "      <td>0.0</td>\n",
              "      <td>0.0</td>\n",
              "      <td>0.0</td>\n",
              "      <td>0.0</td>\n",
              "      <td>...</td>\n",
              "      <td>0.0</td>\n",
              "      <td>0.0</td>\n",
              "      <td>0.0</td>\n",
              "      <td>0.0</td>\n",
              "      <td>0.0</td>\n",
              "      <td>1.0</td>\n",
              "      <td>0.0</td>\n",
              "      <td>0.0</td>\n",
              "      <td>2.0</td>\n",
              "      <td>19.0</td>\n",
              "    </tr>\n",
              "    <tr>\n",
              "      <th>...</th>\n",
              "      <td>...</td>\n",
              "      <td>...</td>\n",
              "      <td>...</td>\n",
              "      <td>...</td>\n",
              "      <td>...</td>\n",
              "      <td>...</td>\n",
              "      <td>...</td>\n",
              "      <td>...</td>\n",
              "      <td>...</td>\n",
              "      <td>...</td>\n",
              "      <td>...</td>\n",
              "      <td>...</td>\n",
              "      <td>...</td>\n",
              "      <td>...</td>\n",
              "      <td>...</td>\n",
              "      <td>...</td>\n",
              "      <td>...</td>\n",
              "      <td>...</td>\n",
              "      <td>...</td>\n",
              "      <td>...</td>\n",
              "      <td>...</td>\n",
              "    </tr>\n",
              "    <tr>\n",
              "      <th>진광교</th>\n",
              "      <td>98.0</td>\n",
              "      <td>0.000000e+00</td>\n",
              "      <td>0.0</td>\n",
              "      <td>1.0</td>\n",
              "      <td>2.0</td>\n",
              "      <td>36.0</td>\n",
              "      <td>0.0</td>\n",
              "      <td>0.0</td>\n",
              "      <td>0.0</td>\n",
              "      <td>0.0</td>\n",
              "      <td>...</td>\n",
              "      <td>0.0</td>\n",
              "      <td>0.0</td>\n",
              "      <td>0.0</td>\n",
              "      <td>0.0</td>\n",
              "      <td>0.0</td>\n",
              "      <td>1.0</td>\n",
              "      <td>0.0</td>\n",
              "      <td>0.0</td>\n",
              "      <td>1.0</td>\n",
              "      <td>38.0</td>\n",
              "    </tr>\n",
              "    <tr>\n",
              "      <th>이세일</th>\n",
              "      <td>71.0</td>\n",
              "      <td>0.000000e+00</td>\n",
              "      <td>0.0</td>\n",
              "      <td>0.0</td>\n",
              "      <td>3.0</td>\n",
              "      <td>10.0</td>\n",
              "      <td>0.0</td>\n",
              "      <td>0.0</td>\n",
              "      <td>0.0</td>\n",
              "      <td>0.0</td>\n",
              "      <td>...</td>\n",
              "      <td>0.0</td>\n",
              "      <td>0.0</td>\n",
              "      <td>0.0</td>\n",
              "      <td>0.0</td>\n",
              "      <td>0.0</td>\n",
              "      <td>0.0</td>\n",
              "      <td>0.0</td>\n",
              "      <td>1.0</td>\n",
              "      <td>1.0</td>\n",
              "      <td>11.0</td>\n",
              "    </tr>\n",
              "    <tr>\n",
              "      <th>고구마</th>\n",
              "      <td>78.0</td>\n",
              "      <td>1.761531e+07</td>\n",
              "      <td>1.0</td>\n",
              "      <td>27.0</td>\n",
              "      <td>3.0</td>\n",
              "      <td>8.0</td>\n",
              "      <td>0.0</td>\n",
              "      <td>0.0</td>\n",
              "      <td>0.0</td>\n",
              "      <td>0.0</td>\n",
              "      <td>...</td>\n",
              "      <td>0.0</td>\n",
              "      <td>0.0</td>\n",
              "      <td>0.0</td>\n",
              "      <td>0.0</td>\n",
              "      <td>0.0</td>\n",
              "      <td>0.0</td>\n",
              "      <td>0.0</td>\n",
              "      <td>1.0</td>\n",
              "      <td>1.0</td>\n",
              "      <td>18.0</td>\n",
              "    </tr>\n",
              "    <tr>\n",
              "      <th>김정호</th>\n",
              "      <td>92.0</td>\n",
              "      <td>0.000000e+00</td>\n",
              "      <td>0.0</td>\n",
              "      <td>3.0</td>\n",
              "      <td>4.0</td>\n",
              "      <td>2.0</td>\n",
              "      <td>0.0</td>\n",
              "      <td>0.0</td>\n",
              "      <td>0.0</td>\n",
              "      <td>0.0</td>\n",
              "      <td>...</td>\n",
              "      <td>0.0</td>\n",
              "      <td>0.0</td>\n",
              "      <td>0.0</td>\n",
              "      <td>0.0</td>\n",
              "      <td>0.0</td>\n",
              "      <td>0.0</td>\n",
              "      <td>0.0</td>\n",
              "      <td>1.0</td>\n",
              "      <td>1.0</td>\n",
              "      <td>32.0</td>\n",
              "    </tr>\n",
              "    <tr>\n",
              "      <th>노성수</th>\n",
              "      <td>89.0</td>\n",
              "      <td>0.000000e+00</td>\n",
              "      <td>0.0</td>\n",
              "      <td>0.0</td>\n",
              "      <td>1.0</td>\n",
              "      <td>1.0</td>\n",
              "      <td>0.0</td>\n",
              "      <td>0.0</td>\n",
              "      <td>0.0</td>\n",
              "      <td>0.0</td>\n",
              "      <td>...</td>\n",
              "      <td>0.0</td>\n",
              "      <td>0.0</td>\n",
              "      <td>0.0</td>\n",
              "      <td>0.0</td>\n",
              "      <td>0.0</td>\n",
              "      <td>0.0</td>\n",
              "      <td>0.0</td>\n",
              "      <td>1.0</td>\n",
              "      <td>1.0</td>\n",
              "      <td>29.0</td>\n",
              "    </tr>\n",
              "  </tbody>\n",
              "</table>\n",
              "<p>472 rows × 24 columns</p>\n",
              "</div>\n",
              "    <div class=\"colab-df-buttons\">\n",
              "\n",
              "  <div class=\"colab-df-container\">\n",
              "    <button class=\"colab-df-convert\" onclick=\"convertToInteractive('df-2d110a05-3293-473f-baf5-3846f14ae04f')\"\n",
              "            title=\"Convert this dataframe to an interactive table.\"\n",
              "            style=\"display:none;\">\n",
              "\n",
              "  <svg xmlns=\"http://www.w3.org/2000/svg\" height=\"24px\" viewBox=\"0 -960 960 960\">\n",
              "    <path d=\"M120-120v-720h720v720H120Zm60-500h600v-160H180v160Zm220 220h160v-160H400v160Zm0 220h160v-160H400v160ZM180-400h160v-160H180v160Zm440 0h160v-160H620v160ZM180-180h160v-160H180v160Zm440 0h160v-160H620v160Z\"/>\n",
              "  </svg>\n",
              "    </button>\n",
              "\n",
              "  <style>\n",
              "    .colab-df-container {\n",
              "      display:flex;\n",
              "      gap: 12px;\n",
              "    }\n",
              "\n",
              "    .colab-df-convert {\n",
              "      background-color: #E8F0FE;\n",
              "      border: none;\n",
              "      border-radius: 50%;\n",
              "      cursor: pointer;\n",
              "      display: none;\n",
              "      fill: #1967D2;\n",
              "      height: 32px;\n",
              "      padding: 0 0 0 0;\n",
              "      width: 32px;\n",
              "    }\n",
              "\n",
              "    .colab-df-convert:hover {\n",
              "      background-color: #E2EBFA;\n",
              "      box-shadow: 0px 1px 2px rgba(60, 64, 67, 0.3), 0px 1px 3px 1px rgba(60, 64, 67, 0.15);\n",
              "      fill: #174EA6;\n",
              "    }\n",
              "\n",
              "    .colab-df-buttons div {\n",
              "      margin-bottom: 4px;\n",
              "    }\n",
              "\n",
              "    [theme=dark] .colab-df-convert {\n",
              "      background-color: #3B4455;\n",
              "      fill: #D2E3FC;\n",
              "    }\n",
              "\n",
              "    [theme=dark] .colab-df-convert:hover {\n",
              "      background-color: #434B5C;\n",
              "      box-shadow: 0px 1px 3px 1px rgba(0, 0, 0, 0.15);\n",
              "      filter: drop-shadow(0px 1px 2px rgba(0, 0, 0, 0.3));\n",
              "      fill: #FFFFFF;\n",
              "    }\n",
              "  </style>\n",
              "\n",
              "    <script>\n",
              "      const buttonEl =\n",
              "        document.querySelector('#df-2d110a05-3293-473f-baf5-3846f14ae04f button.colab-df-convert');\n",
              "      buttonEl.style.display =\n",
              "        google.colab.kernel.accessAllowed ? 'block' : 'none';\n",
              "\n",
              "      async function convertToInteractive(key) {\n",
              "        const element = document.querySelector('#df-2d110a05-3293-473f-baf5-3846f14ae04f');\n",
              "        const dataTable =\n",
              "          await google.colab.kernel.invokeFunction('convertToInteractive',\n",
              "                                                    [key], {});\n",
              "        if (!dataTable) return;\n",
              "\n",
              "        const docLinkHtml = 'Like what you see? Visit the ' +\n",
              "          '<a target=\"_blank\" href=https://colab.research.google.com/notebooks/data_table.ipynb>data table notebook</a>'\n",
              "          + ' to learn more about interactive tables.';\n",
              "        element.innerHTML = '';\n",
              "        dataTable['output_type'] = 'display_data';\n",
              "        await google.colab.output.renderOutput(dataTable, element);\n",
              "        const docLink = document.createElement('div');\n",
              "        docLink.innerHTML = docLinkHtml;\n",
              "        element.appendChild(docLink);\n",
              "      }\n",
              "    </script>\n",
              "  </div>\n",
              "\n",
              "\n",
              "<div id=\"df-c7fda64e-72ad-48f5-8c0b-0e1ed9329ee1\">\n",
              "  <button class=\"colab-df-quickchart\" onclick=\"quickchart('df-c7fda64e-72ad-48f5-8c0b-0e1ed9329ee1')\"\n",
              "            title=\"Suggest charts\"\n",
              "            style=\"display:none;\">\n",
              "\n",
              "<svg xmlns=\"http://www.w3.org/2000/svg\" height=\"24px\"viewBox=\"0 0 24 24\"\n",
              "     width=\"24px\">\n",
              "    <g>\n",
              "        <path d=\"M19 3H5c-1.1 0-2 .9-2 2v14c0 1.1.9 2 2 2h14c1.1 0 2-.9 2-2V5c0-1.1-.9-2-2-2zM9 17H7v-7h2v7zm4 0h-2V7h2v10zm4 0h-2v-4h2v4z\"/>\n",
              "    </g>\n",
              "</svg>\n",
              "  </button>\n",
              "\n",
              "<style>\n",
              "  .colab-df-quickchart {\n",
              "      --bg-color: #E8F0FE;\n",
              "      --fill-color: #1967D2;\n",
              "      --hover-bg-color: #E2EBFA;\n",
              "      --hover-fill-color: #174EA6;\n",
              "      --disabled-fill-color: #AAA;\n",
              "      --disabled-bg-color: #DDD;\n",
              "  }\n",
              "\n",
              "  [theme=dark] .colab-df-quickchart {\n",
              "      --bg-color: #3B4455;\n",
              "      --fill-color: #D2E3FC;\n",
              "      --hover-bg-color: #434B5C;\n",
              "      --hover-fill-color: #FFFFFF;\n",
              "      --disabled-bg-color: #3B4455;\n",
              "      --disabled-fill-color: #666;\n",
              "  }\n",
              "\n",
              "  .colab-df-quickchart {\n",
              "    background-color: var(--bg-color);\n",
              "    border: none;\n",
              "    border-radius: 50%;\n",
              "    cursor: pointer;\n",
              "    display: none;\n",
              "    fill: var(--fill-color);\n",
              "    height: 32px;\n",
              "    padding: 0;\n",
              "    width: 32px;\n",
              "  }\n",
              "\n",
              "  .colab-df-quickchart:hover {\n",
              "    background-color: var(--hover-bg-color);\n",
              "    box-shadow: 0 1px 2px rgba(60, 64, 67, 0.3), 0 1px 3px 1px rgba(60, 64, 67, 0.15);\n",
              "    fill: var(--button-hover-fill-color);\n",
              "  }\n",
              "\n",
              "  .colab-df-quickchart-complete:disabled,\n",
              "  .colab-df-quickchart-complete:disabled:hover {\n",
              "    background-color: var(--disabled-bg-color);\n",
              "    fill: var(--disabled-fill-color);\n",
              "    box-shadow: none;\n",
              "  }\n",
              "\n",
              "  .colab-df-spinner {\n",
              "    border: 2px solid var(--fill-color);\n",
              "    border-color: transparent;\n",
              "    border-bottom-color: var(--fill-color);\n",
              "    animation:\n",
              "      spin 1s steps(1) infinite;\n",
              "  }\n",
              "\n",
              "  @keyframes spin {\n",
              "    0% {\n",
              "      border-color: transparent;\n",
              "      border-bottom-color: var(--fill-color);\n",
              "      border-left-color: var(--fill-color);\n",
              "    }\n",
              "    20% {\n",
              "      border-color: transparent;\n",
              "      border-left-color: var(--fill-color);\n",
              "      border-top-color: var(--fill-color);\n",
              "    }\n",
              "    30% {\n",
              "      border-color: transparent;\n",
              "      border-left-color: var(--fill-color);\n",
              "      border-top-color: var(--fill-color);\n",
              "      border-right-color: var(--fill-color);\n",
              "    }\n",
              "    40% {\n",
              "      border-color: transparent;\n",
              "      border-right-color: var(--fill-color);\n",
              "      border-top-color: var(--fill-color);\n",
              "    }\n",
              "    60% {\n",
              "      border-color: transparent;\n",
              "      border-right-color: var(--fill-color);\n",
              "    }\n",
              "    80% {\n",
              "      border-color: transparent;\n",
              "      border-right-color: var(--fill-color);\n",
              "      border-bottom-color: var(--fill-color);\n",
              "    }\n",
              "    90% {\n",
              "      border-color: transparent;\n",
              "      border-bottom-color: var(--fill-color);\n",
              "    }\n",
              "  }\n",
              "</style>\n",
              "\n",
              "  <script>\n",
              "    async function quickchart(key) {\n",
              "      const quickchartButtonEl =\n",
              "        document.querySelector('#' + key + ' button');\n",
              "      quickchartButtonEl.disabled = true;  // To prevent multiple clicks.\n",
              "      quickchartButtonEl.classList.add('colab-df-spinner');\n",
              "      try {\n",
              "        const charts = await google.colab.kernel.invokeFunction(\n",
              "            'suggestCharts', [key], {});\n",
              "      } catch (error) {\n",
              "        console.error('Error during call to suggestCharts:', error);\n",
              "      }\n",
              "      quickchartButtonEl.classList.remove('colab-df-spinner');\n",
              "      quickchartButtonEl.classList.add('colab-df-quickchart-complete');\n",
              "    }\n",
              "    (() => {\n",
              "      let quickchartButtonEl =\n",
              "        document.querySelector('#df-c7fda64e-72ad-48f5-8c0b-0e1ed9329ee1 button');\n",
              "      quickchartButtonEl.style.display =\n",
              "        google.colab.kernel.accessAllowed ? 'block' : 'none';\n",
              "    })();\n",
              "  </script>\n",
              "</div>\n",
              "\n",
              "  <div id=\"id_aa32e2ed-6725-48ce-bc9a-9bf53427f0b8\">\n",
              "    <style>\n",
              "      .colab-df-generate {\n",
              "        background-color: #E8F0FE;\n",
              "        border: none;\n",
              "        border-radius: 50%;\n",
              "        cursor: pointer;\n",
              "        display: none;\n",
              "        fill: #1967D2;\n",
              "        height: 32px;\n",
              "        padding: 0 0 0 0;\n",
              "        width: 32px;\n",
              "      }\n",
              "\n",
              "      .colab-df-generate:hover {\n",
              "        background-color: #E2EBFA;\n",
              "        box-shadow: 0px 1px 2px rgba(60, 64, 67, 0.3), 0px 1px 3px 1px rgba(60, 64, 67, 0.15);\n",
              "        fill: #174EA6;\n",
              "      }\n",
              "\n",
              "      [theme=dark] .colab-df-generate {\n",
              "        background-color: #3B4455;\n",
              "        fill: #D2E3FC;\n",
              "      }\n",
              "\n",
              "      [theme=dark] .colab-df-generate:hover {\n",
              "        background-color: #434B5C;\n",
              "        box-shadow: 0px 1px 3px 1px rgba(0, 0, 0, 0.15);\n",
              "        filter: drop-shadow(0px 1px 2px rgba(0, 0, 0, 0.3));\n",
              "        fill: #FFFFFF;\n",
              "      }\n",
              "    </style>\n",
              "    <button class=\"colab-df-generate\" onclick=\"generateWithVariable('named')\"\n",
              "            title=\"Generate code using this dataframe.\"\n",
              "            style=\"display:none;\">\n",
              "\n",
              "  <svg xmlns=\"http://www.w3.org/2000/svg\" height=\"24px\"viewBox=\"0 0 24 24\"\n",
              "       width=\"24px\">\n",
              "    <path d=\"M7,19H8.4L18.45,9,17,7.55,7,17.6ZM5,21V16.75L18.45,3.32a2,2,0,0,1,2.83,0l1.4,1.43a1.91,1.91,0,0,1,.58,1.4,1.91,1.91,0,0,1-.58,1.4L9.25,21ZM18.45,9,17,7.55Zm-12,3A5.31,5.31,0,0,0,4.9,8.1,5.31,5.31,0,0,0,1,6.5,5.31,5.31,0,0,0,4.9,4.9,5.31,5.31,0,0,0,6.5,1,5.31,5.31,0,0,0,8.1,4.9,5.31,5.31,0,0,0,12,6.5,5.46,5.46,0,0,0,6.5,12Z\"/>\n",
              "  </svg>\n",
              "    </button>\n",
              "    <script>\n",
              "      (() => {\n",
              "      const buttonEl =\n",
              "        document.querySelector('#id_aa32e2ed-6725-48ce-bc9a-9bf53427f0b8 button.colab-df-generate');\n",
              "      buttonEl.style.display =\n",
              "        google.colab.kernel.accessAllowed ? 'block' : 'none';\n",
              "\n",
              "      buttonEl.onclick = () => {\n",
              "        google.colab.notebook.generateWithVariable('named');\n",
              "      }\n",
              "      })();\n",
              "    </script>\n",
              "  </div>\n",
              "\n",
              "    </div>\n",
              "  </div>\n"
            ],
            "application/vnd.google.colaboratory.intrinsic+json": {
              "type": "dataframe",
              "variable_name": "named"
            }
          },
          "metadata": {},
          "execution_count": 13
        }
      ]
    },
    {
      "cell_type": "code",
      "source": [
        "plt.style.use('default')\n",
        "fig = plt.figure(figsize=(15,5))\n",
        "ax1 = fig.add_subplot(1,2,1)\n",
        "ax2 = fig.add_subplot(1,2,2)\n",
        "# 네임드 감독에 따른 주연배우수, 스탭 수 산점도 그리기\n",
        "sns.regplot(x='box_off_num', y='num_actor', data=named, ax=ax1, color='red')\n",
        "sns.regplot(x='box_off_num', y='num_staff', data=named, ax=ax2, color='blue')\n",
        "ax1.set_title('named fare - box_off_num/num_actor')\n",
        "ax2.set_title('named fare - box_off_num/num_staff')\n",
        "plt.show()"
      ],
      "metadata": {
        "colab": {
          "base_uri": "https://localhost:8080/",
          "height": 386
        },
        "id": "THrC3HBdvlbg",
        "outputId": "b5ed0f59-f99e-4a40-975b-bf317efcfc77"
      },
      "execution_count": 14,
      "outputs": [
        {
          "output_type": "display_data",
          "data": {
            "text/plain": [
              "<Figure size 1500x500 with 2 Axes>"
            ],
            "image/png": "[encoded data removed]"
          },
          "metadata": {}
        }
      ]
    },
    {
      "cell_type": "markdown",
      "source": [
        "원핫 인코딩 된 상영 관람가와 관객수의 그래프 표현  "
      ],
      "metadata": {
        "id": "r5WKhF6kvnp7"
      }
    },
    {
      "cell_type": "code",
      "source": [
        "figsize = (50,100)\n",
        "plt.subplot(2,2,1)\n",
        "sns.histplot(train[train['screening_rat_12세 관람가']==True]['box_off_num'])\n",
        "plt.title('12+')\n",
        "plt.subplot(2,2,2)\n",
        "sns.histplot(train[train['screening_rat_15세 관람가']==True]['box_off_num'])\n",
        "plt.title('15+')\n",
        "plt.subplot(2,2,3)\n",
        "sns.histplot(train[train['screening_rat_전체 관람가']==True]['box_off_num'])\n",
        "plt.title('all+')\n",
        "plt.subplot(2,2,4)\n",
        "sns.histplot(train[train['screening_rat_청소년 관람불가']==True]['box_off_num'])\n",
        "plt.title('restricted')"
      ],
      "metadata": {
        "colab": {
          "base_uri": "https://localhost:8080/",
          "height": 490
        },
        "id": "SGRsv4P4voJr",
        "outputId": "9ef2a7fa-c7af-4e6d-9290-0629d9a7fc79"
      },
      "execution_count": 18,
      "outputs": [
        {
          "output_type": "execute_result",
          "data": {
            "text/plain": [
              "Text(0.5, 1.0, 'restricted')"
            ]
          },
          "metadata": {},
          "execution_count": 18
        },
        {
          "output_type": "display_data",
          "data": {
            "text/plain": [
              "<Figure size 640x480 with 4 Axes>"
            ],
            "image/png": "[encoded data removed]"
          },
          "metadata": {}
        }
      ]
    },
    {
      "cell_type": "markdown",
      "source": [
        "관람가에 따른 분포가 비슷하게 나타남"
      ],
      "metadata": {
        "id": "OEntbTm0wa7T"
      }
    },
    {
      "cell_type": "code",
      "source": [
        "# 개봉 월에 따른 평균 관객수\n",
        "train.info()"
      ],
      "metadata": {
        "colab": {
          "base_uri": "https://localhost:8080/"
        },
        "id": "JfeYJSv-wbSU",
        "outputId": "883366e6-f506-4099-9be8-1efa394418f0"
      },
      "execution_count": 19,
      "outputs": [
        {
          "output_type": "stream",
          "name": "stdout",
          "text": [
            "<class 'pandas.core.frame.DataFrame'>\n",
            "RangeIndex: 600 entries, 0 to 599\n",
            "Data columns (total 29 columns):\n",
            " #   Column                  Non-Null Count  Dtype         \n",
            "---  ------                  --------------  -----         \n",
            " 0   title                   600 non-null    object        \n",
            " 1   distributor             600 non-null    object        \n",
            " 2   release_time            600 non-null    datetime64[ns]\n",
            " 3   time                    600 non-null    int64         \n",
            " 4   director                600 non-null    object        \n",
            " 5   dir_prev_bfnum          600 non-null    float64       \n",
            " 6   dir_prev_num            600 non-null    int64         \n",
            " 7   num_staff               600 non-null    int64         \n",
            " 8   num_actor               600 non-null    int64         \n",
            " 9   box_off_num             600 non-null    int64         \n",
            " 10  genre_SF                600 non-null    int64         \n",
            " 11  genre_공포                600 non-null    int64         \n",
            " 12  genre_느와르               600 non-null    int64         \n",
            " 13  genre_다큐멘터리             600 non-null    int64         \n",
            " 14  genre_드라마               600 non-null    int64         \n",
            " 15  genre_멜로/로맨스            600 non-null    int64         \n",
            " 16  genre_뮤지컬               600 non-null    int64         \n",
            " 17  genre_미스터리              600 non-null    int64         \n",
            " 18  genre_서스펜스              600 non-null    int64         \n",
            " 19  genre_애니메이션             600 non-null    int64         \n",
            " 20  genre_액션                600 non-null    int64         \n",
            " 21  genre_코미디               600 non-null    int64         \n",
            " 22  screening_rat_12세 관람가   600 non-null    int64         \n",
            " 23  screening_rat_15세 관람가   600 non-null    int64         \n",
            " 24  screening_rat_전체 관람가    600 non-null    int64         \n",
            " 25  screening_rat_청소년 관람불가  600 non-null    int64         \n",
            " 26  hour                    600 non-null    int64         \n",
            " 27  min                     600 non-null    int64         \n",
            " 28  grouptime               600 non-null    category      \n",
            "dtypes: category(1), datetime64[ns](1), float64(1), int64(23), object(3)\n",
            "memory usage: 132.7+ KB\n"
          ]
        }
      ]
    },
    {
      "cell_type": "markdown",
      "source": [
        "월에 따른 평균 관객수 구하기"
      ],
      "metadata": {
        "id": "FRC8Gqapwkuw"
      }
    },
    {
      "cell_type": "code",
      "source": [
        "train['release_month'] = train['release_time'].dt.month\n",
        "train['release_month'] = train['release_time'].dt.month.dropna()\n",
        "train.info()"
      ],
      "metadata": {
        "colab": {
          "base_uri": "https://localhost:8080/"
        },
        "id": "bPrYlxihwjuZ",
        "outputId": "302e6e38-7e83-4de0-f43d-612c827e3639"
      },
      "execution_count": 20,
      "outputs": [
        {
          "output_type": "stream",
          "name": "stdout",
          "text": [
            "<class 'pandas.core.frame.DataFrame'>\n",
            "RangeIndex: 600 entries, 0 to 599\n",
            "Data columns (total 30 columns):\n",
            " #   Column                  Non-Null Count  Dtype         \n",
            "---  ------                  --------------  -----         \n",
            " 0   title                   600 non-null    object        \n",
            " 1   distributor             600 non-null    object        \n",
            " 2   release_time            600 non-null    datetime64[ns]\n",
            " 3   time                    600 non-null    int64         \n",
            " 4   director                600 non-null    object        \n",
            " 5   dir_prev_bfnum          600 non-null    float64       \n",
            " 6   dir_prev_num            600 non-null    int64         \n",
            " 7   num_staff               600 non-null    int64         \n",
            " 8   num_actor               600 non-null    int64         \n",
            " 9   box_off_num             600 non-null    int64         \n",
            " 10  genre_SF                600 non-null    int64         \n",
            " 11  genre_공포                600 non-null    int64         \n",
            " 12  genre_느와르               600 non-null    int64         \n",
            " 13  genre_다큐멘터리             600 non-null    int64         \n",
            " 14  genre_드라마               600 non-null    int64         \n",
            " 15  genre_멜로/로맨스            600 non-null    int64         \n",
            " 16  genre_뮤지컬               600 non-null    int64         \n",
            " 17  genre_미스터리              600 non-null    int64         \n",
            " 18  genre_서스펜스              600 non-null    int64         \n",
            " 19  genre_애니메이션             600 non-null    int64         \n",
            " 20  genre_액션                600 non-null    int64         \n",
            " 21  genre_코미디               600 non-null    int64         \n",
            " 22  screening_rat_12세 관람가   600 non-null    int64         \n",
            " 23  screening_rat_15세 관람가   600 non-null    int64         \n",
            " 24  screening_rat_전체 관람가    600 non-null    int64         \n",
            " 25  screening_rat_청소년 관람불가  600 non-null    int64         \n",
            " 26  hour                    600 non-null    int64         \n",
            " 27  min                     600 non-null    int64         \n",
            " 28  grouptime               600 non-null    category      \n",
            " 29  release_month           600 non-null    int32         \n",
            "dtypes: category(1), datetime64[ns](1), float64(1), int32(1), int64(23), object(3)\n",
            "memory usage: 135.1+ KB\n"
          ]
        }
      ]
    },
    {
      "cell_type": "code",
      "source": [
        "mean_box_off_num_month = train.groupby('release_month')['box_off_num'].mean()\n",
        "print(mean_box_off_num_month)"
      ],
      "metadata": {
        "colab": {
          "base_uri": "https://localhost:8080/"
        },
        "id": "nwQ_Q-LLws6d",
        "outputId": "53a34bf2-58f7-409d-879d-97a9a623fd4d"
      },
      "execution_count": 21,
      "outputs": [
        {
          "output_type": "stream",
          "name": "stdout",
          "text": [
            "release_month\n",
            "1     1.365931e+06\n",
            "2     6.630252e+05\n",
            "3     2.738874e+05\n",
            "4     2.581667e+05\n",
            "5     5.756852e+05\n",
            "6     5.122865e+05\n",
            "7     1.113807e+06\n",
            "8     1.029162e+06\n",
            "9     7.315286e+05\n",
            "10    3.859042e+05\n",
            "11    4.956539e+05\n",
            "12    1.288248e+06\n",
            "Name: box_off_num, dtype: float64\n"
          ]
        }
      ]
    },
    {
      "cell_type": "code",
      "source": [
        "sns.barplot(x = mean_box_off_num_month.index, y= mean_box_off_num_month)"
      ],
      "metadata": {
        "colab": {
          "base_uri": "https://localhost:8080/",
          "height": 483
        },
        "id": "3mDnchpSwuAA",
        "outputId": "9b7676f2-59ca-4173-ed97-21374f64c5d3"
      },
      "execution_count": 22,
      "outputs": [
        {
          "output_type": "execute_result",
          "data": {
            "text/plain": [
              "<Axes: xlabel='release_month', ylabel='box_off_num'>"
            ]
          },
          "metadata": {},
          "execution_count": 22
        },
        {
          "output_type": "display_data",
          "data": {
            "text/plain": [
              "<Figure size 640x480 with 1 Axes>"
            ],
            "image/png": "[encoded data removed]"
          },
          "metadata": {}
        }
      ]
    },
    {
      "cell_type": "markdown",
      "source": [
        "12월, 1월, 7월, 8월에 평균 관객 수가 높고 3,4월에 낮은 편이다."
      ],
      "metadata": {
        "id": "ts5CtxfVw31E"
      }
    },
    {
      "cell_type": "markdown",
      "source": [
        "# 4. 모델 적합"
      ],
      "metadata": {
        "id": "9pqxdt9rec8L"
      }
    },
    {
      "cell_type": "markdown",
      "source": [
        "### 1. 엘라스틱 회귀(Elastic Regression)"
      ],
      "metadata": {
        "id": "h8luheucAP9e"
      }
    },
    {
      "cell_type": "code",
      "source": [
        "from sklearn.linear_model import ElasticNet\n",
        "\n",
        "myelastic = ElasticNet()\n",
        "myelastic.fit(X, Y)\n",
        "ElasticNet()"
      ],
      "metadata": {
        "colab": {
          "base_uri": "https://localhost:8080/",
          "height": 75
        },
        "id": "tLuRWU7-v4Jd",
        "outputId": "e0c74203-0cee-42ba-d70d-4d9146bf6d4e"
      },
      "execution_count": null,
      "outputs": [
        {
          "output_type": "execute_result",
          "data": {
            "text/plain": [
              "ElasticNet()"
            ],
            "text/html": [
              "<style>#sk-container-id-1 {color: black;background-color: white;}#sk-container-id-1 pre{padding: 0;}#sk-container-id-1 div.sk-toggleable {background-color: white;}#sk-container-id-1 label.sk-toggleable__label {cursor: pointer;display: block;width: 100%;margin-bottom: 0;padding: 0.3em;box-sizing: border-box;text-align: center;}#sk-container-id-1 label.sk-toggleable__label-arrow:before {content: \"▸\";float: left;margin-right: 0.25em;color: #696969;}#sk-container-id-1 label.sk-toggleable__label-arrow:hover:before {color: black;}#sk-container-id-1 div.sk-estimator:hover label.sk-toggleable__label-arrow:before {color: black;}#sk-container-id-1 div.sk-toggleable__content {max-height: 0;max-width: 0;overflow: hidden;text-align: left;background-color: #f0f8ff;}#sk-container-id-1 div.sk-toggleable__content pre {margin: 0.2em;color: black;border-radius: 0.25em;background-color: #f0f8ff;}#sk-container-id-1 input.sk-toggleable__control:checked~div.sk-toggleable__content {max-height: 200px;max-width: 100%;overflow: auto;}#sk-container-id-1 input.sk-toggleable__control:checked~label.sk-toggleable__label-arrow:before {content: \"▾\";}#sk-container-id-1 div.sk-estimator input.sk-toggleable__control:checked~label.sk-toggleable__label {background-color: #d4ebff;}#sk-container-id-1 div.sk-label input.sk-toggleable__control:checked~label.sk-toggleable__label {background-color: #d4ebff;}#sk-container-id-1 input.sk-hidden--visually {border: 0;clip: rect(1px 1px 1px 1px);clip: rect(1px, 1px, 1px, 1px);height: 1px;margin: -1px;overflow: hidden;padding: 0;position: absolute;width: 1px;}#sk-container-id-1 div.sk-estimator {font-family: monospace;background-color: #f0f8ff;border: 1px dotted black;border-radius: 0.25em;box-sizing: border-box;margin-bottom: 0.5em;}#sk-container-id-1 div.sk-estimator:hover {background-color: #d4ebff;}#sk-container-id-1 div.sk-parallel-item::after {content: \"\";width: 100%;border-bottom: 1px solid gray;flex-grow: 1;}#sk-container-id-1 div.sk-label:hover label.sk-toggleable__label {background-color: #d4ebff;}#sk-container-id-1 div.sk-serial::before {content: \"\";position: absolute;border-left: 1px solid gray;box-sizing: border-box;top: 0;bottom: 0;left: 50%;z-index: 0;}#sk-container-id-1 div.sk-serial {display: flex;flex-direction: column;align-items: center;background-color: white;padding-right: 0.2em;padding-left: 0.2em;position: relative;}#sk-container-id-1 div.sk-item {position: relative;z-index: 1;}#sk-container-id-1 div.sk-parallel {display: flex;align-items: stretch;justify-content: center;background-color: white;position: relative;}#sk-container-id-1 div.sk-item::before, #sk-container-id-1 div.sk-parallel-item::before {content: \"\";position: absolute;border-left: 1px solid gray;box-sizing: border-box;top: 0;bottom: 0;left: 50%;z-index: -1;}#sk-container-id-1 div.sk-parallel-item {display: flex;flex-direction: column;z-index: 1;position: relative;background-color: white;}#sk-container-id-1 div.sk-parallel-item:first-child::after {align-self: flex-end;width: 50%;}#sk-container-id-1 div.sk-parallel-item:last-child::after {align-self: flex-start;width: 50%;}#sk-container-id-1 div.sk-parallel-item:only-child::after {width: 0;}#sk-container-id-1 div.sk-dashed-wrapped {border: 1px dashed gray;margin: 0 0.4em 0.5em 0.4em;box-sizing: border-box;padding-bottom: 0.4em;background-color: white;}#sk-container-id-1 div.sk-label label {font-family: monospace;font-weight: bold;display: inline-block;line-height: 1.2em;}#sk-container-id-1 div.sk-label-container {text-align: center;}#sk-container-id-1 div.sk-container {/* jupyter's `normalize.less` sets `[hidden] { display: none; }` but bootstrap.min.css set `[hidden] { display: none !important; }` so we also need the `!important` here to be able to override the default hidden behavior on the sphinx rendered scikit-learn.org. See: https://github.com/scikit-learn/scikit-learn/issues/21755 */display: inline-block !important;position: relative;}#sk-container-id-1 div.sk-text-repr-fallback {display: none;}</style><div id=\"sk-container-id-1\" class=\"sk-top-container\"><div class=\"sk-text-repr-fallback\"><pre>ElasticNet()</pre><b>In a Jupyter environment, please rerun this cell to show the HTML representation or trust the notebook. <br />On GitHub, the HTML representation is unable to render, please try loading this page with nbviewer.org.</b></div><div class=\"sk-container\" hidden><div class=\"sk-item\"><div class=\"sk-estimator sk-toggleable\"><input class=\"sk-toggleable__control sk-hidden--visually\" id=\"sk-estimator-id-1\" type=\"checkbox\" checked><label for=\"sk-estimator-id-1\" class=\"sk-toggleable__label sk-toggleable__label-arrow\">ElasticNet</label><div class=\"sk-toggleable__content\"><pre>ElasticNet()</pre></div></div></div></div></div>"
            ]
          },
          "metadata": {},
          "execution_count": 22
        }
      ]
    },
    {
      "cell_type": "code",
      "source": [
        "from sklearn.linear_model import ElasticNet\n",
        "from sklearn.model_selection import GridSearchCV\n",
        "import numpy as np\n",
        "\n",
        "# Example dataset X, Y\n",
        "# X(features)와 Y(target) 데이터를 준비해야 합니다.\n",
        "\n",
        "# ElasticNet 모델 초기화\n",
        "myelastic = ElasticNet()\n",
        "\n",
        "# 매개변수 그리드 설정\n",
        "param_grid = {\n",
        "    'alpha': np.logspace(-4, 0, 10),  # 모델의 정규화 강도를 조절합니다.\n",
        "    'l1_ratio': np.arange(0.0, 1.0, 0.1)  # ElasticNet 혼합 매개변수입니다. 0은 L2 규제만을 의미하고, 1은 L1 규제만을 의미합니다.\n",
        "}\n",
        "\n",
        "# GridSearchCV 초기화\n",
        "grid_search = GridSearchCV(estimator=myelastic, param_grid=param_grid, cv=5, scoring='neg_mean_squared_error', verbose=1, n_jobs=-1)\n",
        "\n",
        "# 최적의 매개변수를 찾기 위해 모델 학습\n",
        "grid_search.fit(X, Y)\n",
        "\n",
        "# 최적의 매개변수 출력\n",
        "print(\"Best parameters:\", grid_search.best_params_)\n",
        "\n",
        "# 최적의 매개변수로 모델 재학습\n",
        "best_elastic = grid_search.best_estimator_\n",
        "best_elastic.fit(X, Y)"
      ],
      "metadata": {
        "colab": {
          "base_uri": "https://localhost:8080/",
          "height": 111
        },
        "id": "oDRlduDvwZC3",
        "outputId": "cc03ad7d-cc6d-4c39-eda4-351e75483db6"
      },
      "execution_count": null,
      "outputs": [
        {
          "output_type": "stream",
          "name": "stdout",
          "text": [
            "Fitting 5 folds for each of 100 candidates, totalling 500 fits\n",
            "Best parameters: {'alpha': 0.016681005372000592, 'l1_ratio': 0.9}\n"
          ]
        },
        {
          "output_type": "execute_result",
          "data": {
            "text/plain": [
              "ElasticNet(alpha=0.016681005372000592, l1_ratio=0.9)"
            ],
            "text/html": [
              "<style>#sk-container-id-2 {color: black;background-color: white;}#sk-container-id-2 pre{padding: 0;}#sk-container-id-2 div.sk-toggleable {background-color: white;}#sk-container-id-2 label.sk-toggleable__label {cursor: pointer;display: block;width: 100%;margin-bottom: 0;padding: 0.3em;box-sizing: border-box;text-align: center;}#sk-container-id-2 label.sk-toggleable__label-arrow:before {content: \"▸\";float: left;margin-right: 0.25em;color: #696969;}#sk-container-id-2 label.sk-toggleable__label-arrow:hover:before {color: black;}#sk-container-id-2 div.sk-estimator:hover label.sk-toggleable__label-arrow:before {color: black;}#sk-container-id-2 div.sk-toggleable__content {max-height: 0;max-width: 0;overflow: hidden;text-align: left;background-color: #f0f8ff;}#sk-container-id-2 div.sk-toggleable__content pre {margin: 0.2em;color: black;border-radius: 0.25em;background-color: #f0f8ff;}#sk-container-id-2 input.sk-toggleable__control:checked~div.sk-toggleable__content {max-height: 200px;max-width: 100%;overflow: auto;}#sk-container-id-2 input.sk-toggleable__control:checked~label.sk-toggleable__label-arrow:before {content: \"▾\";}#sk-container-id-2 div.sk-estimator input.sk-toggleable__control:checked~label.sk-toggleable__label {background-color: #d4ebff;}#sk-container-id-2 div.sk-label input.sk-toggleable__control:checked~label.sk-toggleable__label {background-color: #d4ebff;}#sk-container-id-2 input.sk-hidden--visually {border: 0;clip: rect(1px 1px 1px 1px);clip: rect(1px, 1px, 1px, 1px);height: 1px;margin: -1px;overflow: hidden;padding: 0;position: absolute;width: 1px;}#sk-container-id-2 div.sk-estimator {font-family: monospace;background-color: #f0f8ff;border: 1px dotted black;border-radius: 0.25em;box-sizing: border-box;margin-bottom: 0.5em;}#sk-container-id-2 div.sk-estimator:hover {background-color: #d4ebff;}#sk-container-id-2 div.sk-parallel-item::after {content: \"\";width: 100%;border-bottom: 1px solid gray;flex-grow: 1;}#sk-container-id-2 div.sk-label:hover label.sk-toggleable__label {background-color: #d4ebff;}#sk-container-id-2 div.sk-serial::before {content: \"\";position: absolute;border-left: 1px solid gray;box-sizing: border-box;top: 0;bottom: 0;left: 50%;z-index: 0;}#sk-container-id-2 div.sk-serial {display: flex;flex-direction: column;align-items: center;background-color: white;padding-right: 0.2em;padding-left: 0.2em;position: relative;}#sk-container-id-2 div.sk-item {position: relative;z-index: 1;}#sk-container-id-2 div.sk-parallel {display: flex;align-items: stretch;justify-content: center;background-color: white;position: relative;}#sk-container-id-2 div.sk-item::before, #sk-container-id-2 div.sk-parallel-item::before {content: \"\";position: absolute;border-left: 1px solid gray;box-sizing: border-box;top: 0;bottom: 0;left: 50%;z-index: -1;}#sk-container-id-2 div.sk-parallel-item {display: flex;flex-direction: column;z-index: 1;position: relative;background-color: white;}#sk-container-id-2 div.sk-parallel-item:first-child::after {align-self: flex-end;width: 50%;}#sk-container-id-2 div.sk-parallel-item:last-child::after {align-self: flex-start;width: 50%;}#sk-container-id-2 div.sk-parallel-item:only-child::after {width: 0;}#sk-container-id-2 div.sk-dashed-wrapped {border: 1px dashed gray;margin: 0 0.4em 0.5em 0.4em;box-sizing: border-box;padding-bottom: 0.4em;background-color: white;}#sk-container-id-2 div.sk-label label {font-family: monospace;font-weight: bold;display: inline-block;line-height: 1.2em;}#sk-container-id-2 div.sk-label-container {text-align: center;}#sk-container-id-2 div.sk-container {/* jupyter's `normalize.less` sets `[hidden] { display: none; }` but bootstrap.min.css set `[hidden] { display: none !important; }` so we also need the `!important` here to be able to override the default hidden behavior on the sphinx rendered scikit-learn.org. See: https://github.com/scikit-learn/scikit-learn/issues/21755 */display: inline-block !important;position: relative;}#sk-container-id-2 div.sk-text-repr-fallback {display: none;}</style><div id=\"sk-container-id-2\" class=\"sk-top-container\"><div class=\"sk-text-repr-fallback\"><pre>ElasticNet(alpha=0.016681005372000592, l1_ratio=0.9)</pre><b>In a Jupyter environment, please rerun this cell to show the HTML representation or trust the notebook. <br />On GitHub, the HTML representation is unable to render, please try loading this page with nbviewer.org.</b></div><div class=\"sk-container\" hidden><div class=\"sk-item\"><div class=\"sk-estimator sk-toggleable\"><input class=\"sk-toggleable__control sk-hidden--visually\" id=\"sk-estimator-id-2\" type=\"checkbox\" checked><label for=\"sk-estimator-id-2\" class=\"sk-toggleable__label sk-toggleable__label-arrow\">ElasticNet</label><div class=\"sk-toggleable__content\"><pre>ElasticNet(alpha=0.016681005372000592, l1_ratio=0.9)</pre></div></div></div></div></div>"
            ]
          },
          "metadata": {},
          "execution_count": 23
        }
      ]
    },
    {
      "cell_type": "code",
      "source": [
        "from sklearn.metrics import mean_squared_error\n",
        "\n",
        "predicted_elastic = np.exp(best_elastic.predict(X)) - 1\n",
        "MSE_elastic = mean_squared_error(Y, predicted_elastic)\n",
        "\n",
        "print(np.sqrt(MSE_elastic))"
      ],
      "metadata": {
        "colab": {
          "base_uri": "https://localhost:8080/"
        },
        "id": "XOKu1WhWwcZN",
        "outputId": "0a29d4f9-6258-4d33-92b9-b1065a2a1465"
      },
      "execution_count": null,
      "outputs": [
        {
          "output_type": "stream",
          "name": "stdout",
          "text": [
            "884375.0928027934\n"
          ]
        }
      ]
    },
    {
      "cell_type": "markdown",
      "source": [
        "### 2. 배깅(Bagging)"
      ],
      "metadata": {
        "id": "--7zhysfw6ux"
      }
    },
    {
      "cell_type": "code",
      "source": [
        "from sklearn.ensemble import BaggingRegressor\n",
        "\n",
        "mybagging = BaggingRegressor()\n",
        "mybagging.fit(X, Y)\n",
        "BaggingRegressor()"
      ],
      "metadata": {
        "colab": {
          "base_uri": "https://localhost:8080/",
          "height": 75
        },
        "id": "j0j5_xDSxEXg",
        "outputId": "a96b8bc6-4c3f-4d83-e9f3-9984708e5dc7"
      },
      "execution_count": null,
      "outputs": [
        {
          "output_type": "execute_result",
          "data": {
            "text/plain": [
              "BaggingRegressor()"
            ],
            "text/html": [
              "<style>#sk-container-id-3 {color: black;background-color: white;}#sk-container-id-3 pre{padding: 0;}#sk-container-id-3 div.sk-toggleable {background-color: white;}#sk-container-id-3 label.sk-toggleable__label {cursor: pointer;display: block;width: 100%;margin-bottom: 0;padding: 0.3em;box-sizing: border-box;text-align: center;}#sk-container-id-3 label.sk-toggleable__label-arrow:before {content: \"▸\";float: left;margin-right: 0.25em;color: #696969;}#sk-container-id-3 label.sk-toggleable__label-arrow:hover:before {color: black;}#sk-container-id-3 div.sk-estimator:hover label.sk-toggleable__label-arrow:before {color: black;}#sk-container-id-3 div.sk-toggleable__content {max-height: 0;max-width: 0;overflow: hidden;text-align: left;background-color: #f0f8ff;}#sk-container-id-3 div.sk-toggleable__content pre {margin: 0.2em;color: black;border-radius: 0.25em;background-color: #f0f8ff;}#sk-container-id-3 input.sk-toggleable__control:checked~div.sk-toggleable__content {max-height: 200px;max-width: 100%;overflow: auto;}#sk-container-id-3 input.sk-toggleable__control:checked~label.sk-toggleable__label-arrow:before {content: \"▾\";}#sk-container-id-3 div.sk-estimator input.sk-toggleable__control:checked~label.sk-toggleable__label {background-color: #d4ebff;}#sk-container-id-3 div.sk-label input.sk-toggleable__control:checked~label.sk-toggleable__label {background-color: #d4ebff;}#sk-container-id-3 input.sk-hidden--visually {border: 0;clip: rect(1px 1px 1px 1px);clip: rect(1px, 1px, 1px, 1px);height: 1px;margin: -1px;overflow: hidden;padding: 0;position: absolute;width: 1px;}#sk-container-id-3 div.sk-estimator {font-family: monospace;background-color: #f0f8ff;border: 1px dotted black;border-radius: 0.25em;box-sizing: border-box;margin-bottom: 0.5em;}#sk-container-id-3 div.sk-estimator:hover {background-color: #d4ebff;}#sk-container-id-3 div.sk-parallel-item::after {content: \"\";width: 100%;border-bottom: 1px solid gray;flex-grow: 1;}#sk-container-id-3 div.sk-label:hover label.sk-toggleable__label {background-color: #d4ebff;}#sk-container-id-3 div.sk-serial::before {content: \"\";position: absolute;border-left: 1px solid gray;box-sizing: border-box;top: 0;bottom: 0;left: 50%;z-index: 0;}#sk-container-id-3 div.sk-serial {display: flex;flex-direction: column;align-items: center;background-color: white;padding-right: 0.2em;padding-left: 0.2em;position: relative;}#sk-container-id-3 div.sk-item {position: relative;z-index: 1;}#sk-container-id-3 div.sk-parallel {display: flex;align-items: stretch;justify-content: center;background-color: white;position: relative;}#sk-container-id-3 div.sk-item::before, #sk-container-id-3 div.sk-parallel-item::before {content: \"\";position: absolute;border-left: 1px solid gray;box-sizing: border-box;top: 0;bottom: 0;left: 50%;z-index: -1;}#sk-container-id-3 div.sk-parallel-item {display: flex;flex-direction: column;z-index: 1;position: relative;background-color: white;}#sk-container-id-3 div.sk-parallel-item:first-child::after {align-self: flex-end;width: 50%;}#sk-container-id-3 div.sk-parallel-item:last-child::after {align-self: flex-start;width: 50%;}#sk-container-id-3 div.sk-parallel-item:only-child::after {width: 0;}#sk-container-id-3 div.sk-dashed-wrapped {border: 1px dashed gray;margin: 0 0.4em 0.5em 0.4em;box-sizing: border-box;padding-bottom: 0.4em;background-color: white;}#sk-container-id-3 div.sk-label label {font-family: monospace;font-weight: bold;display: inline-block;line-height: 1.2em;}#sk-container-id-3 div.sk-label-container {text-align: center;}#sk-container-id-3 div.sk-container {/* jupyter's `normalize.less` sets `[hidden] { display: none; }` but bootstrap.min.css set `[hidden] { display: none !important; }` so we also need the `!important` here to be able to override the default hidden behavior on the sphinx rendered scikit-learn.org. See: https://github.com/scikit-learn/scikit-learn/issues/21755 */display: inline-block !important;position: relative;}#sk-container-id-3 div.sk-text-repr-fallback {display: none;}</style><div id=\"sk-container-id-3\" class=\"sk-top-container\"><div class=\"sk-text-repr-fallback\"><pre>BaggingRegressor()</pre><b>In a Jupyter environment, please rerun this cell to show the HTML representation or trust the notebook. <br />On GitHub, the HTML representation is unable to render, please try loading this page with nbviewer.org.</b></div><div class=\"sk-container\" hidden><div class=\"sk-item\"><div class=\"sk-estimator sk-toggleable\"><input class=\"sk-toggleable__control sk-hidden--visually\" id=\"sk-estimator-id-3\" type=\"checkbox\" checked><label for=\"sk-estimator-id-3\" class=\"sk-toggleable__label sk-toggleable__label-arrow\">BaggingRegressor</label><div class=\"sk-toggleable__content\"><pre>BaggingRegressor()</pre></div></div></div></div></div>"
            ]
          },
          "metadata": {},
          "execution_count": 25
        }
      ]
    },
    {
      "cell_type": "code",
      "source": [
        "from sklearn.ensemble import BaggingRegressor\n",
        "from sklearn.model_selection import GridSearchCV\n",
        "\n",
        "# BaggingRegressor 모델 초기화\n",
        "mybagging = BaggingRegressor()\n",
        "\n",
        "# 매개변수 그리드 설정\n",
        "param_grid = {\n",
        "    'n_estimators': [10, 50, 100],  # 사용할 앙상블 모델의 수\n",
        "    'max_samples': [0.5, 1.0],  # 학습 데이터의 최대 샘플 비율 또는 최대 샘플 수\n",
        "}\n",
        "\n",
        "# GridSearchCV 초기화\n",
        "grid_search = GridSearchCV(estimator=mybagging, param_grid=param_grid, cv=5, scoring='neg_mean_squared_error', verbose=1, n_jobs=-1)\n",
        "\n",
        "# 최적의 매개변수를 찾기 위해 모델 학습\n",
        "grid_search.fit(X, Y)\n",
        "\n",
        "# 최적의 매개변수 출력\n",
        "print(\"Best parameters:\", grid_search.best_params_)\n",
        "\n",
        "# 최적의 매개변수로 모델 재학습\n",
        "best_bagging = grid_search.best_estimator_\n",
        "best_bagging.fit(X, Y)"
      ],
      "metadata": {
        "colab": {
          "base_uri": "https://localhost:8080/",
          "height": 111
        },
        "id": "wAEsReu6xVXC",
        "outputId": "9f73923d-d53b-4dbd-ff93-589c7c63828d"
      },
      "execution_count": null,
      "outputs": [
        {
          "output_type": "stream",
          "name": "stdout",
          "text": [
            "Fitting 5 folds for each of 6 candidates, totalling 30 fits\n",
            "Best parameters: {'max_samples': 0.5, 'n_estimators': 100}\n"
          ]
        },
        {
          "output_type": "execute_result",
          "data": {
            "text/plain": [
              "BaggingRegressor(max_samples=0.5, n_estimators=100)"
            ],
            "text/html": [
              "<style>#sk-container-id-4 {color: black;background-color: white;}#sk-container-id-4 pre{padding: 0;}#sk-container-id-4 div.sk-toggleable {background-color: white;}#sk-container-id-4 label.sk-toggleable__label {cursor: pointer;display: block;width: 100%;margin-bottom: 0;padding: 0.3em;box-sizing: border-box;text-align: center;}#sk-container-id-4 label.sk-toggleable__label-arrow:before {content: \"▸\";float: left;margin-right: 0.25em;color: #696969;}#sk-container-id-4 label.sk-toggleable__label-arrow:hover:before {color: black;}#sk-container-id-4 div.sk-estimator:hover label.sk-toggleable__label-arrow:before {color: black;}#sk-container-id-4 div.sk-toggleable__content {max-height: 0;max-width: 0;overflow: hidden;text-align: left;background-color: #f0f8ff;}#sk-container-id-4 div.sk-toggleable__content pre {margin: 0.2em;color: black;border-radius: 0.25em;background-color: #f0f8ff;}#sk-container-id-4 input.sk-toggleable__control:checked~div.sk-toggleable__content {max-height: 200px;max-width: 100%;overflow: auto;}#sk-container-id-4 input.sk-toggleable__control:checked~label.sk-toggleable__label-arrow:before {content: \"▾\";}#sk-container-id-4 div.sk-estimator input.sk-toggleable__control:checked~label.sk-toggleable__label {background-color: #d4ebff;}#sk-container-id-4 div.sk-label input.sk-toggleable__control:checked~label.sk-toggleable__label {background-color: #d4ebff;}#sk-container-id-4 input.sk-hidden--visually {border: 0;clip: rect(1px 1px 1px 1px);clip: rect(1px, 1px, 1px, 1px);height: 1px;margin: -1px;overflow: hidden;padding: 0;position: absolute;width: 1px;}#sk-container-id-4 div.sk-estimator {font-family: monospace;background-color: #f0f8ff;border: 1px dotted black;border-radius: 0.25em;box-sizing: border-box;margin-bottom: 0.5em;}#sk-container-id-4 div.sk-estimator:hover {background-color: #d4ebff;}#sk-container-id-4 div.sk-parallel-item::after {content: \"\";width: 100%;border-bottom: 1px solid gray;flex-grow: 1;}#sk-container-id-4 div.sk-label:hover label.sk-toggleable__label {background-color: #d4ebff;}#sk-container-id-4 div.sk-serial::before {content: \"\";position: absolute;border-left: 1px solid gray;box-sizing: border-box;top: 0;bottom: 0;left: 50%;z-index: 0;}#sk-container-id-4 div.sk-serial {display: flex;flex-direction: column;align-items: center;background-color: white;padding-right: 0.2em;padding-left: 0.2em;position: relative;}#sk-container-id-4 div.sk-item {position: relative;z-index: 1;}#sk-container-id-4 div.sk-parallel {display: flex;align-items: stretch;justify-content: center;background-color: white;position: relative;}#sk-container-id-4 div.sk-item::before, #sk-container-id-4 div.sk-parallel-item::before {content: \"\";position: absolute;border-left: 1px solid gray;box-sizing: border-box;top: 0;bottom: 0;left: 50%;z-index: -1;}#sk-container-id-4 div.sk-parallel-item {display: flex;flex-direction: column;z-index: 1;position: relative;background-color: white;}#sk-container-id-4 div.sk-parallel-item:first-child::after {align-self: flex-end;width: 50%;}#sk-container-id-4 div.sk-parallel-item:last-child::after {align-self: flex-start;width: 50%;}#sk-container-id-4 div.sk-parallel-item:only-child::after {width: 0;}#sk-container-id-4 div.sk-dashed-wrapped {border: 1px dashed gray;margin: 0 0.4em 0.5em 0.4em;box-sizing: border-box;padding-bottom: 0.4em;background-color: white;}#sk-container-id-4 div.sk-label label {font-family: monospace;font-weight: bold;display: inline-block;line-height: 1.2em;}#sk-container-id-4 div.sk-label-container {text-align: center;}#sk-container-id-4 div.sk-container {/* jupyter's `normalize.less` sets `[hidden] { display: none; }` but bootstrap.min.css set `[hidden] { display: none !important; }` so we also need the `!important` here to be able to override the default hidden behavior on the sphinx rendered scikit-learn.org. See: https://github.com/scikit-learn/scikit-learn/issues/21755 */display: inline-block !important;position: relative;}#sk-container-id-4 div.sk-text-repr-fallback {display: none;}</style><div id=\"sk-container-id-4\" class=\"sk-top-container\"><div class=\"sk-text-repr-fallback\"><pre>BaggingRegressor(max_samples=0.5, n_estimators=100)</pre><b>In a Jupyter environment, please rerun this cell to show the HTML representation or trust the notebook. <br />On GitHub, the HTML representation is unable to render, please try loading this page with nbviewer.org.</b></div><div class=\"sk-container\" hidden><div class=\"sk-item\"><div class=\"sk-estimator sk-toggleable\"><input class=\"sk-toggleable__control sk-hidden--visually\" id=\"sk-estimator-id-4\" type=\"checkbox\" checked><label for=\"sk-estimator-id-4\" class=\"sk-toggleable__label sk-toggleable__label-arrow\">BaggingRegressor</label><div class=\"sk-toggleable__content\"><pre>BaggingRegressor(max_samples=0.5, n_estimators=100)</pre></div></div></div></div></div>"
            ]
          },
          "metadata": {},
          "execution_count": 26
        }
      ]
    },
    {
      "cell_type": "code",
      "source": [
        "from sklearn.metrics import mean_squared_error\n",
        "\n",
        "predicted_bagging = np.exp(best_bagging.predict(X)) - 1\n",
        "MSE_bagging = mean_squared_error(Y, predicted_bagging)\n",
        "\n",
        "print(np.sqrt(MSE_bagging))"
      ],
      "metadata": {
        "colab": {
          "base_uri": "https://localhost:8080/"
        },
        "id": "mJ-sSIigx7oU",
        "outputId": "03c1647b-6eaa-4fa5-c78a-647085d9c037"
      },
      "execution_count": null,
      "outputs": [
        {
          "output_type": "stream",
          "name": "stdout",
          "text": [
            "536199.9682036721\n"
          ]
        }
      ]
    },
    {
      "cell_type": "markdown",
      "source": [
        "### 3. Random Forest"
      ],
      "metadata": {
        "id": "rH3ztc4YAiHq"
      }
    },
    {
      "cell_type": "code",
      "source": [
        "from sklearn.ensemble import RandomForestRegressor\n",
        "myrf = RandomForestRegressor()\n",
        "myrf.fit(X, Y)"
      ],
      "metadata": {
        "colab": {
          "base_uri": "https://localhost:8080/",
          "height": 75
        },
        "id": "EySxYpxQidfg",
        "outputId": "cb6cf64d-c8c0-4ce6-8b7d-473cecbfc274"
      },
      "execution_count": null,
      "outputs": [
        {
          "output_type": "execute_result",
          "data": {
            "text/plain": [
              "RandomForestRegressor()"
            ],
            "text/html": [
              "<style>#sk-container-id-5 {color: black;background-color: white;}#sk-container-id-5 pre{padding: 0;}#sk-container-id-5 div.sk-toggleable {background-color: white;}#sk-container-id-5 label.sk-toggleable__label {cursor: pointer;display: block;width: 100%;margin-bottom: 0;padding: 0.3em;box-sizing: border-box;text-align: center;}#sk-container-id-5 label.sk-toggleable__label-arrow:before {content: \"▸\";float: left;margin-right: 0.25em;color: #696969;}#sk-container-id-5 label.sk-toggleable__label-arrow:hover:before {color: black;}#sk-container-id-5 div.sk-estimator:hover label.sk-toggleable__label-arrow:before {color: black;}#sk-container-id-5 div.sk-toggleable__content {max-height: 0;max-width: 0;overflow: hidden;text-align: left;background-color: #f0f8ff;}#sk-container-id-5 div.sk-toggleable__content pre {margin: 0.2em;color: black;border-radius: 0.25em;background-color: #f0f8ff;}#sk-container-id-5 input.sk-toggleable__control:checked~div.sk-toggleable__content {max-height: 200px;max-width: 100%;overflow: auto;}#sk-container-id-5 input.sk-toggleable__control:checked~label.sk-toggleable__label-arrow:before {content: \"▾\";}#sk-container-id-5 div.sk-estimator input.sk-toggleable__control:checked~label.sk-toggleable__label {background-color: #d4ebff;}#sk-container-id-5 div.sk-label input.sk-toggleable__control:checked~label.sk-toggleable__label {background-color: #d4ebff;}#sk-container-id-5 input.sk-hidden--visually {border: 0;clip: rect(1px 1px 1px 1px);clip: rect(1px, 1px, 1px, 1px);height: 1px;margin: -1px;overflow: hidden;padding: 0;position: absolute;width: 1px;}#sk-container-id-5 div.sk-estimator {font-family: monospace;background-color: #f0f8ff;border: 1px dotted black;border-radius: 0.25em;box-sizing: border-box;margin-bottom: 0.5em;}#sk-container-id-5 div.sk-estimator:hover {background-color: #d4ebff;}#sk-container-id-5 div.sk-parallel-item::after {content: \"\";width: 100%;border-bottom: 1px solid gray;flex-grow: 1;}#sk-container-id-5 div.sk-label:hover label.sk-toggleable__label {background-color: #d4ebff;}#sk-container-id-5 div.sk-serial::before {content: \"\";position: absolute;border-left: 1px solid gray;box-sizing: border-box;top: 0;bottom: 0;left: 50%;z-index: 0;}#sk-container-id-5 div.sk-serial {display: flex;flex-direction: column;align-items: center;background-color: white;padding-right: 0.2em;padding-left: 0.2em;position: relative;}#sk-container-id-5 div.sk-item {position: relative;z-index: 1;}#sk-container-id-5 div.sk-parallel {display: flex;align-items: stretch;justify-content: center;background-color: white;position: relative;}#sk-container-id-5 div.sk-item::before, #sk-container-id-5 div.sk-parallel-item::before {content: \"\";position: absolute;border-left: 1px solid gray;box-sizing: border-box;top: 0;bottom: 0;left: 50%;z-index: -1;}#sk-container-id-5 div.sk-parallel-item {display: flex;flex-direction: column;z-index: 1;position: relative;background-color: white;}#sk-container-id-5 div.sk-parallel-item:first-child::after {align-self: flex-end;width: 50%;}#sk-container-id-5 div.sk-parallel-item:last-child::after {align-self: flex-start;width: 50%;}#sk-container-id-5 div.sk-parallel-item:only-child::after {width: 0;}#sk-container-id-5 div.sk-dashed-wrapped {border: 1px dashed gray;margin: 0 0.4em 0.5em 0.4em;box-sizing: border-box;padding-bottom: 0.4em;background-color: white;}#sk-container-id-5 div.sk-label label {font-family: monospace;font-weight: bold;display: inline-block;line-height: 1.2em;}#sk-container-id-5 div.sk-label-container {text-align: center;}#sk-container-id-5 div.sk-container {/* jupyter's `normalize.less` sets `[hidden] { display: none; }` but bootstrap.min.css set `[hidden] { display: none !important; }` so we also need the `!important` here to be able to override the default hidden behavior on the sphinx rendered scikit-learn.org. See: https://github.com/scikit-learn/scikit-learn/issues/21755 */display: inline-block !important;position: relative;}#sk-container-id-5 div.sk-text-repr-fallback {display: none;}</style><div id=\"sk-container-id-5\" class=\"sk-top-container\"><div class=\"sk-text-repr-fallback\"><pre>RandomForestRegressor()</pre><b>In a Jupyter environment, please rerun this cell to show the HTML representation or trust the notebook. <br />On GitHub, the HTML representation is unable to render, please try loading this page with nbviewer.org.</b></div><div class=\"sk-container\" hidden><div class=\"sk-item\"><div class=\"sk-estimator sk-toggleable\"><input class=\"sk-toggleable__control sk-hidden--visually\" id=\"sk-estimator-id-5\" type=\"checkbox\" checked><label for=\"sk-estimator-id-5\" class=\"sk-toggleable__label sk-toggleable__label-arrow\">RandomForestRegressor</label><div class=\"sk-toggleable__content\"><pre>RandomForestRegressor()</pre></div></div></div></div></div>"
            ]
          },
          "metadata": {},
          "execution_count": 28
        }
      ]
    },
    {
      "cell_type": "code",
      "source": [
        "from sklearn.model_selection import GridSearchCV\n",
        "from sklearn.ensemble import RandomForestRegressor\n",
        "\n",
        "# 예제 데이터셋 X, Y\n",
        "# X, Y에 해당하는 데이터를 준비해주세요.\n",
        "\n",
        "# 랜덤 포레스트 회귀 모델 초기화\n",
        "myrf = RandomForestRegressor()\n",
        "\n",
        "# 탐색할 파라미터 그리드 설정\n",
        "param_grid = {\n",
        "    'n_estimators': [10, 50, 100, 200],  # 나무의 수\n",
        "    'max_depth': [None, 3, 5, 10, 20, 30]  # 나무의 최대 깊이\n",
        "}\n",
        "\n",
        "# GridSearchCV 초기화\n",
        "grid_search = GridSearchCV(estimator=myrf, param_grid=param_grid, cv=5, scoring='neg_mean_squared_error', verbose=1, n_jobs=-1)\n",
        "\n",
        "# 모델 학습\n",
        "grid_search.fit(X, Y)\n",
        "\n",
        "# 최적 파라미터 출력\n",
        "print(\"최적 파라미터:\", grid_search.best_params_)\n",
        "\n",
        "# 최적 파라미터로 모델 학습\n",
        "best_rf = grid_search.best_estimator_\n",
        "best_rf.fit(X, Y)"
      ],
      "metadata": {
        "colab": {
          "base_uri": "https://localhost:8080/",
          "height": 111
        },
        "id": "tyB6oG8pjXmn",
        "outputId": "fff4fa92-5574-4585-cf71-9638661f3da5"
      },
      "execution_count": null,
      "outputs": [
        {
          "output_type": "stream",
          "name": "stdout",
          "text": [
            "Fitting 5 folds for each of 24 candidates, totalling 120 fits\n",
            "최적 파라미터: {'max_depth': None, 'n_estimators': 200}\n"
          ]
        },
        {
          "output_type": "execute_result",
          "data": {
            "text/plain": [
              "RandomForestRegressor(n_estimators=200)"
            ],
            "text/html": [
              "<style>#sk-container-id-6 {color: black;background-color: white;}#sk-container-id-6 pre{padding: 0;}#sk-container-id-6 div.sk-toggleable {background-color: white;}#sk-container-id-6 label.sk-toggleable__label {cursor: pointer;display: block;width: 100%;margin-bottom: 0;padding: 0.3em;box-sizing: border-box;text-align: center;}#sk-container-id-6 label.sk-toggleable__label-arrow:before {content: \"▸\";float: left;margin-right: 0.25em;color: #696969;}#sk-container-id-6 label.sk-toggleable__label-arrow:hover:before {color: black;}#sk-container-id-6 div.sk-estimator:hover label.sk-toggleable__label-arrow:before {color: black;}#sk-container-id-6 div.sk-toggleable__content {max-height: 0;max-width: 0;overflow: hidden;text-align: left;background-color: #f0f8ff;}#sk-container-id-6 div.sk-toggleable__content pre {margin: 0.2em;color: black;border-radius: 0.25em;background-color: #f0f8ff;}#sk-container-id-6 input.sk-toggleable__control:checked~div.sk-toggleable__content {max-height: 200px;max-width: 100%;overflow: auto;}#sk-container-id-6 input.sk-toggleable__control:checked~label.sk-toggleable__label-arrow:before {content: \"▾\";}#sk-container-id-6 div.sk-estimator input.sk-toggleable__control:checked~label.sk-toggleable__label {background-color: #d4ebff;}#sk-container-id-6 div.sk-label input.sk-toggleable__control:checked~label.sk-toggleable__label {background-color: #d4ebff;}#sk-container-id-6 input.sk-hidden--visually {border: 0;clip: rect(1px 1px 1px 1px);clip: rect(1px, 1px, 1px, 1px);height: 1px;margin: -1px;overflow: hidden;padding: 0;position: absolute;width: 1px;}#sk-container-id-6 div.sk-estimator {font-family: monospace;background-color: #f0f8ff;border: 1px dotted black;border-radius: 0.25em;box-sizing: border-box;margin-bottom: 0.5em;}#sk-container-id-6 div.sk-estimator:hover {background-color: #d4ebff;}#sk-container-id-6 div.sk-parallel-item::after {content: \"\";width: 100%;border-bottom: 1px solid gray;flex-grow: 1;}#sk-container-id-6 div.sk-label:hover label.sk-toggleable__label {background-color: #d4ebff;}#sk-container-id-6 div.sk-serial::before {content: \"\";position: absolute;border-left: 1px solid gray;box-sizing: border-box;top: 0;bottom: 0;left: 50%;z-index: 0;}#sk-container-id-6 div.sk-serial {display: flex;flex-direction: column;align-items: center;background-color: white;padding-right: 0.2em;padding-left: 0.2em;position: relative;}#sk-container-id-6 div.sk-item {position: relative;z-index: 1;}#sk-container-id-6 div.sk-parallel {display: flex;align-items: stretch;justify-content: center;background-color: white;position: relative;}#sk-container-id-6 div.sk-item::before, #sk-container-id-6 div.sk-parallel-item::before {content: \"\";position: absolute;border-left: 1px solid gray;box-sizing: border-box;top: 0;bottom: 0;left: 50%;z-index: -1;}#sk-container-id-6 div.sk-parallel-item {display: flex;flex-direction: column;z-index: 1;position: relative;background-color: white;}#sk-container-id-6 div.sk-parallel-item:first-child::after {align-self: flex-end;width: 50%;}#sk-container-id-6 div.sk-parallel-item:last-child::after {align-self: flex-start;width: 50%;}#sk-container-id-6 div.sk-parallel-item:only-child::after {width: 0;}#sk-container-id-6 div.sk-dashed-wrapped {border: 1px dashed gray;margin: 0 0.4em 0.5em 0.4em;box-sizing: border-box;padding-bottom: 0.4em;background-color: white;}#sk-container-id-6 div.sk-label label {font-family: monospace;font-weight: bold;display: inline-block;line-height: 1.2em;}#sk-container-id-6 div.sk-label-container {text-align: center;}#sk-container-id-6 div.sk-container {/* jupyter's `normalize.less` sets `[hidden] { display: none; }` but bootstrap.min.css set `[hidden] { display: none !important; }` so we also need the `!important` here to be able to override the default hidden behavior on the sphinx rendered scikit-learn.org. See: https://github.com/scikit-learn/scikit-learn/issues/21755 */display: inline-block !important;position: relative;}#sk-container-id-6 div.sk-text-repr-fallback {display: none;}</style><div id=\"sk-container-id-6\" class=\"sk-top-container\"><div class=\"sk-text-repr-fallback\"><pre>RandomForestRegressor(n_estimators=200)</pre><b>In a Jupyter environment, please rerun this cell to show the HTML representation or trust the notebook. <br />On GitHub, the HTML representation is unable to render, please try loading this page with nbviewer.org.</b></div><div class=\"sk-container\" hidden><div class=\"sk-item\"><div class=\"sk-estimator sk-toggleable\"><input class=\"sk-toggleable__control sk-hidden--visually\" id=\"sk-estimator-id-6\" type=\"checkbox\" checked><label for=\"sk-estimator-id-6\" class=\"sk-toggleable__label sk-toggleable__label-arrow\">RandomForestRegressor</label><div class=\"sk-toggleable__content\"><pre>RandomForestRegressor(n_estimators=200)</pre></div></div></div></div></div>"
            ]
          },
          "metadata": {},
          "execution_count": 29
        }
      ]
    },
    {
      "cell_type": "code",
      "source": [
        "from sklearn.metrics import mean_squared_error\n",
        "\n",
        "predicted_rf = np.exp(best_rf.predict(X)) - 1\n",
        "MSE_rf = mean_squared_error(Y, predicted_rf)\n",
        "\n",
        "print(np.sqrt(MSE_rf))"
      ],
      "metadata": {
        "colab": {
          "base_uri": "https://localhost:8080/"
        },
        "id": "PnMU8HrSjbXt",
        "outputId": "d751f264-e4f4-4f8a-daa2-ba2c889f4448"
      },
      "execution_count": null,
      "outputs": [
        {
          "output_type": "stream",
          "name": "stdout",
          "text": [
            "662866.975799216\n"
          ]
        }
      ]
    },
    {
      "cell_type": "markdown",
      "source": [
        "### 4. Gradient Boosting"
      ],
      "metadata": {
        "id": "bFJrLhAzAof2"
      }
    },
    {
      "cell_type": "code",
      "source": [
        "from sklearn.ensemble import GradientBoostingRegressor\n",
        "mygbm = GradientBoostingRegressor()\n",
        "mygbm.fit(X, Y)"
      ],
      "metadata": {
        "colab": {
          "base_uri": "https://localhost:8080/",
          "height": 75
        },
        "id": "OkmsP13lQomO",
        "outputId": "285e90aa-f304-4dd0-dbe1-a9863f46c987"
      },
      "execution_count": null,
      "outputs": [
        {
          "output_type": "execute_result",
          "data": {
            "text/plain": [
              "GradientBoostingRegressor()"
            ],
            "text/html": [
              "<style>#sk-container-id-7 {color: black;background-color: white;}#sk-container-id-7 pre{padding: 0;}#sk-container-id-7 div.sk-toggleable {background-color: white;}#sk-container-id-7 label.sk-toggleable__label {cursor: pointer;display: block;width: 100%;margin-bottom: 0;padding: 0.3em;box-sizing: border-box;text-align: center;}#sk-container-id-7 label.sk-toggleable__label-arrow:before {content: \"▸\";float: left;margin-right: 0.25em;color: #696969;}#sk-container-id-7 label.sk-toggleable__label-arrow:hover:before {color: black;}#sk-container-id-7 div.sk-estimator:hover label.sk-toggleable__label-arrow:before {color: black;}#sk-container-id-7 div.sk-toggleable__content {max-height: 0;max-width: 0;overflow: hidden;text-align: left;background-color: #f0f8ff;}#sk-container-id-7 div.sk-toggleable__content pre {margin: 0.2em;color: black;border-radius: 0.25em;background-color: #f0f8ff;}#sk-container-id-7 input.sk-toggleable__control:checked~div.sk-toggleable__content {max-height: 200px;max-width: 100%;overflow: auto;}#sk-container-id-7 input.sk-toggleable__control:checked~label.sk-toggleable__label-arrow:before {content: \"▾\";}#sk-container-id-7 div.sk-estimator input.sk-toggleable__control:checked~label.sk-toggleable__label {background-color: #d4ebff;}#sk-container-id-7 div.sk-label input.sk-toggleable__control:checked~label.sk-toggleable__label {background-color: #d4ebff;}#sk-container-id-7 input.sk-hidden--visually {border: 0;clip: rect(1px 1px 1px 1px);clip: rect(1px, 1px, 1px, 1px);height: 1px;margin: -1px;overflow: hidden;padding: 0;position: absolute;width: 1px;}#sk-container-id-7 div.sk-estimator {font-family: monospace;background-color: #f0f8ff;border: 1px dotted black;border-radius: 0.25em;box-sizing: border-box;margin-bottom: 0.5em;}#sk-container-id-7 div.sk-estimator:hover {background-color: #d4ebff;}#sk-container-id-7 div.sk-parallel-item::after {content: \"\";width: 100%;border-bottom: 1px solid gray;flex-grow: 1;}#sk-container-id-7 div.sk-label:hover label.sk-toggleable__label {background-color: #d4ebff;}#sk-container-id-7 div.sk-serial::before {content: \"\";position: absolute;border-left: 1px solid gray;box-sizing: border-box;top: 0;bottom: 0;left: 50%;z-index: 0;}#sk-container-id-7 div.sk-serial {display: flex;flex-direction: column;align-items: center;background-color: white;padding-right: 0.2em;padding-left: 0.2em;position: relative;}#sk-container-id-7 div.sk-item {position: relative;z-index: 1;}#sk-container-id-7 div.sk-parallel {display: flex;align-items: stretch;justify-content: center;background-color: white;position: relative;}#sk-container-id-7 div.sk-item::before, #sk-container-id-7 div.sk-parallel-item::before {content: \"\";position: absolute;border-left: 1px solid gray;box-sizing: border-box;top: 0;bottom: 0;left: 50%;z-index: -1;}#sk-container-id-7 div.sk-parallel-item {display: flex;flex-direction: column;z-index: 1;position: relative;background-color: white;}#sk-container-id-7 div.sk-parallel-item:first-child::after {align-self: flex-end;width: 50%;}#sk-container-id-7 div.sk-parallel-item:last-child::after {align-self: flex-start;width: 50%;}#sk-container-id-7 div.sk-parallel-item:only-child::after {width: 0;}#sk-container-id-7 div.sk-dashed-wrapped {border: 1px dashed gray;margin: 0 0.4em 0.5em 0.4em;box-sizing: border-box;padding-bottom: 0.4em;background-color: white;}#sk-container-id-7 div.sk-label label {font-family: monospace;font-weight: bold;display: inline-block;line-height: 1.2em;}#sk-container-id-7 div.sk-label-container {text-align: center;}#sk-container-id-7 div.sk-container {/* jupyter's `normalize.less` sets `[hidden] { display: none; }` but bootstrap.min.css set `[hidden] { display: none !important; }` so we also need the `!important` here to be able to override the default hidden behavior on the sphinx rendered scikit-learn.org. See: https://github.com/scikit-learn/scikit-learn/issues/21755 */display: inline-block !important;position: relative;}#sk-container-id-7 div.sk-text-repr-fallback {display: none;}</style><div id=\"sk-container-id-7\" class=\"sk-top-container\"><div class=\"sk-text-repr-fallback\"><pre>GradientBoostingRegressor()</pre><b>In a Jupyter environment, please rerun this cell to show the HTML representation or trust the notebook. <br />On GitHub, the HTML representation is unable to render, please try loading this page with nbviewer.org.</b></div><div class=\"sk-container\" hidden><div class=\"sk-item\"><div class=\"sk-estimator sk-toggleable\"><input class=\"sk-toggleable__control sk-hidden--visually\" id=\"sk-estimator-id-7\" type=\"checkbox\" checked><label for=\"sk-estimator-id-7\" class=\"sk-toggleable__label sk-toggleable__label-arrow\">GradientBoostingRegressor</label><div class=\"sk-toggleable__content\"><pre>GradientBoostingRegressor()</pre></div></div></div></div></div>"
            ]
          },
          "metadata": {},
          "execution_count": 31
        }
      ]
    },
    {
      "cell_type": "code",
      "source": [
        "from sklearn.model_selection import GridSearchCV\n",
        "from sklearn.ensemble import GradientBoostingRegressor\n",
        "\n",
        "# 예제 데이터셋 X, Y\n",
        "# X와 Y 데이터를 준비하세요.\n",
        "\n",
        "# Gradient Boosting Regressor 모델 초기화\n",
        "mygbm = GradientBoostingRegressor()\n",
        "\n",
        "# 파라미터 그리드 설정\n",
        "param_grid = {\n",
        "    'n_estimators': [50, 100, 200],  # 트리의 개수\n",
        "    'learning_rate': [0.01, 0.1, 0.2],  # 학습률\n",
        "    'max_depth': [3, 5, 7]  # 트리의 최대 깊이\n",
        "}\n",
        "\n",
        "# GridSearchCV 초기화\n",
        "grid_search = GridSearchCV(estimator=mygbm, param_grid=param_grid, cv=5, scoring='neg_mean_squared_error', verbose=1, n_jobs=-1)\n",
        "\n",
        "# 모델 학습\n",
        "grid_search.fit(X, Y)\n",
        "\n",
        "# 최적의 파라미터 출력\n",
        "print(\"최적의 파라미터:\", grid_search.best_params_)\n",
        "\n",
        "# 최적의 파라미터로 모델 학습\n",
        "best_gbm = grid_search.best_estimator_\n",
        "best_gbm.fit(X, Y)"
      ],
      "metadata": {
        "colab": {
          "base_uri": "https://localhost:8080/",
          "height": 111
        },
        "id": "fZbkH5eon_bC",
        "outputId": "0c5348ba-4843-4240-b575-f62e7f206632"
      },
      "execution_count": null,
      "outputs": [
        {
          "output_type": "stream",
          "name": "stdout",
          "text": [
            "Fitting 5 folds for each of 27 candidates, totalling 135 fits\n",
            "최적의 파라미터: {'learning_rate': 0.1, 'max_depth': 5, 'n_estimators': 50}\n"
          ]
        },
        {
          "output_type": "execute_result",
          "data": {
            "text/plain": [
              "GradientBoostingRegressor(max_depth=5, n_estimators=50)"
            ],
            "text/html": [
              "<style>#sk-container-id-8 {color: black;background-color: white;}#sk-container-id-8 pre{padding: 0;}#sk-container-id-8 div.sk-toggleable {background-color: white;}#sk-container-id-8 label.sk-toggleable__label {cursor: pointer;display: block;width: 100%;margin-bottom: 0;padding: 0.3em;box-sizing: border-box;text-align: center;}#sk-container-id-8 label.sk-toggleable__label-arrow:before {content: \"▸\";float: left;margin-right: 0.25em;color: #696969;}#sk-container-id-8 label.sk-toggleable__label-arrow:hover:before {color: black;}#sk-container-id-8 div.sk-estimator:hover label.sk-toggleable__label-arrow:before {color: black;}#sk-container-id-8 div.sk-toggleable__content {max-height: 0;max-width: 0;overflow: hidden;text-align: left;background-color: #f0f8ff;}#sk-container-id-8 div.sk-toggleable__content pre {margin: 0.2em;color: black;border-radius: 0.25em;background-color: #f0f8ff;}#sk-container-id-8 input.sk-toggleable__control:checked~div.sk-toggleable__content {max-height: 200px;max-width: 100%;overflow: auto;}#sk-container-id-8 input.sk-toggleable__control:checked~label.sk-toggleable__label-arrow:before {content: \"▾\";}#sk-container-id-8 div.sk-estimator input.sk-toggleable__control:checked~label.sk-toggleable__label {background-color: #d4ebff;}#sk-container-id-8 div.sk-label input.sk-toggleable__control:checked~label.sk-toggleable__label {background-color: #d4ebff;}#sk-container-id-8 input.sk-hidden--visually {border: 0;clip: rect(1px 1px 1px 1px);clip: rect(1px, 1px, 1px, 1px);height: 1px;margin: -1px;overflow: hidden;padding: 0;position: absolute;width: 1px;}#sk-container-id-8 div.sk-estimator {font-family: monospace;background-color: #f0f8ff;border: 1px dotted black;border-radius: 0.25em;box-sizing: border-box;margin-bottom: 0.5em;}#sk-container-id-8 div.sk-estimator:hover {background-color: #d4ebff;}#sk-container-id-8 div.sk-parallel-item::after {content: \"\";width: 100%;border-bottom: 1px solid gray;flex-grow: 1;}#sk-container-id-8 div.sk-label:hover label.sk-toggleable__label {background-color: #d4ebff;}#sk-container-id-8 div.sk-serial::before {content: \"\";position: absolute;border-left: 1px solid gray;box-sizing: border-box;top: 0;bottom: 0;left: 50%;z-index: 0;}#sk-container-id-8 div.sk-serial {display: flex;flex-direction: column;align-items: center;background-color: white;padding-right: 0.2em;padding-left: 0.2em;position: relative;}#sk-container-id-8 div.sk-item {position: relative;z-index: 1;}#sk-container-id-8 div.sk-parallel {display: flex;align-items: stretch;justify-content: center;background-color: white;position: relative;}#sk-container-id-8 div.sk-item::before, #sk-container-id-8 div.sk-parallel-item::before {content: \"\";position: absolute;border-left: 1px solid gray;box-sizing: border-box;top: 0;bottom: 0;left: 50%;z-index: -1;}#sk-container-id-8 div.sk-parallel-item {display: flex;flex-direction: column;z-index: 1;position: relative;background-color: white;}#sk-container-id-8 div.sk-parallel-item:first-child::after {align-self: flex-end;width: 50%;}#sk-container-id-8 div.sk-parallel-item:last-child::after {align-self: flex-start;width: 50%;}#sk-container-id-8 div.sk-parallel-item:only-child::after {width: 0;}#sk-container-id-8 div.sk-dashed-wrapped {border: 1px dashed gray;margin: 0 0.4em 0.5em 0.4em;box-sizing: border-box;padding-bottom: 0.4em;background-color: white;}#sk-container-id-8 div.sk-label label {font-family: monospace;font-weight: bold;display: inline-block;line-height: 1.2em;}#sk-container-id-8 div.sk-label-container {text-align: center;}#sk-container-id-8 div.sk-container {/* jupyter's `normalize.less` sets `[hidden] { display: none; }` but bootstrap.min.css set `[hidden] { display: none !important; }` so we also need the `!important` here to be able to override the default hidden behavior on the sphinx rendered scikit-learn.org. See: https://github.com/scikit-learn/scikit-learn/issues/21755 */display: inline-block !important;position: relative;}#sk-container-id-8 div.sk-text-repr-fallback {display: none;}</style><div id=\"sk-container-id-8\" class=\"sk-top-container\"><div class=\"sk-text-repr-fallback\"><pre>GradientBoostingRegressor(max_depth=5, n_estimators=50)</pre><b>In a Jupyter environment, please rerun this cell to show the HTML representation or trust the notebook. <br />On GitHub, the HTML representation is unable to render, please try loading this page with nbviewer.org.</b></div><div class=\"sk-container\" hidden><div class=\"sk-item\"><div class=\"sk-estimator sk-toggleable\"><input class=\"sk-toggleable__control sk-hidden--visually\" id=\"sk-estimator-id-8\" type=\"checkbox\" checked><label for=\"sk-estimator-id-8\" class=\"sk-toggleable__label sk-toggleable__label-arrow\">GradientBoostingRegressor</label><div class=\"sk-toggleable__content\"><pre>GradientBoostingRegressor(max_depth=5, n_estimators=50)</pre></div></div></div></div></div>"
            ]
          },
          "metadata": {},
          "execution_count": 32
        }
      ]
    },
    {
      "cell_type": "markdown",
      "source": [
        "#### RMSE로 모델 평가하기"
      ],
      "metadata": {
        "id": "YHBo7ZMeRRln"
      }
    },
    {
      "cell_type": "code",
      "source": [
        "from sklearn.metrics import mean_squared_error\n",
        "\n",
        "predicted_gbm = np.exp(best_gbm.predict(X)) - 1\n",
        "MSE_gbm = mean_squared_error(Y, predicted_gbm)\n",
        "\n",
        "print(np.sqrt(MSE_gbm))"
      ],
      "metadata": {
        "colab": {
          "base_uri": "https://localhost:8080/"
        },
        "id": "rf9MhmcCRTqo",
        "outputId": "7a175809-965f-4825-d98b-5b29d84e3ba0"
      },
      "execution_count": null,
      "outputs": [
        {
          "output_type": "stream",
          "name": "stdout",
          "text": [
            "634344.855214818\n"
          ]
        }
      ]
    },
    {
      "cell_type": "markdown",
      "source": [
        "### 5. LGBM(Light Gradient Boosting)"
      ],
      "metadata": {
        "id": "nD2yb8caATD3"
      }
    },
    {
      "cell_type": "code",
      "source": [
        "from lightgbm import LGBMRegressor\n",
        "mylgbm = LGBMRegressor()\n",
        "mylgbm.fit(X, Y)"
      ],
      "metadata": {
        "colab": {
          "base_uri": "https://localhost:8080/",
          "height": 1000
        },
        "collapsed": true,
        "id": "5ZdnkmDBTdwZ",
        "outputId": "87859444-23a4-4a80-c930-240cbb63320a"
      },
      "execution_count": null,
      "outputs": [
        {
          "output_type": "stream",
          "name": "stdout",
          "text": [
            "[LightGBM] [Warning] Found whitespace in feature_names, replace with underlines\n",
            "[LightGBM] [Info] Auto-choosing row-wise multi-threading, the overhead of testing was 0.000068 seconds.\n",
            "You can set `force_row_wise=true` to remove the overhead.\n",
            "And if memory is not enough, you can set `force_col_wise=true`.\n",
            "[LightGBM] [Info] Total Bins 491\n",
            "[LightGBM] [Info] Number of data points in the train set: 580, number of used features: 36\n",
            "[LightGBM] [Info] Start training from score 9.744773\n",
            "[LightGBM] [Warning] No further splits with positive gain, best gain: -inf\n",
            "[LightGBM] [Warning] No further splits with positive gain, best gain: -inf\n",
            "[LightGBM] [Warning] No further splits with positive gain, best gain: -inf\n",
            "[LightGBM] [Warning] No further splits with positive gain, best gain: -inf\n",
            "[LightGBM] [Warning] No further splits with positive gain, best gain: -inf\n",
            "[LightGBM] [Warning] No further splits with positive gain, best gain: -inf\n",
            "[LightGBM] [Warning] No further splits with positive gain, best gain: -inf\n",
            "[LightGBM] [Warning] No further splits with positive gain, best gain: -inf\n",
            "[LightGBM] [Warning] No further splits with positive gain, best gain: -inf\n",
            "[LightGBM] [Warning] No further splits with positive gain, best gain: -inf\n",
            "[LightGBM] [Warning] No further splits with positive gain, best gain: -inf\n",
            "[LightGBM] [Warning] No further splits with positive gain, best gain: -inf\n",
            "[LightGBM] [Warning] No further splits with positive gain, best gain: -inf\n",
            "[LightGBM] [Warning] No further splits with positive gain, best gain: -inf\n",
            "[LightGBM] [Warning] No further splits with positive gain, best gain: -inf\n",
            "[LightGBM] [Warning] No further splits with positive gain, best gain: -inf\n",
            "[LightGBM] [Warning] No further splits with positive gain, best gain: -inf\n",
            "[LightGBM] [Warning] No further splits with positive gain, best gain: -inf\n",
            "[LightGBM] [Warning] No further splits with positive gain, best gain: -inf\n",
            "[LightGBM] [Warning] No further splits with positive gain, best gain: -inf\n",
            "[LightGBM] [Warning] No further splits with positive gain, best gain: -inf\n",
            "[LightGBM] [Warning] No further splits with positive gain, best gain: -inf\n",
            "[LightGBM] [Warning] No further splits with positive gain, best gain: -inf\n",
            "[LightGBM] [Warning] No further splits with positive gain, best gain: -inf\n",
            "[LightGBM] [Warning] No further splits with positive gain, best gain: -inf\n",
            "[LightGBM] [Warning] No further splits with positive gain, best gain: -inf\n",
            "[LightGBM] [Warning] No further splits with positive gain, best gain: -inf\n",
            "[LightGBM] [Warning] No further splits with positive gain, best gain: -inf\n",
            "[LightGBM] [Warning] No further splits with positive gain, best gain: -inf\n",
            "[LightGBM] [Warning] No further splits with positive gain, best gain: -inf\n",
            "[LightGBM] [Warning] No further splits with positive gain, best gain: -inf\n",
            "[LightGBM] [Warning] No further splits with positive gain, best gain: -inf\n",
            "[LightGBM] [Warning] No further splits with positive gain, best gain: -inf\n",
            "[LightGBM] [Warning] No further splits with positive gain, best gain: -inf\n",
            "[LightGBM] [Warning] No further splits with positive gain, best gain: -inf\n",
            "[LightGBM] [Warning] No further splits with positive gain, best gain: -inf\n",
            "[LightGBM] [Warning] No further splits with positive gain, best gain: -inf\n",
            "[LightGBM] [Warning] No further splits with positive gain, best gain: -inf\n",
            "[LightGBM] [Warning] No further splits with positive gain, best gain: -inf\n",
            "[LightGBM] [Warning] No further splits with positive gain, best gain: -inf\n",
            "[LightGBM] [Warning] No further splits with positive gain, best gain: -inf\n",
            "[LightGBM] [Warning] No further splits with positive gain, best gain: -inf\n",
            "[LightGBM] [Warning] No further splits with positive gain, best gain: -inf\n",
            "[LightGBM] [Warning] No further splits with positive gain, best gain: -inf\n",
            "[LightGBM] [Warning] No further splits with positive gain, best gain: -inf\n",
            "[LightGBM] [Warning] No further splits with positive gain, best gain: -inf\n",
            "[LightGBM] [Warning] No further splits with positive gain, best gain: -inf\n",
            "[LightGBM] [Warning] No further splits with positive gain, best gain: -inf\n",
            "[LightGBM] [Warning] No further splits with positive gain, best gain: -inf\n",
            "[LightGBM] [Warning] No further splits with positive gain, best gain: -inf\n",
            "[LightGBM] [Warning] No further splits with positive gain, best gain: -inf\n",
            "[LightGBM] [Warning] No further splits with positive gain, best gain: -inf\n",
            "[LightGBM] [Warning] No further splits with positive gain, best gain: -inf\n",
            "[LightGBM] [Warning] No further splits with positive gain, best gain: -inf\n",
            "[LightGBM] [Warning] No further splits with positive gain, best gain: -inf\n",
            "[LightGBM] [Warning] No further splits with positive gain, best gain: -inf\n",
            "[LightGBM] [Warning] No further splits with positive gain, best gain: -inf\n",
            "[LightGBM] [Warning] No further splits with positive gain, best gain: -inf\n",
            "[LightGBM] [Warning] No further splits with positive gain, best gain: -inf\n",
            "[LightGBM] [Warning] No further splits with positive gain, best gain: -inf\n",
            "[LightGBM] [Warning] No further splits with positive gain, best gain: -inf\n",
            "[LightGBM] [Warning] No further splits with positive gain, best gain: -inf\n",
            "[LightGBM] [Warning] No further splits with positive gain, best gain: -inf\n",
            "[LightGBM] [Warning] No further splits with positive gain, best gain: -inf\n",
            "[LightGBM] [Warning] No further splits with positive gain, best gain: -inf\n",
            "[LightGBM] [Warning] No further splits with positive gain, best gain: -inf\n",
            "[LightGBM] [Warning] No further splits with positive gain, best gain: -inf\n",
            "[LightGBM] [Warning] No further splits with positive gain, best gain: -inf\n",
            "[LightGBM] [Warning] No further splits with positive gain, best gain: -inf\n",
            "[LightGBM] [Warning] No further splits with positive gain, best gain: -inf\n",
            "[LightGBM] [Warning] No further splits with positive gain, best gain: -inf\n",
            "[LightGBM] [Warning] No further splits with positive gain, best gain: -inf\n",
            "[LightGBM] [Warning] No further splits with positive gain, best gain: -inf\n",
            "[LightGBM] [Warning] No further splits with positive gain, best gain: -inf\n",
            "[LightGBM] [Warning] No further splits with positive gain, best gain: -inf\n",
            "[LightGBM] [Warning] No further splits with positive gain, best gain: -inf\n",
            "[LightGBM] [Warning] No further splits with positive gain, best gain: -inf\n",
            "[LightGBM] [Warning] No further splits with positive gain, best gain: -inf\n",
            "[LightGBM] [Warning] No further splits with positive gain, best gain: -inf\n",
            "[LightGBM] [Warning] No further splits with positive gain, best gain: -inf\n",
            "[LightGBM] [Warning] No further splits with positive gain, best gain: -inf\n",
            "[LightGBM] [Warning] No further splits with positive gain, best gain: -inf\n",
            "[LightGBM] [Warning] No further splits with positive gain, best gain: -inf\n",
            "[LightGBM] [Warning] No further splits with positive gain, best gain: -inf\n",
            "[LightGBM] [Warning] No further splits with positive gain, best gain: -inf\n",
            "[LightGBM] [Warning] No further splits with positive gain, best gain: -inf\n",
            "[LightGBM] [Warning] No further splits with positive gain, best gain: -inf\n",
            "[LightGBM] [Warning] No further splits with positive gain, best gain: -inf\n",
            "[LightGBM] [Warning] No further splits with positive gain, best gain: -inf\n",
            "[LightGBM] [Warning] No further splits with positive gain, best gain: -inf\n",
            "[LightGBM] [Warning] No further splits with positive gain, best gain: -inf\n",
            "[LightGBM] [Warning] No further splits with positive gain, best gain: -inf\n",
            "[LightGBM] [Warning] No further splits with positive gain, best gain: -inf\n",
            "[LightGBM] [Warning] No further splits with positive gain, best gain: -inf\n",
            "[LightGBM] [Warning] No further splits with positive gain, best gain: -inf\n",
            "[LightGBM] [Warning] No further splits with positive gain, best gain: -inf\n",
            "[LightGBM] [Warning] No further splits with positive gain, best gain: -inf\n",
            "[LightGBM] [Warning] No further splits with positive gain, best gain: -inf\n",
            "[LightGBM] [Warning] No further splits with positive gain, best gain: -inf\n",
            "[LightGBM] [Warning] No further splits with positive gain, best gain: -inf\n"
          ]
        },
        {
          "output_type": "execute_result",
          "data": {
            "text/plain": [
              "LGBMRegressor()"
            ],
            "text/html": [
              "<style>#sk-container-id-9 {color: black;background-color: white;}#sk-container-id-9 pre{padding: 0;}#sk-container-id-9 div.sk-toggleable {background-color: white;}#sk-container-id-9 label.sk-toggleable__label {cursor: pointer;display: block;width: 100%;margin-bottom: 0;padding: 0.3em;box-sizing: border-box;text-align: center;}#sk-container-id-9 label.sk-toggleable__label-arrow:before {content: \"▸\";float: left;margin-right: 0.25em;color: #696969;}#sk-container-id-9 label.sk-toggleable__label-arrow:hover:before {color: black;}#sk-container-id-9 div.sk-estimator:hover label.sk-toggleable__label-arrow:before {color: black;}#sk-container-id-9 div.sk-toggleable__content {max-height: 0;max-width: 0;overflow: hidden;text-align: left;background-color: #f0f8ff;}#sk-container-id-9 div.sk-toggleable__content pre {margin: 0.2em;color: black;border-radius: 0.25em;background-color: #f0f8ff;}#sk-container-id-9 input.sk-toggleable__control:checked~div.sk-toggleable__content {max-height: 200px;max-width: 100%;overflow: auto;}#sk-container-id-9 input.sk-toggleable__control:checked~label.sk-toggleable__label-arrow:before {content: \"▾\";}#sk-container-id-9 div.sk-estimator input.sk-toggleable__control:checked~label.sk-toggleable__label {background-color: #d4ebff;}#sk-container-id-9 div.sk-label input.sk-toggleable__control:checked~label.sk-toggleable__label {background-color: #d4ebff;}#sk-container-id-9 input.sk-hidden--visually {border: 0;clip: rect(1px 1px 1px 1px);clip: rect(1px, 1px, 1px, 1px);height: 1px;margin: -1px;overflow: hidden;padding: 0;position: absolute;width: 1px;}#sk-container-id-9 div.sk-estimator {font-family: monospace;background-color: #f0f8ff;border: 1px dotted black;border-radius: 0.25em;box-sizing: border-box;margin-bottom: 0.5em;}#sk-container-id-9 div.sk-estimator:hover {background-color: #d4ebff;}#sk-container-id-9 div.sk-parallel-item::after {content: \"\";width: 100%;border-bottom: 1px solid gray;flex-grow: 1;}#sk-container-id-9 div.sk-label:hover label.sk-toggleable__label {background-color: #d4ebff;}#sk-container-id-9 div.sk-serial::before {content: \"\";position: absolute;border-left: 1px solid gray;box-sizing: border-box;top: 0;bottom: 0;left: 50%;z-index: 0;}#sk-container-id-9 div.sk-serial {display: flex;flex-direction: column;align-items: center;background-color: white;padding-right: 0.2em;padding-left: 0.2em;position: relative;}#sk-container-id-9 div.sk-item {position: relative;z-index: 1;}#sk-container-id-9 div.sk-parallel {display: flex;align-items: stretch;justify-content: center;background-color: white;position: relative;}#sk-container-id-9 div.sk-item::before, #sk-container-id-9 div.sk-parallel-item::before {content: \"\";position: absolute;border-left: 1px solid gray;box-sizing: border-box;top: 0;bottom: 0;left: 50%;z-index: -1;}#sk-container-id-9 div.sk-parallel-item {display: flex;flex-direction: column;z-index: 1;position: relative;background-color: white;}#sk-container-id-9 div.sk-parallel-item:first-child::after {align-self: flex-end;width: 50%;}#sk-container-id-9 div.sk-parallel-item:last-child::after {align-self: flex-start;width: 50%;}#sk-container-id-9 div.sk-parallel-item:only-child::after {width: 0;}#sk-container-id-9 div.sk-dashed-wrapped {border: 1px dashed gray;margin: 0 0.4em 0.5em 0.4em;box-sizing: border-box;padding-bottom: 0.4em;background-color: white;}#sk-container-id-9 div.sk-label label {font-family: monospace;font-weight: bold;display: inline-block;line-height: 1.2em;}#sk-container-id-9 div.sk-label-container {text-align: center;}#sk-container-id-9 div.sk-container {/* jupyter's `normalize.less` sets `[hidden] { display: none; }` but bootstrap.min.css set `[hidden] { display: none !important; }` so we also need the `!important` here to be able to override the default hidden behavior on the sphinx rendered scikit-learn.org. See: https://github.com/scikit-learn/scikit-learn/issues/21755 */display: inline-block !important;position: relative;}#sk-container-id-9 div.sk-text-repr-fallback {display: none;}</style><div id=\"sk-container-id-9\" class=\"sk-top-container\"><div class=\"sk-text-repr-fallback\"><pre>LGBMRegressor()</pre><b>In a Jupyter environment, please rerun this cell to show the HTML representation or trust the notebook. <br />On GitHub, the HTML representation is unable to render, please try loading this page with nbviewer.org.</b></div><div class=\"sk-container\" hidden><div class=\"sk-item\"><div class=\"sk-estimator sk-toggleable\"><input class=\"sk-toggleable__control sk-hidden--visually\" id=\"sk-estimator-id-9\" type=\"checkbox\" checked><label for=\"sk-estimator-id-9\" class=\"sk-toggleable__label sk-toggleable__label-arrow\">LGBMRegressor</label><div class=\"sk-toggleable__content\"><pre>LGBMRegressor()</pre></div></div></div></div></div>"
            ]
          },
          "metadata": {},
          "execution_count": 34
        }
      ]
    },
    {
      "cell_type": "code",
      "source": [
        "from sklearn.model_selection import GridSearchCV\n",
        "from lightgbm import LGBMRegressor\n",
        "\n",
        "# Example dataset X, Y\n",
        "# Make sure to prepare the data for X and Y.\n",
        "\n",
        "# Initialize the LGBMRegressor model\n",
        "mylgbm = LGBMRegressor()\n",
        "\n",
        "# Define the parameter grid\n",
        "param_grid = {\n",
        "    'n_estimators': [100, 200, 300],  # Number of boosting rounds\n",
        "    'learning_rate': [0.01, 0.05, 0.1],  # Boosting learning rate\n",
        "    'num_leaves': [31, 62, 127],  # Maximum tree leaves for base learners\n",
        "    'max_depth': [-1, 10, 20],  # Maximum tree depth for base learners, -1 means no limit\n",
        "}\n",
        "\n",
        "# Initialize GridSearchCV\n",
        "grid_search = GridSearchCV(estimator=mylgbm, param_grid=param_grid, cv=5, scoring='neg_mean_squared_error', verbose=1, n_jobs=-1)\n",
        "\n",
        "# Fit the model\n",
        "grid_search.fit(X, Y)\n",
        "\n",
        "# Print the best parameters\n",
        "print(\"Best parameters:\", grid_search.best_params_)\n",
        "\n",
        "# Retrain the model with the best parameters\n",
        "best_lgbm = grid_search.best_estimator_\n",
        "best_lgbm.fit(X, Y)"
      ],
      "metadata": {
        "colab": {
          "base_uri": "https://localhost:8080/",
          "height": 1000
        },
        "collapsed": true,
        "id": "2Q4_W8PbqBfn",
        "outputId": "019665ea-50a0-4d9b-d599-9c24b7532a7d"
      },
      "execution_count": null,
      "outputs": [
        {
          "output_type": "stream",
          "name": "stdout",
          "text": [
            "Fitting 5 folds for each of 81 candidates, totalling 405 fits\n",
            "[LightGBM] [Warning] Found whitespace in feature_names, replace with underlines\n",
            "[LightGBM] [Info] Auto-choosing row-wise multi-threading, the overhead of testing was 0.000055 seconds.\n",
            "You can set `force_row_wise=true` to remove the overhead.\n",
            "And if memory is not enough, you can set `force_col_wise=true`.\n",
            "[LightGBM] [Info] Total Bins 491\n",
            "[LightGBM] [Info] Number of data points in the train set: 580, number of used features: 36\n",
            "[LightGBM] [Info] Start training from score 9.744773\n",
            "[LightGBM] [Warning] No further splits with positive gain, best gain: -inf\n",
            "[LightGBM] [Warning] No further splits with positive gain, best gain: -inf\n",
            "[LightGBM] [Warning] No further splits with positive gain, best gain: -inf\n",
            "[LightGBM] [Warning] No further splits with positive gain, best gain: -inf\n",
            "[LightGBM] [Warning] No further splits with positive gain, best gain: -inf\n",
            "[LightGBM] [Warning] No further splits with positive gain, best gain: -inf\n",
            "[LightGBM] [Warning] No further splits with positive gain, best gain: -inf\n",
            "[LightGBM] [Warning] No further splits with positive gain, best gain: -inf\n",
            "[LightGBM] [Warning] No further splits with positive gain, best gain: -inf\n",
            "[LightGBM] [Warning] No further splits with positive gain, best gain: -inf\n",
            "[LightGBM] [Warning] No further splits with positive gain, best gain: -inf\n",
            "[LightGBM] [Warning] No further splits with positive gain, best gain: -inf\n",
            "[LightGBM] [Warning] No further splits with positive gain, best gain: -inf\n",
            "[LightGBM] [Warning] No further splits with positive gain, best gain: -inf\n",
            "[LightGBM] [Warning] No further splits with positive gain, best gain: -inf\n",
            "[LightGBM] [Warning] No further splits with positive gain, best gain: -inf\n",
            "[LightGBM] [Warning] No further splits with positive gain, best gain: -inf\n",
            "[LightGBM] [Warning] No further splits with positive gain, best gain: -inf\n",
            "[LightGBM] [Warning] No further splits with positive gain, best gain: -inf\n",
            "[LightGBM] [Warning] No further splits with positive gain, best gain: -inf\n",
            "[LightGBM] [Warning] No further splits with positive gain, best gain: -inf\n",
            "[LightGBM] [Warning] No further splits with positive gain, best gain: -inf\n",
            "[LightGBM] [Warning] No further splits with positive gain, best gain: -inf\n",
            "[LightGBM] [Warning] No further splits with positive gain, best gain: -inf\n",
            "[LightGBM] [Warning] No further splits with positive gain, best gain: -inf\n",
            "[LightGBM] [Warning] No further splits with positive gain, best gain: -inf\n",
            "[LightGBM] [Warning] No further splits with positive gain, best gain: -inf\n",
            "[LightGBM] [Warning] No further splits with positive gain, best gain: -inf\n",
            "[LightGBM] [Warning] No further splits with positive gain, best gain: -inf\n",
            "[LightGBM] [Warning] No further splits with positive gain, best gain: -inf\n",
            "[LightGBM] [Warning] No further splits with positive gain, best gain: -inf\n",
            "[LightGBM] [Warning] No further splits with positive gain, best gain: -inf\n",
            "[LightGBM] [Warning] No further splits with positive gain, best gain: -inf\n",
            "[LightGBM] [Warning] No further splits with positive gain, best gain: -inf\n",
            "[LightGBM] [Warning] No further splits with positive gain, best gain: -inf\n",
            "[LightGBM] [Warning] No further splits with positive gain, best gain: -inf\n",
            "[LightGBM] [Warning] No further splits with positive gain, best gain: -inf\n",
            "[LightGBM] [Warning] No further splits with positive gain, best gain: -inf\n",
            "[LightGBM] [Warning] No further splits with positive gain, best gain: -inf\n",
            "[LightGBM] [Warning] No further splits with positive gain, best gain: -inf\n",
            "[LightGBM] [Warning] No further splits with positive gain, best gain: -inf\n",
            "[LightGBM] [Warning] No further splits with positive gain, best gain: -inf\n",
            "[LightGBM] [Warning] No further splits with positive gain, best gain: -inf\n",
            "[LightGBM] [Warning] No further splits with positive gain, best gain: -inf\n",
            "[LightGBM] [Warning] No further splits with positive gain, best gain: -inf\n",
            "[LightGBM] [Warning] No further splits with positive gain, best gain: -inf\n",
            "[LightGBM] [Warning] No further splits with positive gain, best gain: -inf\n",
            "[LightGBM] [Warning] No further splits with positive gain, best gain: -inf\n",
            "[LightGBM] [Warning] No further splits with positive gain, best gain: -inf\n",
            "[LightGBM] [Warning] No further splits with positive gain, best gain: -inf\n",
            "[LightGBM] [Warning] No further splits with positive gain, best gain: -inf\n",
            "[LightGBM] [Warning] No further splits with positive gain, best gain: -inf\n",
            "[LightGBM] [Warning] No further splits with positive gain, best gain: -inf\n",
            "[LightGBM] [Warning] No further splits with positive gain, best gain: -inf\n",
            "[LightGBM] [Warning] No further splits with positive gain, best gain: -inf\n",
            "[LightGBM] [Warning] No further splits with positive gain, best gain: -inf\n",
            "[LightGBM] [Warning] No further splits with positive gain, best gain: -inf\n",
            "[LightGBM] [Warning] No further splits with positive gain, best gain: -inf\n",
            "[LightGBM] [Warning] No further splits with positive gain, best gain: -inf\n",
            "[LightGBM] [Warning] No further splits with positive gain, best gain: -inf\n",
            "[LightGBM] [Warning] No further splits with positive gain, best gain: -inf\n",
            "[LightGBM] [Warning] No further splits with positive gain, best gain: -inf\n",
            "[LightGBM] [Warning] No further splits with positive gain, best gain: -inf\n",
            "[LightGBM] [Warning] No further splits with positive gain, best gain: -inf\n",
            "[LightGBM] [Warning] No further splits with positive gain, best gain: -inf\n",
            "[LightGBM] [Warning] No further splits with positive gain, best gain: -inf\n",
            "[LightGBM] [Warning] No further splits with positive gain, best gain: -inf\n",
            "[LightGBM] [Warning] No further splits with positive gain, best gain: -inf\n",
            "[LightGBM] [Warning] No further splits with positive gain, best gain: -inf\n",
            "[LightGBM] [Warning] No further splits with positive gain, best gain: -inf\n",
            "[LightGBM] [Warning] No further splits with positive gain, best gain: -inf\n",
            "[LightGBM] [Warning] No further splits with positive gain, best gain: -inf\n",
            "[LightGBM] [Warning] No further splits with positive gain, best gain: -inf\n",
            "[LightGBM] [Warning] No further splits with positive gain, best gain: -inf\n",
            "[LightGBM] [Warning] No further splits with positive gain, best gain: -inf\n",
            "[LightGBM] [Warning] No further splits with positive gain, best gain: -inf\n",
            "[LightGBM] [Warning] No further splits with positive gain, best gain: -inf\n",
            "[LightGBM] [Warning] No further splits with positive gain, best gain: -inf\n",
            "[LightGBM] [Warning] No further splits with positive gain, best gain: -inf\n",
            "[LightGBM] [Warning] No further splits with positive gain, best gain: -inf\n",
            "[LightGBM] [Warning] No further splits with positive gain, best gain: -inf\n",
            "[LightGBM] [Warning] No further splits with positive gain, best gain: -inf\n",
            "[LightGBM] [Warning] No further splits with positive gain, best gain: -inf\n",
            "[LightGBM] [Warning] No further splits with positive gain, best gain: -inf\n",
            "[LightGBM] [Warning] No further splits with positive gain, best gain: -inf\n",
            "[LightGBM] [Warning] No further splits with positive gain, best gain: -inf\n",
            "[LightGBM] [Warning] No further splits with positive gain, best gain: -inf\n",
            "[LightGBM] [Warning] No further splits with positive gain, best gain: -inf\n",
            "[LightGBM] [Warning] No further splits with positive gain, best gain: -inf\n",
            "[LightGBM] [Warning] No further splits with positive gain, best gain: -inf\n",
            "[LightGBM] [Warning] No further splits with positive gain, best gain: -inf\n",
            "[LightGBM] [Warning] No further splits with positive gain, best gain: -inf\n",
            "[LightGBM] [Warning] No further splits with positive gain, best gain: -inf\n",
            "[LightGBM] [Warning] No further splits with positive gain, best gain: -inf\n",
            "[LightGBM] [Warning] No further splits with positive gain, best gain: -inf\n",
            "[LightGBM] [Warning] No further splits with positive gain, best gain: -inf\n",
            "[LightGBM] [Warning] No further splits with positive gain, best gain: -inf\n",
            "[LightGBM] [Warning] No further splits with positive gain, best gain: -inf\n",
            "[LightGBM] [Warning] No further splits with positive gain, best gain: -inf\n",
            "[LightGBM] [Warning] No further splits with positive gain, best gain: -inf\n",
            "Best parameters: {'learning_rate': 0.05, 'max_depth': -1, 'n_estimators': 100, 'num_leaves': 31}\n",
            "[LightGBM] [Warning] Found whitespace in feature_names, replace with underlines\n",
            "[LightGBM] [Info] Auto-choosing col-wise multi-threading, the overhead of testing was 0.000155 seconds.\n",
            "You can set `force_col_wise=true` to remove the overhead.\n",
            "[LightGBM] [Info] Total Bins 491\n",
            "[LightGBM] [Info] Number of data points in the train set: 580, number of used features: 36\n",
            "[LightGBM] [Info] Start training from score 9.744773\n",
            "[LightGBM] [Warning] No further splits with positive gain, best gain: -inf\n",
            "[LightGBM] [Warning] No further splits with positive gain, best gain: -inf\n",
            "[LightGBM] [Warning] No further splits with positive gain, best gain: -inf\n",
            "[LightGBM] [Warning] No further splits with positive gain, best gain: -inf\n",
            "[LightGBM] [Warning] No further splits with positive gain, best gain: -inf\n",
            "[LightGBM] [Warning] No further splits with positive gain, best gain: -inf\n",
            "[LightGBM] [Warning] No further splits with positive gain, best gain: -inf\n",
            "[LightGBM] [Warning] No further splits with positive gain, best gain: -inf\n",
            "[LightGBM] [Warning] No further splits with positive gain, best gain: -inf\n",
            "[LightGBM] [Warning] No further splits with positive gain, best gain: -inf\n",
            "[LightGBM] [Warning] No further splits with positive gain, best gain: -inf\n",
            "[LightGBM] [Warning] No further splits with positive gain, best gain: -inf\n",
            "[LightGBM] [Warning] No further splits with positive gain, best gain: -inf\n",
            "[LightGBM] [Warning] No further splits with positive gain, best gain: -inf\n",
            "[LightGBM] [Warning] No further splits with positive gain, best gain: -inf\n",
            "[LightGBM] [Warning] No further splits with positive gain, best gain: -inf\n",
            "[LightGBM] [Warning] No further splits with positive gain, best gain: -inf\n",
            "[LightGBM] [Warning] No further splits with positive gain, best gain: -inf\n",
            "[LightGBM] [Warning] No further splits with positive gain, best gain: -inf\n",
            "[LightGBM] [Warning] No further splits with positive gain, best gain: -inf\n",
            "[LightGBM] [Warning] No further splits with positive gain, best gain: -inf\n",
            "[LightGBM] [Warning] No further splits with positive gain, best gain: -inf\n",
            "[LightGBM] [Warning] No further splits with positive gain, best gain: -inf\n",
            "[LightGBM] [Warning] No further splits with positive gain, best gain: -inf\n",
            "[LightGBM] [Warning] No further splits with positive gain, best gain: -inf\n",
            "[LightGBM] [Warning] No further splits with positive gain, best gain: -inf\n",
            "[LightGBM] [Warning] No further splits with positive gain, best gain: -inf\n",
            "[LightGBM] [Warning] No further splits with positive gain, best gain: -inf\n",
            "[LightGBM] [Warning] No further splits with positive gain, best gain: -inf\n",
            "[LightGBM] [Warning] No further splits with positive gain, best gain: -inf\n",
            "[LightGBM] [Warning] No further splits with positive gain, best gain: -inf\n",
            "[LightGBM] [Warning] No further splits with positive gain, best gain: -inf\n",
            "[LightGBM] [Warning] No further splits with positive gain, best gain: -inf\n",
            "[LightGBM] [Warning] No further splits with positive gain, best gain: -inf\n",
            "[LightGBM] [Warning] No further splits with positive gain, best gain: -inf\n",
            "[LightGBM] [Warning] No further splits with positive gain, best gain: -inf\n",
            "[LightGBM] [Warning] No further splits with positive gain, best gain: -inf\n",
            "[LightGBM] [Warning] No further splits with positive gain, best gain: -inf\n",
            "[LightGBM] [Warning] No further splits with positive gain, best gain: -inf\n",
            "[LightGBM] [Warning] No further splits with positive gain, best gain: -inf\n",
            "[LightGBM] [Warning] No further splits with positive gain, best gain: -inf\n",
            "[LightGBM] [Warning] No further splits with positive gain, best gain: -inf\n",
            "[LightGBM] [Warning] No further splits with positive gain, best gain: -inf\n",
            "[LightGBM] [Warning] No further splits with positive gain, best gain: -inf\n",
            "[LightGBM] [Warning] No further splits with positive gain, best gain: -inf\n",
            "[LightGBM] [Warning] No further splits with positive gain, best gain: -inf\n",
            "[LightGBM] [Warning] No further splits with positive gain, best gain: -inf\n",
            "[LightGBM] [Warning] No further splits with positive gain, best gain: -inf\n",
            "[LightGBM] [Warning] No further splits with positive gain, best gain: -inf\n",
            "[LightGBM] [Warning] No further splits with positive gain, best gain: -inf\n",
            "[LightGBM] [Warning] No further splits with positive gain, best gain: -inf\n",
            "[LightGBM] [Warning] No further splits with positive gain, best gain: -inf\n",
            "[LightGBM] [Warning] No further splits with positive gain, best gain: -inf\n",
            "[LightGBM] [Warning] No further splits with positive gain, best gain: -inf\n",
            "[LightGBM] [Warning] No further splits with positive gain, best gain: -inf\n",
            "[LightGBM] [Warning] No further splits with positive gain, best gain: -inf\n",
            "[LightGBM] [Warning] No further splits with positive gain, best gain: -inf\n",
            "[LightGBM] [Warning] No further splits with positive gain, best gain: -inf\n",
            "[LightGBM] [Warning] No further splits with positive gain, best gain: -inf\n",
            "[LightGBM] [Warning] No further splits with positive gain, best gain: -inf\n",
            "[LightGBM] [Warning] No further splits with positive gain, best gain: -inf\n",
            "[LightGBM] [Warning] No further splits with positive gain, best gain: -inf\n",
            "[LightGBM] [Warning] No further splits with positive gain, best gain: -inf\n",
            "[LightGBM] [Warning] No further splits with positive gain, best gain: -inf\n",
            "[LightGBM] [Warning] No further splits with positive gain, best gain: -inf\n",
            "[LightGBM] [Warning] No further splits with positive gain, best gain: -inf\n",
            "[LightGBM] [Warning] No further splits with positive gain, best gain: -inf\n",
            "[LightGBM] [Warning] No further splits with positive gain, best gain: -inf\n",
            "[LightGBM] [Warning] No further splits with positive gain, best gain: -inf\n",
            "[LightGBM] [Warning] No further splits with positive gain, best gain: -inf\n",
            "[LightGBM] [Warning] No further splits with positive gain, best gain: -inf\n",
            "[LightGBM] [Warning] No further splits with positive gain, best gain: -inf\n",
            "[LightGBM] [Warning] No further splits with positive gain, best gain: -inf\n",
            "[LightGBM] [Warning] No further splits with positive gain, best gain: -inf\n",
            "[LightGBM] [Warning] No further splits with positive gain, best gain: -inf\n",
            "[LightGBM] [Warning] No further splits with positive gain, best gain: -inf\n",
            "[LightGBM] [Warning] No further splits with positive gain, best gain: -inf\n",
            "[LightGBM] [Warning] No further splits with positive gain, best gain: -inf\n",
            "[LightGBM] [Warning] No further splits with positive gain, best gain: -inf\n",
            "[LightGBM] [Warning] No further splits with positive gain, best gain: -inf\n",
            "[LightGBM] [Warning] No further splits with positive gain, best gain: -inf\n",
            "[LightGBM] [Warning] No further splits with positive gain, best gain: -inf\n",
            "[LightGBM] [Warning] No further splits with positive gain, best gain: -inf\n",
            "[LightGBM] [Warning] No further splits with positive gain, best gain: -inf\n",
            "[LightGBM] [Warning] No further splits with positive gain, best gain: -inf\n",
            "[LightGBM] [Warning] No further splits with positive gain, best gain: -inf\n",
            "[LightGBM] [Warning] No further splits with positive gain, best gain: -inf\n",
            "[LightGBM] [Warning] No further splits with positive gain, best gain: -inf\n",
            "[LightGBM] [Warning] No further splits with positive gain, best gain: -inf\n",
            "[LightGBM] [Warning] No further splits with positive gain, best gain: -inf\n",
            "[LightGBM] [Warning] No further splits with positive gain, best gain: -inf\n",
            "[LightGBM] [Warning] No further splits with positive gain, best gain: -inf\n",
            "[LightGBM] [Warning] No further splits with positive gain, best gain: -inf\n",
            "[LightGBM] [Warning] No further splits with positive gain, best gain: -inf\n",
            "[LightGBM] [Warning] No further splits with positive gain, best gain: -inf\n",
            "[LightGBM] [Warning] No further splits with positive gain, best gain: -inf\n",
            "[LightGBM] [Warning] No further splits with positive gain, best gain: -inf\n",
            "[LightGBM] [Warning] No further splits with positive gain, best gain: -inf\n",
            "[LightGBM] [Warning] No further splits with positive gain, best gain: -inf\n",
            "[LightGBM] [Warning] No further splits with positive gain, best gain: -inf\n"
          ]
        },
        {
          "output_type": "execute_result",
          "data": {
            "text/plain": [
              "LGBMRegressor(learning_rate=0.05)"
            ],
            "text/html": [
              "<style>#sk-container-id-10 {color: black;background-color: white;}#sk-container-id-10 pre{padding: 0;}#sk-container-id-10 div.sk-toggleable {background-color: white;}#sk-container-id-10 label.sk-toggleable__label {cursor: pointer;display: block;width: 100%;margin-bottom: 0;padding: 0.3em;box-sizing: border-box;text-align: center;}#sk-container-id-10 label.sk-toggleable__label-arrow:before {content: \"▸\";float: left;margin-right: 0.25em;color: #696969;}#sk-container-id-10 label.sk-toggleable__label-arrow:hover:before {color: black;}#sk-container-id-10 div.sk-estimator:hover label.sk-toggleable__label-arrow:before {color: black;}#sk-container-id-10 div.sk-toggleable__content {max-height: 0;max-width: 0;overflow: hidden;text-align: left;background-color: #f0f8ff;}#sk-container-id-10 div.sk-toggleable__content pre {margin: 0.2em;color: black;border-radius: 0.25em;background-color: #f0f8ff;}#sk-container-id-10 input.sk-toggleable__control:checked~div.sk-toggleable__content {max-height: 200px;max-width: 100%;overflow: auto;}#sk-container-id-10 input.sk-toggleable__control:checked~label.sk-toggleable__label-arrow:before {content: \"▾\";}#sk-container-id-10 div.sk-estimator input.sk-toggleable__control:checked~label.sk-toggleable__label {background-color: #d4ebff;}#sk-container-id-10 div.sk-label input.sk-toggleable__control:checked~label.sk-toggleable__label {background-color: #d4ebff;}#sk-container-id-10 input.sk-hidden--visually {border: 0;clip: rect(1px 1px 1px 1px);clip: rect(1px, 1px, 1px, 1px);height: 1px;margin: -1px;overflow: hidden;padding: 0;position: absolute;width: 1px;}#sk-container-id-10 div.sk-estimator {font-family: monospace;background-color: #f0f8ff;border: 1px dotted black;border-radius: 0.25em;box-sizing: border-box;margin-bottom: 0.5em;}#sk-container-id-10 div.sk-estimator:hover {background-color: #d4ebff;}#sk-container-id-10 div.sk-parallel-item::after {content: \"\";width: 100%;border-bottom: 1px solid gray;flex-grow: 1;}#sk-container-id-10 div.sk-label:hover label.sk-toggleable__label {background-color: #d4ebff;}#sk-container-id-10 div.sk-serial::before {content: \"\";position: absolute;border-left: 1px solid gray;box-sizing: border-box;top: 0;bottom: 0;left: 50%;z-index: 0;}#sk-container-id-10 div.sk-serial {display: flex;flex-direction: column;align-items: center;background-color: white;padding-right: 0.2em;padding-left: 0.2em;position: relative;}#sk-container-id-10 div.sk-item {position: relative;z-index: 1;}#sk-container-id-10 div.sk-parallel {display: flex;align-items: stretch;justify-content: center;background-color: white;position: relative;}#sk-container-id-10 div.sk-item::before, #sk-container-id-10 div.sk-parallel-item::before {content: \"\";position: absolute;border-left: 1px solid gray;box-sizing: border-box;top: 0;bottom: 0;left: 50%;z-index: -1;}#sk-container-id-10 div.sk-parallel-item {display: flex;flex-direction: column;z-index: 1;position: relative;background-color: white;}#sk-container-id-10 div.sk-parallel-item:first-child::after {align-self: flex-end;width: 50%;}#sk-container-id-10 div.sk-parallel-item:last-child::after {align-self: flex-start;width: 50%;}#sk-container-id-10 div.sk-parallel-item:only-child::after {width: 0;}#sk-container-id-10 div.sk-dashed-wrapped {border: 1px dashed gray;margin: 0 0.4em 0.5em 0.4em;box-sizing: border-box;padding-bottom: 0.4em;background-color: white;}#sk-container-id-10 div.sk-label label {font-family: monospace;font-weight: bold;display: inline-block;line-height: 1.2em;}#sk-container-id-10 div.sk-label-container {text-align: center;}#sk-container-id-10 div.sk-container {/* jupyter's `normalize.less` sets `[hidden] { display: none; }` but bootstrap.min.css set `[hidden] { display: none !important; }` so we also need the `!important` here to be able to override the default hidden behavior on the sphinx rendered scikit-learn.org. See: https://github.com/scikit-learn/scikit-learn/issues/21755 */display: inline-block !important;position: relative;}#sk-container-id-10 div.sk-text-repr-fallback {display: none;}</style><div id=\"sk-container-id-10\" class=\"sk-top-container\"><div class=\"sk-text-repr-fallback\"><pre>LGBMRegressor(learning_rate=0.05)</pre><b>In a Jupyter environment, please rerun this cell to show the HTML representation or trust the notebook. <br />On GitHub, the HTML representation is unable to render, please try loading this page with nbviewer.org.</b></div><div class=\"sk-container\" hidden><div class=\"sk-item\"><div class=\"sk-estimator sk-toggleable\"><input class=\"sk-toggleable__control sk-hidden--visually\" id=\"sk-estimator-id-10\" type=\"checkbox\" checked><label for=\"sk-estimator-id-10\" class=\"sk-toggleable__label sk-toggleable__label-arrow\">LGBMRegressor</label><div class=\"sk-toggleable__content\"><pre>LGBMRegressor(learning_rate=0.05)</pre></div></div></div></div></div>"
            ]
          },
          "metadata": {},
          "execution_count": 35
        }
      ]
    },
    {
      "cell_type": "code",
      "source": [
        "from sklearn.metrics import mean_squared_error\n",
        "\n",
        "predicted_lgbm = np.exp(best_lgbm.predict(X)) - 1\n",
        "MSE_lgbm = mean_squared_error(Y, predicted_lgbm)\n",
        "\n",
        "print(np.sqrt(MSE_lgbm))"
      ],
      "metadata": {
        "colab": {
          "base_uri": "https://localhost:8080/"
        },
        "id": "_QDk26eWU4p2",
        "outputId": "a50bfab8-44c5-426f-9de0-6093d3300244"
      },
      "execution_count": null,
      "outputs": [
        {
          "output_type": "stream",
          "name": "stdout",
          "text": [
            "640724.6636265889\n"
          ]
        }
      ]
    },
    {
      "cell_type": "markdown",
      "source": [
        "### 6. XGB"
      ],
      "metadata": {
        "id": "EelFwJ0DAy4v"
      }
    },
    {
      "cell_type": "code",
      "source": [
        "import xgboost\n",
        "myxgb = xgboost.XGBRegressor()\n",
        "myxgb.fit(X, Y)"
      ],
      "metadata": {
        "colab": {
          "base_uri": "https://localhost:8080/",
          "height": 248
        },
        "id": "_nsHJlRxAiVE",
        "outputId": "9a3d35a6-e8ef-4ed0-8785-628965a0e384"
      },
      "execution_count": null,
      "outputs": [
        {
          "output_type": "execute_result",
          "data": {
            "text/plain": [
              "XGBRegressor(base_score=None, booster=None, callbacks=None,\n",
              "             colsample_bylevel=None, colsample_bynode=None,\n",
              "             colsample_bytree=None, device=None, early_stopping_rounds=None,\n",
              "             enable_categorical=False, eval_metric=None, feature_types=None,\n",
              "             gamma=None, grow_policy=None, importance_type=None,\n",
              "             interaction_constraints=None, learning_rate=None, max_bin=None,\n",
              "             max_cat_threshold=None, max_cat_to_onehot=None,\n",
              "             max_delta_step=None, max_depth=None, max_leaves=None,\n",
              "             min_child_weight=None, missing=nan, monotone_constraints=None,\n",
              "             multi_strategy=None, n_estimators=None, n_jobs=None,\n",
              "             num_parallel_tree=None, random_state=None, ...)"
            ],
            "text/html": [
              "<style>#sk-container-id-11 {color: black;background-color: white;}#sk-container-id-11 pre{padding: 0;}#sk-container-id-11 div.sk-toggleable {background-color: white;}#sk-container-id-11 label.sk-toggleable__label {cursor: pointer;display: block;width: 100%;margin-bottom: 0;padding: 0.3em;box-sizing: border-box;text-align: center;}#sk-container-id-11 label.sk-toggleable__label-arrow:before {content: \"▸\";float: left;margin-right: 0.25em;color: #696969;}#sk-container-id-11 label.sk-toggleable__label-arrow:hover:before {color: black;}#sk-container-id-11 div.sk-estimator:hover label.sk-toggleable__label-arrow:before {color: black;}#sk-container-id-11 div.sk-toggleable__content {max-height: 0;max-width: 0;overflow: hidden;text-align: left;background-color: #f0f8ff;}#sk-container-id-11 div.sk-toggleable__content pre {margin: 0.2em;color: black;border-radius: 0.25em;background-color: #f0f8ff;}#sk-container-id-11 input.sk-toggleable__control:checked~div.sk-toggleable__content {max-height: 200px;max-width: 100%;overflow: auto;}#sk-container-id-11 input.sk-toggleable__control:checked~label.sk-toggleable__label-arrow:before {content: \"▾\";}#sk-container-id-11 div.sk-estimator input.sk-toggleable__control:checked~label.sk-toggleable__label {background-color: #d4ebff;}#sk-container-id-11 div.sk-label input.sk-toggleable__control:checked~label.sk-toggleable__label {background-color: #d4ebff;}#sk-container-id-11 input.sk-hidden--visually {border: 0;clip: rect(1px 1px 1px 1px);clip: rect(1px, 1px, 1px, 1px);height: 1px;margin: -1px;overflow: hidden;padding: 0;position: absolute;width: 1px;}#sk-container-id-11 div.sk-estimator {font-family: monospace;background-color: #f0f8ff;border: 1px dotted black;border-radius: 0.25em;box-sizing: border-box;margin-bottom: 0.5em;}#sk-container-id-11 div.sk-estimator:hover {background-color: #d4ebff;}#sk-container-id-11 div.sk-parallel-item::after {content: \"\";width: 100%;border-bottom: 1px solid gray;flex-grow: 1;}#sk-container-id-11 div.sk-label:hover label.sk-toggleable__label {background-color: #d4ebff;}#sk-container-id-11 div.sk-serial::before {content: \"\";position: absolute;border-left: 1px solid gray;box-sizing: border-box;top: 0;bottom: 0;left: 50%;z-index: 0;}#sk-container-id-11 div.sk-serial {display: flex;flex-direction: column;align-items: center;background-color: white;padding-right: 0.2em;padding-left: 0.2em;position: relative;}#sk-container-id-11 div.sk-item {position: relative;z-index: 1;}#sk-container-id-11 div.sk-parallel {display: flex;align-items: stretch;justify-content: center;background-color: white;position: relative;}#sk-container-id-11 div.sk-item::before, #sk-container-id-11 div.sk-parallel-item::before {content: \"\";position: absolute;border-left: 1px solid gray;box-sizing: border-box;top: 0;bottom: 0;left: 50%;z-index: -1;}#sk-container-id-11 div.sk-parallel-item {display: flex;flex-direction: column;z-index: 1;position: relative;background-color: white;}#sk-container-id-11 div.sk-parallel-item:first-child::after {align-self: flex-end;width: 50%;}#sk-container-id-11 div.sk-parallel-item:last-child::after {align-self: flex-start;width: 50%;}#sk-container-id-11 div.sk-parallel-item:only-child::after {width: 0;}#sk-container-id-11 div.sk-dashed-wrapped {border: 1px dashed gray;margin: 0 0.4em 0.5em 0.4em;box-sizing: border-box;padding-bottom: 0.4em;background-color: white;}#sk-container-id-11 div.sk-label label {font-family: monospace;font-weight: bold;display: inline-block;line-height: 1.2em;}#sk-container-id-11 div.sk-label-container {text-align: center;}#sk-container-id-11 div.sk-container {/* jupyter's `normalize.less` sets `[hidden] { display: none; }` but bootstrap.min.css set `[hidden] { display: none !important; }` so we also need the `!important` here to be able to override the default hidden behavior on the sphinx rendered scikit-learn.org. See: https://github.com/scikit-learn/scikit-learn/issues/21755 */display: inline-block !important;position: relative;}#sk-container-id-11 div.sk-text-repr-fallback {display: none;}</style><div id=\"sk-container-id-11\" class=\"sk-top-container\"><div class=\"sk-text-repr-fallback\"><pre>XGBRegressor(base_score=None, booster=None, callbacks=None,\n",
              "             colsample_bylevel=None, colsample_bynode=None,\n",
              "             colsample_bytree=None, device=None, early_stopping_rounds=None,\n",
              "             enable_categorical=False, eval_metric=None, feature_types=None,\n",
              "             gamma=None, grow_policy=None, importance_type=None,\n",
              "             interaction_constraints=None, learning_rate=None, max_bin=None,\n",
              "             max_cat_threshold=None, max_cat_to_onehot=None,\n",
              "             max_delta_step=None, max_depth=None, max_leaves=None,\n",
              "             min_child_weight=None, missing=nan, monotone_constraints=None,\n",
              "             multi_strategy=None, n_estimators=None, n_jobs=None,\n",
              "             num_parallel_tree=None, random_state=None, ...)</pre><b>In a Jupyter environment, please rerun this cell to show the HTML representation or trust the notebook. <br />On GitHub, the HTML representation is unable to render, please try loading this page with nbviewer.org.</b></div><div class=\"sk-container\" hidden><div class=\"sk-item\"><div class=\"sk-estimator sk-toggleable\"><input class=\"sk-toggleable__control sk-hidden--visually\" id=\"sk-estimator-id-11\" type=\"checkbox\" checked><label for=\"sk-estimator-id-11\" class=\"sk-toggleable__label sk-toggleable__label-arrow\">XGBRegressor</label><div class=\"sk-toggleable__content\"><pre>XGBRegressor(base_score=None, booster=None, callbacks=None,\n",
              "             colsample_bylevel=None, colsample_bynode=None,\n",
              "             colsample_bytree=None, device=None, early_stopping_rounds=None,\n",
              "             enable_categorical=False, eval_metric=None, feature_types=None,\n",
              "             gamma=None, grow_policy=None, importance_type=None,\n",
              "             interaction_constraints=None, learning_rate=None, max_bin=None,\n",
              "             max_cat_threshold=None, max_cat_to_onehot=None,\n",
              "             max_delta_step=None, max_depth=None, max_leaves=None,\n",
              "             min_child_weight=None, missing=nan, monotone_constraints=None,\n",
              "             multi_strategy=None, n_estimators=None, n_jobs=None,\n",
              "             num_parallel_tree=None, random_state=None, ...)</pre></div></div></div></div></div>"
            ]
          },
          "metadata": {},
          "execution_count": 37
        }
      ]
    },
    {
      "cell_type": "code",
      "source": [
        "import xgboost as xgb\n",
        "from sklearn.model_selection import GridSearchCV\n",
        "\n",
        "# XGBRegressor 모델 초기화\n",
        "myxgb = xgb.XGBRegressor()\n",
        "\n",
        "# 파라미터 그리드 설정\n",
        "param_grid = {\n",
        "    'n_estimators': [100, 200, 300],  # 트리의 개수\n",
        "    'max_depth': [3, 6, 9],  # 트리의 최대 깊이\n",
        "    'learning_rate': [0.01, 0.1, 0.2],  # 학습률\n",
        "    'subsample': [0.8, 1.0]  # 각 트리가 학습할 때 사용하는 데이터 샘플의 비율\n",
        "}\n",
        "\n",
        "# GridSearchCV 초기화\n",
        "grid_search = GridSearchCV(estimator=myxgb, param_grid=param_grid, cv=5, scoring='neg_mean_squared_error', verbose=1, n_jobs=-1)\n",
        "\n",
        "# 최적의 파라미터를 찾기 위해 모델 학습\n",
        "grid_search.fit(X, Y)\n",
        "\n",
        "# 최적의 파라미터 출력\n",
        "print(\"Best parameters:\", grid_search.best_params_)\n",
        "\n",
        "# 최적의 파라미터로 모델 재학습\n",
        "best_xgb = grid_search.best_estimator_\n",
        "best_xgb.fit(X, Y)"
      ],
      "metadata": {
        "colab": {
          "base_uri": "https://localhost:8080/",
          "height": 285
        },
        "id": "0Uw-IjYsyxKR",
        "outputId": "69f992c3-36dc-4487-c2be-31f3971d8e38"
      },
      "execution_count": null,
      "outputs": [
        {
          "output_type": "stream",
          "name": "stdout",
          "text": [
            "Fitting 5 folds for each of 54 candidates, totalling 270 fits\n",
            "Best parameters: {'learning_rate': 0.1, 'max_depth': 3, 'n_estimators': 100, 'subsample': 1.0}\n"
          ]
        },
        {
          "output_type": "execute_result",
          "data": {
            "text/plain": [
              "XGBRegressor(base_score=None, booster=None, callbacks=None,\n",
              "             colsample_bylevel=None, colsample_bynode=None,\n",
              "             colsample_bytree=None, device=None, early_stopping_rounds=None,\n",
              "             enable_categorical=False, eval_metric=None, feature_types=None,\n",
              "             gamma=None, grow_policy=None, importance_type=None,\n",
              "             interaction_constraints=None, learning_rate=0.1, max_bin=None,\n",
              "             max_cat_threshold=None, max_cat_to_onehot=None,\n",
              "             max_delta_step=None, max_depth=3, max_leaves=None,\n",
              "             min_child_weight=None, missing=nan, monotone_constraints=None,\n",
              "             multi_strategy=None, n_estimators=100, n_jobs=None,\n",
              "             num_parallel_tree=None, random_state=None, ...)"
            ],
            "text/html": [
              "<style>#sk-container-id-12 {color: black;background-color: white;}#sk-container-id-12 pre{padding: 0;}#sk-container-id-12 div.sk-toggleable {background-color: white;}#sk-container-id-12 label.sk-toggleable__label {cursor: pointer;display: block;width: 100%;margin-bottom: 0;padding: 0.3em;box-sizing: border-box;text-align: center;}#sk-container-id-12 label.sk-toggleable__label-arrow:before {content: \"▸\";float: left;margin-right: 0.25em;color: #696969;}#sk-container-id-12 label.sk-toggleable__label-arrow:hover:before {color: black;}#sk-container-id-12 div.sk-estimator:hover label.sk-toggleable__label-arrow:before {color: black;}#sk-container-id-12 div.sk-toggleable__content {max-height: 0;max-width: 0;overflow: hidden;text-align: left;background-color: #f0f8ff;}#sk-container-id-12 div.sk-toggleable__content pre {margin: 0.2em;color: black;border-radius: 0.25em;background-color: #f0f8ff;}#sk-container-id-12 input.sk-toggleable__control:checked~div.sk-toggleable__content {max-height: 200px;max-width: 100%;overflow: auto;}#sk-container-id-12 input.sk-toggleable__control:checked~label.sk-toggleable__label-arrow:before {content: \"▾\";}#sk-container-id-12 div.sk-estimator input.sk-toggleable__control:checked~label.sk-toggleable__label {background-color: #d4ebff;}#sk-container-id-12 div.sk-label input.sk-toggleable__control:checked~label.sk-toggleable__label {background-color: #d4ebff;}#sk-container-id-12 input.sk-hidden--visually {border: 0;clip: rect(1px 1px 1px 1px);clip: rect(1px, 1px, 1px, 1px);height: 1px;margin: -1px;overflow: hidden;padding: 0;position: absolute;width: 1px;}#sk-container-id-12 div.sk-estimator {font-family: monospace;background-color: #f0f8ff;border: 1px dotted black;border-radius: 0.25em;box-sizing: border-box;margin-bottom: 0.5em;}#sk-container-id-12 div.sk-estimator:hover {background-color: #d4ebff;}#sk-container-id-12 div.sk-parallel-item::after {content: \"\";width: 100%;border-bottom: 1px solid gray;flex-grow: 1;}#sk-container-id-12 div.sk-label:hover label.sk-toggleable__label {background-color: #d4ebff;}#sk-container-id-12 div.sk-serial::before {content: \"\";position: absolute;border-left: 1px solid gray;box-sizing: border-box;top: 0;bottom: 0;left: 50%;z-index: 0;}#sk-container-id-12 div.sk-serial {display: flex;flex-direction: column;align-items: center;background-color: white;padding-right: 0.2em;padding-left: 0.2em;position: relative;}#sk-container-id-12 div.sk-item {position: relative;z-index: 1;}#sk-container-id-12 div.sk-parallel {display: flex;align-items: stretch;justify-content: center;background-color: white;position: relative;}#sk-container-id-12 div.sk-item::before, #sk-container-id-12 div.sk-parallel-item::before {content: \"\";position: absolute;border-left: 1px solid gray;box-sizing: border-box;top: 0;bottom: 0;left: 50%;z-index: -1;}#sk-container-id-12 div.sk-parallel-item {display: flex;flex-direction: column;z-index: 1;position: relative;background-color: white;}#sk-container-id-12 div.sk-parallel-item:first-child::after {align-self: flex-end;width: 50%;}#sk-container-id-12 div.sk-parallel-item:last-child::after {align-self: flex-start;width: 50%;}#sk-container-id-12 div.sk-parallel-item:only-child::after {width: 0;}#sk-container-id-12 div.sk-dashed-wrapped {border: 1px dashed gray;margin: 0 0.4em 0.5em 0.4em;box-sizing: border-box;padding-bottom: 0.4em;background-color: white;}#sk-container-id-12 div.sk-label label {font-family: monospace;font-weight: bold;display: inline-block;line-height: 1.2em;}#sk-container-id-12 div.sk-label-container {text-align: center;}#sk-container-id-12 div.sk-container {/* jupyter's `normalize.less` sets `[hidden] { display: none; }` but bootstrap.min.css set `[hidden] { display: none !important; }` so we also need the `!important` here to be able to override the default hidden behavior on the sphinx rendered scikit-learn.org. See: https://github.com/scikit-learn/scikit-learn/issues/21755 */display: inline-block !important;position: relative;}#sk-container-id-12 div.sk-text-repr-fallback {display: none;}</style><div id=\"sk-container-id-12\" class=\"sk-top-container\"><div class=\"sk-text-repr-fallback\"><pre>XGBRegressor(base_score=None, booster=None, callbacks=None,\n",
              "             colsample_bylevel=None, colsample_bynode=None,\n",
              "             colsample_bytree=None, device=None, early_stopping_rounds=None,\n",
              "             enable_categorical=False, eval_metric=None, feature_types=None,\n",
              "             gamma=None, grow_policy=None, importance_type=None,\n",
              "             interaction_constraints=None, learning_rate=0.1, max_bin=None,\n",
              "             max_cat_threshold=None, max_cat_to_onehot=None,\n",
              "             max_delta_step=None, max_depth=3, max_leaves=None,\n",
              "             min_child_weight=None, missing=nan, monotone_constraints=None,\n",
              "             multi_strategy=None, n_estimators=100, n_jobs=None,\n",
              "             num_parallel_tree=None, random_state=None, ...)</pre><b>In a Jupyter environment, please rerun this cell to show the HTML representation or trust the notebook. <br />On GitHub, the HTML representation is unable to render, please try loading this page with nbviewer.org.</b></div><div class=\"sk-container\" hidden><div class=\"sk-item\"><div class=\"sk-estimator sk-toggleable\"><input class=\"sk-toggleable__control sk-hidden--visually\" id=\"sk-estimator-id-12\" type=\"checkbox\" checked><label for=\"sk-estimator-id-12\" class=\"sk-toggleable__label sk-toggleable__label-arrow\">XGBRegressor</label><div class=\"sk-toggleable__content\"><pre>XGBRegressor(base_score=None, booster=None, callbacks=None,\n",
              "             colsample_bylevel=None, colsample_bynode=None,\n",
              "             colsample_bytree=None, device=None, early_stopping_rounds=None,\n",
              "             enable_categorical=False, eval_metric=None, feature_types=None,\n",
              "             gamma=None, grow_policy=None, importance_type=None,\n",
              "             interaction_constraints=None, learning_rate=0.1, max_bin=None,\n",
              "             max_cat_threshold=None, max_cat_to_onehot=None,\n",
              "             max_delta_step=None, max_depth=3, max_leaves=None,\n",
              "             min_child_weight=None, missing=nan, monotone_constraints=None,\n",
              "             multi_strategy=None, n_estimators=100, n_jobs=None,\n",
              "             num_parallel_tree=None, random_state=None, ...)</pre></div></div></div></div></div>"
            ]
          },
          "metadata": {},
          "execution_count": 38
        }
      ]
    },
    {
      "cell_type": "markdown",
      "source": [
        "#### RMSE로 모델 평가하기"
      ],
      "metadata": {
        "id": "42pMgy4XR9NL"
      }
    },
    {
      "cell_type": "code",
      "source": [
        "from sklearn.metrics import mean_squared_error\n",
        "\n",
        "predicted_xgb = np.exp(best_xgb.predict(X)) - 1\n",
        "MSE_xgb = mean_squared_error(Y, predicted_xgb)\n",
        "\n",
        "print(np.sqrt(MSE_xgb))"
      ],
      "metadata": {
        "colab": {
          "base_uri": "https://localhost:8080/"
        },
        "id": "bd-AG-yKR7MI",
        "outputId": "5b27248c-5bdb-4b62-ccde-27d8cae9d23a"
      },
      "execution_count": null,
      "outputs": [
        {
          "output_type": "stream",
          "name": "stdout",
          "text": [
            "578730.2166316926\n"
          ]
        }
      ]
    },
    {
      "cell_type": "markdown",
      "source": [
        "### 7. Results"
      ],
      "metadata": {
        "id": "l50fOl4sAQb8"
      }
    },
    {
      "cell_type": "markdown",
      "source": [
        "![image.png](data:image/png;base64,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)"
      ],
      "metadata": {
        "id": "F5obMRftHJq-"
      }
    },
    {
      "cell_type": "markdown",
      "source": [
        "## 8. Standard Scaler transformation & XGB or RandomForest"
      ],
      "metadata": {
        "id": "poOJVOHrxCWA"
      }
    },
    {
      "cell_type": "code",
      "source": [
        "train = pd.read_csv('/content/movies_train.csv')\n",
        "test = pd.read_csv('/content/movies_test.csv')\n",
        "submission = pd.read_csv('/content/submission.csv')"
      ],
      "metadata": {
        "id": "_ci84hX6xSaj"
      },
      "execution_count": 24,
      "outputs": []
    },
    {
      "cell_type": "markdown",
      "source": [
        "### 전처리"
      ],
      "metadata": {
        "id": "Jkd9ofn-xYc4"
      }
    },
    {
      "cell_type": "code",
      "source": [
        "train = train.fillna(0)\n",
        "test= test.fillna(0)"
      ],
      "metadata": {
        "id": "CzjCTzgzxdYX"
      },
      "execution_count": 25,
      "outputs": []
    },
    {
      "cell_type": "code",
      "source": [
        "# 감독명 : 너무 다양해서 제거\n",
        "train = train.drop(['director'],axis = 1)\n",
        "test = test.drop(['director'],axis = 1)"
      ],
      "metadata": {
        "id": "lgRhzqW7xi3V"
      },
      "execution_count": 26,
      "outputs": []
    },
    {
      "cell_type": "code",
      "source": [
        "# 제목 : 의미가 없기 때문에 제거\n",
        "train = train.drop(['title'],axis= 1)\n",
        "test = test.drop(['title'],axis= 1)"
      ],
      "metadata": {
        "id": "BCJHQpeexkod"
      },
      "execution_count": 27,
      "outputs": []
    },
    {
      "cell_type": "code",
      "source": [
        "train = train.drop(['release_time'],axis=1)\n",
        "test = test.drop(['release_time'],axis=1)"
      ],
      "metadata": {
        "id": "JR3Nx2YVxmGe"
      },
      "execution_count": 28,
      "outputs": []
    },
    {
      "cell_type": "code",
      "source": [
        "train = train.drop(['distributor','screening_rat'],axis=1)\n",
        "test = test.drop(['distributor','screening_rat'],axis=1)"
      ],
      "metadata": {
        "id": "rqTQrgP0xngD"
      },
      "execution_count": 29,
      "outputs": []
    },
    {
      "cell_type": "code",
      "source": [
        "from sklearn.preprocessing import StandardScaler\n",
        "std_scaler = StandardScaler()"
      ],
      "metadata": {
        "id": "q-TrgZEfxoim"
      },
      "execution_count": 30,
      "outputs": []
    },
    {
      "cell_type": "code",
      "source": [
        "train_x = train.drop(['box_off_num'],axis= 1)\n",
        "train_y = train['box_off_num']"
      ],
      "metadata": {
        "id": "ATK3Ihpixpff"
      },
      "execution_count": 31,
      "outputs": []
    },
    {
      "cell_type": "code",
      "source": [
        "train_x_num = std_scaler.fit_transform(train_x.iloc[:,1:].values)\n",
        "test_num = std_scaler.fit_transform(test.iloc[:,1:].values)"
      ],
      "metadata": {
        "id": "QfTGpcBaxqxI"
      },
      "execution_count": 32,
      "outputs": []
    },
    {
      "cell_type": "code",
      "source": [
        "train_x_cat = pd.get_dummies(train_x,columns=['genre'],dtype=int)\n",
        "test_cat = pd.get_dummies(test,columns=['genre'],dtype=int)"
      ],
      "metadata": {
        "id": "EovAwpbyxt-N"
      },
      "execution_count": 33,
      "outputs": []
    },
    {
      "cell_type": "code",
      "source": [
        "train_x_num = pd.DataFrame(data=train_x_num,columns=['time','dir_prev_bfnum','dir_prev_num','num_staff','num_actor'])\n",
        "test_num = pd.DataFrame(data=test_num,columns=['time','dir_prev_bfnum','dir_prev_num','num_staff','num_actor'])"
      ],
      "metadata": {
        "id": "ZObB7xlSxxew"
      },
      "execution_count": 34,
      "outputs": []
    },
    {
      "cell_type": "code",
      "source": [
        "train_x_cat=train_x_cat.iloc[:,5:]\n",
        "test_cat=test_cat.iloc[:,5:]"
      ],
      "metadata": {
        "id": "Nf_LBkWlxxbW"
      },
      "execution_count": 35,
      "outputs": []
    },
    {
      "cell_type": "code",
      "source": [
        "train_x = pd.concat([train_x_num,train_x_cat],axis=1)\n",
        "test = pd.concat([test_num,test_cat],axis=1)"
      ],
      "metadata": {
        "id": "Mc8mRn7Jx3Rh"
      },
      "execution_count": 36,
      "outputs": []
    },
    {
      "cell_type": "code",
      "source": [
        "from xgboost import XGBRegressor\n",
        "from sklearn.model_selection import GridSearchCV\n",
        "xgb = XGBRegressor(random_state=524)\n",
        "grid_search=GridSearchCV(xgb,param_grid={'n_estimators':[100,200,300],'max_depth':[10,20,30]},scoring='neg_mean_squared_error',cv=5)\n",
        "grid_search.fit(train_x,train_y)\n",
        "best_rf_model=grid_search.best_estimator_\n",
        "y_pred=best_rf_model.predict(test)"
      ],
      "metadata": {
        "id": "J5VHL-k5x5mq"
      },
      "execution_count": 38,
      "outputs": []
    },
    {
      "cell_type": "markdown",
      "source": [
        "### RMSE로 모델 평가하기"
      ],
      "metadata": {
        "id": "c2T11GFFywEO"
      }
    },
    {
      "cell_type": "code",
      "source": [
        "submission = pd.read_csv('/content/submission.csv')\n",
        "submission['box_off_num'] = y_pred\n",
        "submission"
      ],
      "metadata": {
        "colab": {
          "base_uri": "https://localhost:8080/",
          "height": 424
        },
        "id": "oUnChOQsx6cR",
        "outputId": "c0a14fb3-d4e2-4542-ecab-08a247918373"
      },
      "execution_count": 39,
      "outputs": [
        {
          "output_type": "execute_result",
          "data": {
            "text/plain": [
              "               title   box_off_num\n",
              "0             용서는 없다  1.439596e+06\n",
              "1        아빠가 여자를 좋아해  2.306039e+05\n",
              "2                하모니  8.006684e+05\n",
              "3                의형제  7.564879e+05\n",
              "4              평행 이론  4.084550e+05\n",
              "..               ...           ...\n",
              "238        해에게서 소년에게 -2.164446e+03\n",
              "239           울보 권투부  3.677181e+03\n",
              "240             어떤살인  1.798431e+05\n",
              "241        말하지 못한 비밀 -4.033453e+03\n",
              "242  조선안방 스캔들-칠거지악 2  4.360965e+03\n",
              "\n",
              "[243 rows x 2 columns]"
            ],
            "text/html": [
              "\n",
              "  <div id=\"df-f9f4eb01-934d-4ca9-bb77-7bd5e4daf96d\" class=\"colab-df-container\">\n",
              "    <div>\n",
              "<style scoped>\n",
              "    .dataframe tbody tr th:only-of-type {\n",
              "        vertical-align: middle;\n",
              "    }\n",
              "\n",
              "    .dataframe tbody tr th {\n",
              "        vertical-align: top;\n",
              "    }\n",
              "\n",
              "    .dataframe thead th {\n",
              "        text-align: right;\n",
              "    }\n",
              "</style>\n",
              "<table border=\"1\" class=\"dataframe\">\n",
              "  <thead>\n",
              "    <tr style=\"text-align: right;\">\n",
              "      <th></th>\n",
              "      <th>title</th>\n",
              "      <th>box_off_num</th>\n",
              "    </tr>\n",
              "  </thead>\n",
              "  <tbody>\n",
              "    <tr>\n",
              "      <th>0</th>\n",
              "      <td>용서는 없다</td>\n",
              "      <td>1.439596e+06</td>\n",
              "    </tr>\n",
              "    <tr>\n",
              "      <th>1</th>\n",
              "      <td>아빠가 여자를 좋아해</td>\n",
              "      <td>2.306039e+05</td>\n",
              "    </tr>\n",
              "    <tr>\n",
              "      <th>2</th>\n",
              "      <td>하모니</td>\n",
              "      <td>8.006684e+05</td>\n",
              "    </tr>\n",
              "    <tr>\n",
              "      <th>3</th>\n",
              "      <td>의형제</td>\n",
              "      <td>7.564879e+05</td>\n",
              "    </tr>\n",
              "    <tr>\n",
              "      <th>4</th>\n",
              "      <td>평행 이론</td>\n",
              "      <td>4.084550e+05</td>\n",
              "    </tr>\n",
              "    <tr>\n",
              "      <th>...</th>\n",
              "      <td>...</td>\n",
              "      <td>...</td>\n",
              "    </tr>\n",
              "    <tr>\n",
              "      <th>238</th>\n",
              "      <td>해에게서 소년에게</td>\n",
              "      <td>-2.164446e+03</td>\n",
              "    </tr>\n",
              "    <tr>\n",
              "      <th>239</th>\n",
              "      <td>울보 권투부</td>\n",
              "      <td>3.677181e+03</td>\n",
              "    </tr>\n",
              "    <tr>\n",
              "      <th>240</th>\n",
              "      <td>어떤살인</td>\n",
              "      <td>1.798431e+05</td>\n",
              "    </tr>\n",
              "    <tr>\n",
              "      <th>241</th>\n",
              "      <td>말하지 못한 비밀</td>\n",
              "      <td>-4.033453e+03</td>\n",
              "    </tr>\n",
              "    <tr>\n",
              "      <th>242</th>\n",
              "      <td>조선안방 스캔들-칠거지악 2</td>\n",
              "      <td>4.360965e+03</td>\n",
              "    </tr>\n",
              "  </tbody>\n",
              "</table>\n",
              "<p>243 rows × 2 columns</p>\n",
              "</div>\n",
              "    <div class=\"colab-df-buttons\">\n",
              "\n",
              "  <div class=\"colab-df-container\">\n",
              "    <button class=\"colab-df-convert\" onclick=\"convertToInteractive('df-f9f4eb01-934d-4ca9-bb77-7bd5e4daf96d')\"\n",
              "            title=\"Convert this dataframe to an interactive table.\"\n",
              "            style=\"display:none;\">\n",
              "\n",
              "  <svg xmlns=\"http://www.w3.org/2000/svg\" height=\"24px\" viewBox=\"0 -960 960 960\">\n",
              "    <path d=\"M120-120v-720h720v720H120Zm60-500h600v-160H180v160Zm220 220h160v-160H400v160Zm0 220h160v-160H400v160ZM180-400h160v-160H180v160Zm440 0h160v-160H620v160ZM180-180h160v-160H180v160Zm440 0h160v-160H620v160Z\"/>\n",
              "  </svg>\n",
              "    </button>\n",
              "\n",
              "  <style>\n",
              "    .colab-df-container {\n",
              "      display:flex;\n",
              "      gap: 12px;\n",
              "    }\n",
              "\n",
              "    .colab-df-convert {\n",
              "      background-color: #E8F0FE;\n",
              "      border: none;\n",
              "      border-radius: 50%;\n",
              "      cursor: pointer;\n",
              "      display: none;\n",
              "      fill: #1967D2;\n",
              "      height: 32px;\n",
              "      padding: 0 0 0 0;\n",
              "      width: 32px;\n",
              "    }\n",
              "\n",
              "    .colab-df-convert:hover {\n",
              "      background-color: #E2EBFA;\n",
              "      box-shadow: 0px 1px 2px rgba(60, 64, 67, 0.3), 0px 1px 3px 1px rgba(60, 64, 67, 0.15);\n",
              "      fill: #174EA6;\n",
              "    }\n",
              "\n",
              "    .colab-df-buttons div {\n",
              "      margin-bottom: 4px;\n",
              "    }\n",
              "\n",
              "    [theme=dark] .colab-df-convert {\n",
              "      background-color: #3B4455;\n",
              "      fill: #D2E3FC;\n",
              "    }\n",
              "\n",
              "    [theme=dark] .colab-df-convert:hover {\n",
              "      background-color: #434B5C;\n",
              "      box-shadow: 0px 1px 3px 1px rgba(0, 0, 0, 0.15);\n",
              "      filter: drop-shadow(0px 1px 2px rgba(0, 0, 0, 0.3));\n",
              "      fill: #FFFFFF;\n",
              "    }\n",
              "  </style>\n",
              "\n",
              "    <script>\n",
              "      const buttonEl =\n",
              "        document.querySelector('#df-f9f4eb01-934d-4ca9-bb77-7bd5e4daf96d button.colab-df-convert');\n",
              "      buttonEl.style.display =\n",
              "        google.colab.kernel.accessAllowed ? 'block' : 'none';\n",
              "\n",
              "      async function convertToInteractive(key) {\n",
              "        const element = document.querySelector('#df-f9f4eb01-934d-4ca9-bb77-7bd5e4daf96d');\n",
              "        const dataTable =\n",
              "          await google.colab.kernel.invokeFunction('convertToInteractive',\n",
              "                                                    [key], {});\n",
              "        if (!dataTable) return;\n",
              "\n",
              "        const docLinkHtml = 'Like what you see? Visit the ' +\n",
              "          '<a target=\"_blank\" href=https://colab.research.google.com/notebooks/data_table.ipynb>data table notebook</a>'\n",
              "          + ' to learn more about interactive tables.';\n",
              "        element.innerHTML = '';\n",
              "        dataTable['output_type'] = 'display_data';\n",
              "        await google.colab.output.renderOutput(dataTable, element);\n",
              "        const docLink = document.createElement('div');\n",
              "        docLink.innerHTML = docLinkHtml;\n",
              "        element.appendChild(docLink);\n",
              "      }\n",
              "    </script>\n",
              "  </div>\n",
              "\n",
              "\n",
              "<div id=\"df-09bd07cd-0c0d-4f5c-8cb4-7482bd02a18f\">\n",
              "  <button class=\"colab-df-quickchart\" onclick=\"quickchart('df-09bd07cd-0c0d-4f5c-8cb4-7482bd02a18f')\"\n",
              "            title=\"Suggest charts\"\n",
              "            style=\"display:none;\">\n",
              "\n",
              "<svg xmlns=\"http://www.w3.org/2000/svg\" height=\"24px\"viewBox=\"0 0 24 24\"\n",
              "     width=\"24px\">\n",
              "    <g>\n",
              "        <path d=\"M19 3H5c-1.1 0-2 .9-2 2v14c0 1.1.9 2 2 2h14c1.1 0 2-.9 2-2V5c0-1.1-.9-2-2-2zM9 17H7v-7h2v7zm4 0h-2V7h2v10zm4 0h-2v-4h2v4z\"/>\n",
              "    </g>\n",
              "</svg>\n",
              "  </button>\n",
              "\n",
              "<style>\n",
              "  .colab-df-quickchart {\n",
              "      --bg-color: #E8F0FE;\n",
              "      --fill-color: #1967D2;\n",
              "      --hover-bg-color: #E2EBFA;\n",
              "      --hover-fill-color: #174EA6;\n",
              "      --disabled-fill-color: #AAA;\n",
              "      --disabled-bg-color: #DDD;\n",
              "  }\n",
              "\n",
              "  [theme=dark] .colab-df-quickchart {\n",
              "      --bg-color: #3B4455;\n",
              "      --fill-color: #D2E3FC;\n",
              "      --hover-bg-color: #434B5C;\n",
              "      --hover-fill-color: #FFFFFF;\n",
              "      --disabled-bg-color: #3B4455;\n",
              "      --disabled-fill-color: #666;\n",
              "  }\n",
              "\n",
              "  .colab-df-quickchart {\n",
              "    background-color: var(--bg-color);\n",
              "    border: none;\n",
              "    border-radius: 50%;\n",
              "    cursor: pointer;\n",
              "    display: none;\n",
              "    fill: var(--fill-color);\n",
              "    height: 32px;\n",
              "    padding: 0;\n",
              "    width: 32px;\n",
              "  }\n",
              "\n",
              "  .colab-df-quickchart:hover {\n",
              "    background-color: var(--hover-bg-color);\n",
              "    box-shadow: 0 1px 2px rgba(60, 64, 67, 0.3), 0 1px 3px 1px rgba(60, 64, 67, 0.15);\n",
              "    fill: var(--button-hover-fill-color);\n",
              "  }\n",
              "\n",
              "  .colab-df-quickchart-complete:disabled,\n",
              "  .colab-df-quickchart-complete:disabled:hover {\n",
              "    background-color: var(--disabled-bg-color);\n",
              "    fill: var(--disabled-fill-color);\n",
              "    box-shadow: none;\n",
              "  }\n",
              "\n",
              "  .colab-df-spinner {\n",
              "    border: 2px solid var(--fill-color);\n",
              "    border-color: transparent;\n",
              "    border-bottom-color: var(--fill-color);\n",
              "    animation:\n",
              "      spin 1s steps(1) infinite;\n",
              "  }\n",
              "\n",
              "  @keyframes spin {\n",
              "    0% {\n",
              "      border-color: transparent;\n",
              "      border-bottom-color: var(--fill-color);\n",
              "      border-left-color: var(--fill-color);\n",
              "    }\n",
              "    20% {\n",
              "      border-color: transparent;\n",
              "      border-left-color: var(--fill-color);\n",
              "      border-top-color: var(--fill-color);\n",
              "    }\n",
              "    30% {\n",
              "      border-color: transparent;\n",
              "      border-left-color: var(--fill-color);\n",
              "      border-top-color: var(--fill-color);\n",
              "      border-right-color: var(--fill-color);\n",
              "    }\n",
              "    40% {\n",
              "      border-color: transparent;\n",
              "      border-right-color: var(--fill-color);\n",
              "      border-top-color: var(--fill-color);\n",
              "    }\n",
              "    60% {\n",
              "      border-color: transparent;\n",
              "      border-right-color: var(--fill-color);\n",
              "    }\n",
              "    80% {\n",
              "      border-color: transparent;\n",
              "      border-right-color: var(--fill-color);\n",
              "      border-bottom-color: var(--fill-color);\n",
              "    }\n",
              "    90% {\n",
              "      border-color: transparent;\n",
              "      border-bottom-color: var(--fill-color);\n",
              "    }\n",
              "  }\n",
              "</style>\n",
              "\n",
              "  <script>\n",
              "    async function quickchart(key) {\n",
              "      const quickchartButtonEl =\n",
              "        document.querySelector('#' + key + ' button');\n",
              "      quickchartButtonEl.disabled = true;  // To prevent multiple clicks.\n",
              "      quickchartButtonEl.classList.add('colab-df-spinner');\n",
              "      try {\n",
              "        const charts = await google.colab.kernel.invokeFunction(\n",
              "            'suggestCharts', [key], {});\n",
              "      } catch (error) {\n",
              "        console.error('Error during call to suggestCharts:', error);\n",
              "      }\n",
              "      quickchartButtonEl.classList.remove('colab-df-spinner');\n",
              "      quickchartButtonEl.classList.add('colab-df-quickchart-complete');\n",
              "    }\n",
              "    (() => {\n",
              "      let quickchartButtonEl =\n",
              "        document.querySelector('#df-09bd07cd-0c0d-4f5c-8cb4-7482bd02a18f button');\n",
              "      quickchartButtonEl.style.display =\n",
              "        google.colab.kernel.accessAllowed ? 'block' : 'none';\n",
              "    })();\n",
              "  </script>\n",
              "</div>\n",
              "\n",
              "  <div id=\"id_7c2bf55f-b8f0-4ea4-93c5-5dc197c4c856\">\n",
              "    <style>\n",
              "      .colab-df-generate {\n",
              "        background-color: #E8F0FE;\n",
              "        border: none;\n",
              "        border-radius: 50%;\n",
              "        cursor: pointer;\n",
              "        display: none;\n",
              "        fill: #1967D2;\n",
              "        height: 32px;\n",
              "        padding: 0 0 0 0;\n",
              "        width: 32px;\n",
              "      }\n",
              "\n",
              "      .colab-df-generate:hover {\n",
              "        background-color: #E2EBFA;\n",
              "        box-shadow: 0px 1px 2px rgba(60, 64, 67, 0.3), 0px 1px 3px 1px rgba(60, 64, 67, 0.15);\n",
              "        fill: #174EA6;\n",
              "      }\n",
              "\n",
              "      [theme=dark] .colab-df-generate {\n",
              "        background-color: #3B4455;\n",
              "        fill: #D2E3FC;\n",
              "      }\n",
              "\n",
              "      [theme=dark] .colab-df-generate:hover {\n",
              "        background-color: #434B5C;\n",
              "        box-shadow: 0px 1px 3px 1px rgba(0, 0, 0, 0.15);\n",
              "        filter: drop-shadow(0px 1px 2px rgba(0, 0, 0, 0.3));\n",
              "        fill: #FFFFFF;\n",
              "      }\n",
              "    </style>\n",
              "    <button class=\"colab-df-generate\" onclick=\"generateWithVariable('submission')\"\n",
              "            title=\"Generate code using this dataframe.\"\n",
              "            style=\"display:none;\">\n",
              "\n",
              "  <svg xmlns=\"http://www.w3.org/2000/svg\" height=\"24px\"viewBox=\"0 0 24 24\"\n",
              "       width=\"24px\">\n",
              "    <path d=\"M7,19H8.4L18.45,9,17,7.55,7,17.6ZM5,21V16.75L18.45,3.32a2,2,0,0,1,2.83,0l1.4,1.43a1.91,1.91,0,0,1,.58,1.4,1.91,1.91,0,0,1-.58,1.4L9.25,21ZM18.45,9,17,7.55Zm-12,3A5.31,5.31,0,0,0,4.9,8.1,5.31,5.31,0,0,0,1,6.5,5.31,5.31,0,0,0,4.9,4.9,5.31,5.31,0,0,0,6.5,1,5.31,5.31,0,0,0,8.1,4.9,5.31,5.31,0,0,0,12,6.5,5.46,5.46,0,0,0,6.5,12Z\"/>\n",
              "  </svg>\n",
              "    </button>\n",
              "    <script>\n",
              "      (() => {\n",
              "      const buttonEl =\n",
              "        document.querySelector('#id_7c2bf55f-b8f0-4ea4-93c5-5dc197c4c856 button.colab-df-generate');\n",
              "      buttonEl.style.display =\n",
              "        google.colab.kernel.accessAllowed ? 'block' : 'none';\n",
              "\n",
              "      buttonEl.onclick = () => {\n",
              "        google.colab.notebook.generateWithVariable('submission');\n",
              "      }\n",
              "      })();\n",
              "    </script>\n",
              "  </div>\n",
              "\n",
              "    </div>\n",
              "  </div>\n"
            ],
            "application/vnd.google.colaboratory.intrinsic+json": {
              "type": "dataframe",
              "variable_name": "submission",
              "summary": "{\n  \"name\": \"submission\",\n  \"rows\": 243,\n  \"fields\": [\n    {\n      \"column\": \"title\",\n      \"properties\": {\n        \"dtype\": \"string\",\n        \"num_unique_values\": 243,\n        \"samples\": [\n          \"\\ud0c8\\uc8fc\",\n          \"\\uacbd\\uacc4\\ub3c4\\uc2dc 2\",\n          \"\\uc0b4\\uc778\\uc790\"\n        ],\n        \"semantic_type\": \"\",\n        \"description\": \"\"\n      }\n    },\n    {\n      \"column\": \"box_off_num\",\n      \"properties\": {\n        \"dtype\": \"float32\",\n        \"num_unique_values\": 237,\n        \"samples\": [\n          487510.78125,\n          754781.625,\n          850846.875\n        ],\n        \"semantic_type\": \"\",\n        \"description\": \"\"\n      }\n    }\n  ]\n}"
            }
          },
          "metadata": {},
          "execution_count": 39
        }
      ]
    },
    {
      "cell_type": "code",
      "source": [
        "submission.to_csv('submission.csv',index=False)"
      ],
      "metadata": {
        "id": "wyy8Jr7yx7qL"
      },
      "execution_count": 40,
      "outputs": []
    },
    {
      "cell_type": "markdown",
      "source": [
        "![image.png](data:image/png;base64,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)"
      ],
      "metadata": {
        "id": "SToErSvJzdiy"
      }
    },
    {
      "cell_type": "markdown",
      "source": [
        "< RMSE >\n",
        "\n",
        "Standard Scaler + XGBoost = 1665499.49\n",
        "\n",
        "Standard Scaler + RandomForest = 1664604.21"
      ],
      "metadata": {
        "id": "1DdcRRNrzrmX"
      }
    },
    {
      "cell_type": "markdown",
      "source": [
        "# 5.submission"
      ],
      "metadata": {
        "id": "dDmeRV7XdlUy"
      }
    },
    {
      "cell_type": "markdown",
      "source": [
        "성능이 가장 좋았던 XGB로 제출"
      ],
      "metadata": {
        "id": "mj4XE2r0ykgX"
      }
    },
    {
      "cell_type": "code",
      "source": [
        "test_new = test.drop(columns=[\"title\",\"distributor\",\"release_time\", \"director\"])"
      ],
      "metadata": {
        "id": "2zueIcRKfGjJ"
      },
      "execution_count": null,
      "outputs": []
    },
    {
      "cell_type": "code",
      "source": [
        "test_new.info()"
      ],
      "metadata": {
        "colab": {
          "base_uri": "https://localhost:8080/"
        },
        "id": "pgvlByyWML7C",
        "outputId": "8a0cf182-999f-4a49-c282-c65b10c3dd64"
      },
      "execution_count": null,
      "outputs": [
        {
          "output_type": "stream",
          "name": "stdout",
          "text": [
            "<class 'pandas.core.frame.DataFrame'>\n",
            "RangeIndex: 243 entries, 0 to 242\n",
            "Data columns (total 40 columns):\n",
            " #   Column                  Non-Null Count  Dtype  \n",
            "---  ------                  --------------  -----  \n",
            " 0   time                    243 non-null    int64  \n",
            " 1   dir_prev_bfnum          243 non-null    float64\n",
            " 2   dir_prev_num            243 non-null    int64  \n",
            " 3   num_staff               243 non-null    int64  \n",
            " 4   num_actor               243 non-null    float64\n",
            " 5   genre_SF                243 non-null    int64  \n",
            " 6   genre_공포                243 non-null    int64  \n",
            " 7   genre_느와르               243 non-null    int64  \n",
            " 8   genre_다큐멘터리             243 non-null    int64  \n",
            " 9   genre_드라마               243 non-null    int64  \n",
            " 10  genre_멜로/로맨스            243 non-null    int64  \n",
            " 11  genre_뮤지컬               243 non-null    int64  \n",
            " 12  genre_미스터리              243 non-null    int64  \n",
            " 13  genre_서스펜스              243 non-null    int64  \n",
            " 14  genre_애니메이션             243 non-null    int64  \n",
            " 15  genre_액션                243 non-null    int64  \n",
            " 16  genre_코미디               243 non-null    int64  \n",
            " 17  screening_rat_12세 관람가   243 non-null    int64  \n",
            " 18  screening_rat_15세 관람가   243 non-null    int64  \n",
            " 19  screening_rat_전체 관람가    243 non-null    int64  \n",
            " 20  screening_rat_청소년 관람불가  243 non-null    int64  \n",
            " 21  release_year_2010       243 non-null    int64  \n",
            " 22  release_year_2011       243 non-null    int64  \n",
            " 23  release_year_2012       243 non-null    int64  \n",
            " 24  release_year_2013       243 non-null    int64  \n",
            " 25  release_year_2014       243 non-null    int64  \n",
            " 26  release_year_2015       243 non-null    int64  \n",
            " 27  release_month_1         243 non-null    int64  \n",
            " 28  release_month_2         243 non-null    int64  \n",
            " 29  release_month_3         243 non-null    int64  \n",
            " 30  release_month_4         243 non-null    int64  \n",
            " 31  release_month_5         243 non-null    int64  \n",
            " 32  release_month_6         243 non-null    int64  \n",
            " 33  release_month_7         243 non-null    int64  \n",
            " 34  release_month_8         243 non-null    int64  \n",
            " 35  release_month_9         243 non-null    int64  \n",
            " 36  release_month_10        243 non-null    int64  \n",
            " 37  release_month_11        243 non-null    int64  \n",
            " 38  release_month_12        243 non-null    int64  \n",
            " 39  num_rank                210 non-null    float64\n",
            "dtypes: float64(3), int64(37)\n",
            "memory usage: 76.1 KB\n"
          ]
        }
      ]
    },
    {
      "cell_type": "code",
      "source": [
        "# test_new 데이터셋에 대한 예측 수행\n",
        "predicted_log = best_xgb.predict(test_new)\n",
        "\n",
        "# 예측된 로그 변환된 값을 역변환하여 원래의 범위로 복원\n",
        "predicted_original = np.exp(predicted_log) - 1"
      ],
      "metadata": {
        "id": "EimxtUCMmdSF"
      },
      "execution_count": null,
      "outputs": []
    },
    {
      "cell_type": "code",
      "source": [
        "submission['box_off_num'] = predicted_original"
      ],
      "metadata": {
        "id": "-ktpLlWFmwQX"
      },
      "execution_count": null,
      "outputs": []
    },
    {
      "cell_type": "code",
      "source": [
        "submission.to_csv('result.csv',index = False, encoding = 'utf-8-sig')"
      ],
      "metadata": {
        "id": "DkBb3r2_M0wm"
      },
      "execution_count": null,
      "outputs": []
    },
    {
      "cell_type": "markdown",
      "source": [
        "![image.png](data:image/png;base64,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)"
      ],
      "metadata": {
        "id": "PZbbf_0nz9pH"
      }
    },
    {
      "cell_type": "markdown",
      "source": [
        "< RMSE >\n",
        "\n",
        "\n",
        "log transformation + xgb = 1281360.80"
      ],
      "metadata": {
        "id": "ZSGm0pwqz-xB"
      }
    }
  ]
}